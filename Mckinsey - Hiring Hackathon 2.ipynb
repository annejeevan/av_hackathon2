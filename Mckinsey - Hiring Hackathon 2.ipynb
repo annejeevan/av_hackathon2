{
 "cells": [
  {
   "cell_type": "code",
   "execution_count": 102,
   "metadata": {},
   "outputs": [],
   "source": [
    "#loading necessary libraries\n",
    "from sklearn.preprocessing import LabelEncoder\n",
    "from sklearn.ensemble import RandomForestClassifier\n",
    "from sklearn.linear_model import LogisticRegression\n",
    "from sklearn.cross_validation import cross_val_score, cross_val_predict\n",
    "import pandas as pd\n",
    "import numpy as np\n",
    "from sklearn import preprocessing\n",
    "from sklearn.metrics import roc_curve, auc\n",
    "import pandas as pd\n",
    "from sklearn import ensemble\n",
    "import random\n",
    "import xgboost as xgb\n",
    "from scipy.stats import rankdata\n",
    "\n"
   ]
  },
  {
   "cell_type": "code",
   "execution_count": 35,
   "metadata": {},
   "outputs": [
    {
     "name": "stdout",
     "output_type": "stream",
     "text": [
      "Train dataset dimensions: (69713, 25)\n",
      "Test dataset dimensions: (30037, 25)\n"
     ]
    }
   ],
   "source": [
    "#importing the datasets\n",
    "train = pd.read_csv(\"train_1.csv\")\n",
    "test = pd.read_csv(\"test_1.csv\")\n",
    "submission = pd.read_csv(\"Sample_Solution_Yrq0zGh.csv\")\n",
    "print \"Train dataset dimensions:\", train.shape\n",
    "print \"Test dataset dimensions:\", test.shape"
   ]
  },
  {
   "cell_type": "code",
   "execution_count": 36,
   "metadata": {},
   "outputs": [],
   "source": [
    "#making copies\n",
    "train_1 = train.copy()\n",
    "test_1 = test.copy()"
   ]
  },
  {
   "cell_type": "code",
   "execution_count": 37,
   "metadata": {},
   "outputs": [
    {
     "data": {
      "text/html": [
       "<div>\n",
       "<style scoped>\n",
       "    .dataframe tbody tr th:only-of-type {\n",
       "        vertical-align: middle;\n",
       "    }\n",
       "\n",
       "    .dataframe tbody tr th {\n",
       "        vertical-align: top;\n",
       "    }\n",
       "\n",
       "    .dataframe thead th {\n",
       "        text-align: right;\n",
       "    }\n",
       "</style>\n",
       "<table border=\"1\" class=\"dataframe\">\n",
       "  <thead>\n",
       "    <tr style=\"text-align: right;\">\n",
       "      <th></th>\n",
       "      <th>City_Code</th>\n",
       "      <th>City_Category</th>\n",
       "      <th>Employer_Code</th>\n",
       "      <th>Employer_Category1</th>\n",
       "      <th>Employer_Category2</th>\n",
       "      <th>Monthly_Income</th>\n",
       "      <th>Customer_Existing_Primary_Bank_Code</th>\n",
       "      <th>Primary_Bank_Type</th>\n",
       "      <th>Contacted</th>\n",
       "      <th>Source</th>\n",
       "      <th>...</th>\n",
       "      <th>EMI</th>\n",
       "      <th>Var1</th>\n",
       "      <th>Approved</th>\n",
       "      <th>is_male</th>\n",
       "      <th>age</th>\n",
       "      <th>DOB_month</th>\n",
       "      <th>DOB_year</th>\n",
       "      <th>Lead_Creation_day</th>\n",
       "      <th>Lead_Creation_month</th>\n",
       "      <th>Lead_Creation_year</th>\n",
       "    </tr>\n",
       "  </thead>\n",
       "  <tbody>\n",
       "    <tr>\n",
       "      <th>0</th>\n",
       "      <td>C10001</td>\n",
       "      <td>A</td>\n",
       "      <td>Others</td>\n",
       "      <td>A</td>\n",
       "      <td>4.0</td>\n",
       "      <td>2000.0</td>\n",
       "      <td>B001</td>\n",
       "      <td>P</td>\n",
       "      <td>N</td>\n",
       "      <td>S122</td>\n",
       "      <td>...</td>\n",
       "      <td>NaN</td>\n",
       "      <td>0</td>\n",
       "      <td>0</td>\n",
       "      <td>0</td>\n",
       "      <td>37.0</td>\n",
       "      <td>7.0</td>\n",
       "      <td>1979.0</td>\n",
       "      <td>15</td>\n",
       "      <td>7</td>\n",
       "      <td>2016</td>\n",
       "    </tr>\n",
       "    <tr>\n",
       "      <th>1</th>\n",
       "      <td>C10003</td>\n",
       "      <td>A</td>\n",
       "      <td>COM0000002</td>\n",
       "      <td>C</td>\n",
       "      <td>1.0</td>\n",
       "      <td>3500.0</td>\n",
       "      <td>B002</td>\n",
       "      <td>P</td>\n",
       "      <td>Y</td>\n",
       "      <td>S122</td>\n",
       "      <td>...</td>\n",
       "      <td>953.0</td>\n",
       "      <td>10</td>\n",
       "      <td>0</td>\n",
       "      <td>1</td>\n",
       "      <td>30.0</td>\n",
       "      <td>12.0</td>\n",
       "      <td>1986.0</td>\n",
       "      <td>4</td>\n",
       "      <td>7</td>\n",
       "      <td>2016</td>\n",
       "    </tr>\n",
       "    <tr>\n",
       "      <th>2</th>\n",
       "      <td>Others</td>\n",
       "      <td>C</td>\n",
       "      <td>Others</td>\n",
       "      <td>C</td>\n",
       "      <td>4.0</td>\n",
       "      <td>2250.0</td>\n",
       "      <td>B003</td>\n",
       "      <td>G</td>\n",
       "      <td>Y</td>\n",
       "      <td>S143</td>\n",
       "      <td>...</td>\n",
       "      <td>NaN</td>\n",
       "      <td>0</td>\n",
       "      <td>0</td>\n",
       "      <td>1</td>\n",
       "      <td>34.0</td>\n",
       "      <td>12.0</td>\n",
       "      <td>1982.0</td>\n",
       "      <td>19</td>\n",
       "      <td>7</td>\n",
       "      <td>2016</td>\n",
       "    </tr>\n",
       "    <tr>\n",
       "      <th>3</th>\n",
       "      <td>Others</td>\n",
       "      <td>C</td>\n",
       "      <td>Others</td>\n",
       "      <td>A</td>\n",
       "      <td>4.0</td>\n",
       "      <td>3500.0</td>\n",
       "      <td>B003</td>\n",
       "      <td>G</td>\n",
       "      <td>Y</td>\n",
       "      <td>S143</td>\n",
       "      <td>...</td>\n",
       "      <td>NaN</td>\n",
       "      <td>7</td>\n",
       "      <td>0</td>\n",
       "      <td>1</td>\n",
       "      <td>27.0</td>\n",
       "      <td>1.0</td>\n",
       "      <td>1989.0</td>\n",
       "      <td>9</td>\n",
       "      <td>7</td>\n",
       "      <td>2016</td>\n",
       "    </tr>\n",
       "    <tr>\n",
       "      <th>4</th>\n",
       "      <td>C10002</td>\n",
       "      <td>A</td>\n",
       "      <td>Others</td>\n",
       "      <td>A</td>\n",
       "      <td>4.0</td>\n",
       "      <td>10000.0</td>\n",
       "      <td>B001</td>\n",
       "      <td>P</td>\n",
       "      <td>Y</td>\n",
       "      <td>S134</td>\n",
       "      <td>...</td>\n",
       "      <td>NaN</td>\n",
       "      <td>10</td>\n",
       "      <td>0</td>\n",
       "      <td>1</td>\n",
       "      <td>31.0</td>\n",
       "      <td>4.0</td>\n",
       "      <td>1985.0</td>\n",
       "      <td>20</td>\n",
       "      <td>7</td>\n",
       "      <td>2016</td>\n",
       "    </tr>\n",
       "  </tbody>\n",
       "</table>\n",
       "<p>5 rows × 25 columns</p>\n",
       "</div>"
      ],
      "text/plain": [
       "  City_Code City_Category Employer_Code Employer_Category1  \\\n",
       "0    C10001             A        Others                  A   \n",
       "1    C10003             A    COM0000002                  C   \n",
       "2    Others             C        Others                  C   \n",
       "3    Others             C        Others                  A   \n",
       "4    C10002             A        Others                  A   \n",
       "\n",
       "   Employer_Category2  Monthly_Income Customer_Existing_Primary_Bank_Code  \\\n",
       "0                 4.0          2000.0                                B001   \n",
       "1                 1.0          3500.0                                B002   \n",
       "2                 4.0          2250.0                                B003   \n",
       "3                 4.0          3500.0                                B003   \n",
       "4                 4.0         10000.0                                B001   \n",
       "\n",
       "  Primary_Bank_Type Contacted Source         ...            EMI  Var1  \\\n",
       "0                 P         N   S122         ...            NaN     0   \n",
       "1                 P         Y   S122         ...          953.0    10   \n",
       "2                 G         Y   S143         ...            NaN     0   \n",
       "3                 G         Y   S143         ...            NaN     7   \n",
       "4                 P         Y   S134         ...            NaN    10   \n",
       "\n",
       "   Approved  is_male   age  DOB_month  DOB_year  Lead_Creation_day  \\\n",
       "0         0        0  37.0        7.0    1979.0                 15   \n",
       "1         0        1  30.0       12.0    1986.0                  4   \n",
       "2         0        1  34.0       12.0    1982.0                 19   \n",
       "3         0        1  27.0        1.0    1989.0                  9   \n",
       "4         0        1  31.0        4.0    1985.0                 20   \n",
       "\n",
       "   Lead_Creation_month  Lead_Creation_year  \n",
       "0                    7                2016  \n",
       "1                    7                2016  \n",
       "2                    7                2016  \n",
       "3                    7                2016  \n",
       "4                    7                2016  \n",
       "\n",
       "[5 rows x 25 columns]"
      ]
     },
     "execution_count": 37,
     "metadata": {},
     "output_type": "execute_result"
    }
   ],
   "source": [
    "train.head()"
   ]
  },
  {
   "cell_type": "code",
   "execution_count": 38,
   "metadata": {},
   "outputs": [
    {
     "data": {
      "text/plain": [
       "(City_Code                               object\n",
       " City_Category                           object\n",
       " Employer_Code                           object\n",
       " Employer_Category1                      object\n",
       " Employer_Category2                     float64\n",
       " Monthly_Income                         float64\n",
       " Customer_Existing_Primary_Bank_Code     object\n",
       " Primary_Bank_Type                       object\n",
       " Contacted                               object\n",
       " Source                                  object\n",
       " Source_Category                         object\n",
       " Existing_EMI                           float64\n",
       " Loan_Amount                            float64\n",
       " Loan_Period                            float64\n",
       " Interest_Rate                          float64\n",
       " EMI                                    float64\n",
       " Var1                                     int64\n",
       " Approved                                 int64\n",
       " is_male                                  int64\n",
       " age                                    float64\n",
       " DOB_month                              float64\n",
       " DOB_year                               float64\n",
       " Lead_Creation_day                        int64\n",
       " Lead_Creation_month                      int64\n",
       " Lead_Creation_year                       int64\n",
       " dtype: object, ID                                      object\n",
       " City_Code                               object\n",
       " City_Category                           object\n",
       " Employer_Code                           object\n",
       " Employer_Category1                      object\n",
       " Employer_Category2                     float64\n",
       " Monthly_Income                         float64\n",
       " Customer_Existing_Primary_Bank_Code     object\n",
       " Primary_Bank_Type                       object\n",
       " Contacted                               object\n",
       " Source                                  object\n",
       " Source_Category                         object\n",
       " Existing_EMI                           float64\n",
       " Loan_Amount                            float64\n",
       " Loan_Period                            float64\n",
       " Interest_Rate                          float64\n",
       " EMI                                    float64\n",
       " Var1                                     int64\n",
       " is_male                                  int64\n",
       " age                                    float64\n",
       " DOB_month                              float64\n",
       " DOB_year                               float64\n",
       " Lead_Creation_day                        int64\n",
       " Lead_Creation_month                      int64\n",
       " Lead_Creation_year                       int64\n",
       " dtype: object)"
      ]
     },
     "execution_count": 38,
     "metadata": {},
     "output_type": "execute_result"
    }
   ],
   "source": [
    "train_1.dtypes,test_1.dtypes"
   ]
  },
  {
   "cell_type": "markdown",
   "metadata": {},
   "source": [
    "## Train Data Manipulation"
   ]
  },
  {
   "cell_type": "code",
   "execution_count": 39,
   "metadata": {},
   "outputs": [],
   "source": [
    "label = train_1['Approved']\n",
    "\n",
    "dropCols = ['Approved']\n",
    "train_1.drop(dropCols, axis=1, inplace = True)"
   ]
  },
  {
   "cell_type": "code",
   "execution_count": 40,
   "metadata": {},
   "outputs": [],
   "source": [
    "le = LabelEncoder()\n",
    "train_1['City_encoded'] = le.fit_transform(train_1['City_Code'])"
   ]
  },
  {
   "cell_type": "code",
   "execution_count": 41,
   "metadata": {},
   "outputs": [],
   "source": [
    "y_train = label\n",
    "X_train = pd.get_dummies(train_1)"
   ]
  },
  {
   "cell_type": "code",
   "execution_count": 50,
   "metadata": {},
   "outputs": [
    {
     "data": {
      "text/plain": [
       "Employer_Category2     float64\n",
       "Monthly_Income         float64\n",
       "Existing_EMI           float64\n",
       "Loan_Amount            float64\n",
       "Loan_Period            float64\n",
       "Interest_Rate          float64\n",
       "EMI                    float64\n",
       "Var1                     int64\n",
       "is_male                  int64\n",
       "age                    float64\n",
       "DOB_month              float64\n",
       "DOB_year               float64\n",
       "Lead_Creation_day        int64\n",
       "Lead_Creation_month      int64\n",
       "Lead_Creation_year       int64\n",
       "City_encoded             int64\n",
       "City_Code_C10001         uint8\n",
       "City_Code_C10002         uint8\n",
       "City_Code_C10003         uint8\n",
       "City_Code_C10004         uint8\n",
       "City_Code_C10005         uint8\n",
       "City_Code_C10006         uint8\n",
       "City_Code_C10007         uint8\n",
       "City_Code_C10008         uint8\n",
       "City_Code_C10009         uint8\n",
       "City_Code_C10010         uint8\n",
       "City_Code_C10011         uint8\n",
       "City_Code_C10012         uint8\n",
       "City_Code_C10013         uint8\n",
       "City_Code_C10014         uint8\n",
       "                        ...   \n",
       "Primary_Bank_Type_G      uint8\n",
       "Primary_Bank_Type_P      uint8\n",
       "Contacted_N              uint8\n",
       "Contacted_Y              uint8\n",
       "Source_Others            uint8\n",
       "Source_S122              uint8\n",
       "Source_S123              uint8\n",
       "Source_S124              uint8\n",
       "Source_S127              uint8\n",
       "Source_S133              uint8\n",
       "Source_S134              uint8\n",
       "Source_S137              uint8\n",
       "Source_S141              uint8\n",
       "Source_S143              uint8\n",
       "Source_S144              uint8\n",
       "Source_S151              uint8\n",
       "Source_S153              uint8\n",
       "Source_S156              uint8\n",
       "Source_S157              uint8\n",
       "Source_S158              uint8\n",
       "Source_S159              uint8\n",
       "Source_S161              uint8\n",
       "Source_S162              uint8\n",
       "Source_Category_A        uint8\n",
       "Source_Category_B        uint8\n",
       "Source_Category_C        uint8\n",
       "Source_Category_D        uint8\n",
       "Source_Category_E        uint8\n",
       "Source_Category_F        uint8\n",
       "Source_Category_G        uint8\n",
       "Length: 304, dtype: object"
      ]
     },
     "execution_count": 50,
     "metadata": {},
     "output_type": "execute_result"
    }
   ],
   "source": [
    "X_train.dtypes"
   ]
  },
  {
   "cell_type": "code",
   "execution_count": null,
   "metadata": {},
   "outputs": [],
   "source": []
  },
  {
   "cell_type": "markdown",
   "metadata": {},
   "source": [
    "## Test Data Manipulation"
   ]
  },
  {
   "cell_type": "code",
   "execution_count": 43,
   "metadata": {},
   "outputs": [
    {
     "data": {
      "text/plain": [
       "ID                                      object\n",
       "City_Code                               object\n",
       "City_Category                           object\n",
       "Employer_Code                           object\n",
       "Employer_Category1                      object\n",
       "Employer_Category2                     float64\n",
       "Monthly_Income                         float64\n",
       "Customer_Existing_Primary_Bank_Code     object\n",
       "Primary_Bank_Type                       object\n",
       "Contacted                               object\n",
       "Source                                  object\n",
       "Source_Category                         object\n",
       "Existing_EMI                           float64\n",
       "Loan_Amount                            float64\n",
       "Loan_Period                            float64\n",
       "Interest_Rate                          float64\n",
       "EMI                                    float64\n",
       "Var1                                     int64\n",
       "is_male                                  int64\n",
       "age                                    float64\n",
       "DOB_month                              float64\n",
       "DOB_year                               float64\n",
       "Lead_Creation_day                        int64\n",
       "Lead_Creation_month                      int64\n",
       "Lead_Creation_year                       int64\n",
       "dtype: object"
      ]
     },
     "execution_count": 43,
     "metadata": {},
     "output_type": "execute_result"
    }
   ],
   "source": [
    "test_1.dtypes"
   ]
  },
  {
   "cell_type": "code",
   "execution_count": 44,
   "metadata": {},
   "outputs": [],
   "source": [
    "test_1['ID'].to_csv(\"test_ids.csv\", index = False)"
   ]
  },
  {
   "cell_type": "code",
   "execution_count": 45,
   "metadata": {},
   "outputs": [],
   "source": [
    "dropCols = ['ID']\n",
    "test_1.drop(dropCols, axis=1, inplace = True)"
   ]
  },
  {
   "cell_type": "code",
   "execution_count": 46,
   "metadata": {},
   "outputs": [],
   "source": [
    "test_1['City_encoded'] = le.fit_transform(test_1['City_Code'])"
   ]
  },
  {
   "cell_type": "code",
   "execution_count": 47,
   "metadata": {},
   "outputs": [],
   "source": [
    "X_test = pd.get_dummies(test_1)\n",
    "missingCols = list(set(X_train.columns)-set(X_test.columns))\n",
    "for col in missingCols:\n",
    "    X_test[col] = 0\n",
    "X_test = X_test[X_train.columns]\n",
    "assert X_train.columns.equals(X_test.columns)"
   ]
  },
  {
   "cell_type": "code",
   "execution_count": 49,
   "metadata": {},
   "outputs": [
    {
     "data": {
      "text/plain": [
       "Employer_Category2     float64\n",
       "Monthly_Income         float64\n",
       "Existing_EMI           float64\n",
       "Loan_Amount            float64\n",
       "Loan_Period            float64\n",
       "Interest_Rate          float64\n",
       "EMI                    float64\n",
       "Var1                     int64\n",
       "is_male                  int64\n",
       "age                    float64\n",
       "DOB_month              float64\n",
       "DOB_year               float64\n",
       "Lead_Creation_day        int64\n",
       "Lead_Creation_month      int64\n",
       "Lead_Creation_year       int64\n",
       "City_encoded             int64\n",
       "City_Code_C10001         uint8\n",
       "City_Code_C10002         uint8\n",
       "City_Code_C10003         uint8\n",
       "City_Code_C10004         uint8\n",
       "City_Code_C10005         uint8\n",
       "City_Code_C10006         uint8\n",
       "City_Code_C10007         uint8\n",
       "City_Code_C10008         uint8\n",
       "City_Code_C10009         uint8\n",
       "City_Code_C10010         uint8\n",
       "City_Code_C10011         uint8\n",
       "City_Code_C10012         uint8\n",
       "City_Code_C10013         uint8\n",
       "City_Code_C10014         uint8\n",
       "                        ...   \n",
       "Primary_Bank_Type_G      uint8\n",
       "Primary_Bank_Type_P      uint8\n",
       "Contacted_N              uint8\n",
       "Contacted_Y              uint8\n",
       "Source_Others            uint8\n",
       "Source_S122              uint8\n",
       "Source_S123              uint8\n",
       "Source_S124              uint8\n",
       "Source_S127              uint8\n",
       "Source_S133              uint8\n",
       "Source_S134              uint8\n",
       "Source_S137              uint8\n",
       "Source_S141              uint8\n",
       "Source_S143              uint8\n",
       "Source_S144              uint8\n",
       "Source_S151              uint8\n",
       "Source_S153              uint8\n",
       "Source_S156              uint8\n",
       "Source_S157              uint8\n",
       "Source_S158              uint8\n",
       "Source_S159              uint8\n",
       "Source_S161              uint8\n",
       "Source_S162              uint8\n",
       "Source_Category_A        uint8\n",
       "Source_Category_B        uint8\n",
       "Source_Category_C        uint8\n",
       "Source_Category_D        uint8\n",
       "Source_Category_E        uint8\n",
       "Source_Category_F        uint8\n",
       "Source_Category_G        uint8\n",
       "Length: 304, dtype: object"
      ]
     },
     "execution_count": 49,
     "metadata": {},
     "output_type": "execute_result"
    }
   ],
   "source": [
    "X_test.dtypes"
   ]
  },
  {
   "cell_type": "markdown",
   "metadata": {},
   "source": [
    "# Model Building"
   ]
  },
  {
   "cell_type": "code",
   "execution_count": 56,
   "metadata": {},
   "outputs": [],
   "source": [
    "test_ids = pd.read_csv(\"test_ids.csv\", header = None)\n",
    "test_ids = list(test_ids.iloc[:,0])"
   ]
  },
  {
   "cell_type": "markdown",
   "metadata": {},
   "source": [
    "## XGBoost"
   ]
  },
  {
   "cell_type": "markdown",
   "metadata": {},
   "source": [
    "#### XGB1"
   ]
  },
  {
   "cell_type": "code",
   "execution_count": 55,
   "metadata": {},
   "outputs": [],
   "source": [
    "params = {'booster':'gbtree', 'objective':'binary:logistic', 'max_depth':9, 'eval_metric':'logloss',\n",
    "          'eta':0.02, 'silent':1, 'nthread':4, 'subsample': 0.9, 'colsample_bytree':0.9, 'scale_pos_weight': 1,\n",
    "          'min_child_weight':3, 'max_delta_step':3}\n",
    "num_rounds = 400\n",
    "\n",
    "params['seed'] = 123 \n",
    "dtrain = xgb.DMatrix(X_train, y_train, missing=np.nan)\n",
    "# xgb.cv(params, dtrain, num_rounds, nfold=4)\n",
    "# exit()\n",
    "\n",
    "clf = xgb.train(params, dtrain, num_rounds)\n",
    "dtest = xgb.DMatrix(X_test, missing = np.nan)\n",
    "test_preds = clf.predict(dtest)"
   ]
  },
  {
   "cell_type": "code",
   "execution_count": 60,
   "metadata": {},
   "outputs": [],
   "source": [
    "submission = pd.DataFrame({ 'ID':test_ids, 'Approved':test_preds})\n",
    "submission = submission[['ID', 'Approved']]\n",
    "submission.to_csv(\"submissions/xgb_1.csv\", index = False)"
   ]
  },
  {
   "cell_type": "markdown",
   "metadata": {},
   "source": [
    "#### XGB1.1"
   ]
  },
  {
   "cell_type": "code",
   "execution_count": 61,
   "metadata": {},
   "outputs": [],
   "source": [
    "params = {'booster':'gbtree', 'objective':'binary:logistic', 'max_depth':9, 'eval_metric':'auc',\n",
    "          'eta':0.02, 'silent':1, 'nthread':4, 'subsample': 0.9, 'colsample_bytree':0.9, 'scale_pos_weight': 1,\n",
    "          'min_child_weight':3, 'max_delta_step':3}\n",
    "num_rounds = 400\n",
    "\n",
    "params['seed'] = 1234\n",
    "dtrain = xgb.DMatrix(X_train, y_train, missing=np.nan)\n",
    "# xgb.cv(params, dtrain, num_rounds, nfold=4)\n",
    "# exit()\n",
    "\n",
    "clf = xgb.train(params, dtrain, num_rounds)\n",
    "dtest = xgb.DMatrix(X_test, missing = np.nan)\n",
    "test_preds_xgb = clf.predict(dtest)\n",
    "\n",
    "submission = pd.DataFrame({ 'ID':test_ids, 'Approved':test_preds_xgb})\n",
    "submission = submission[['ID', 'Approved']]\n",
    "submission.to_csv(\"submissions/xgb_1_1.csv\", index = False)\n"
   ]
  },
  {
   "cell_type": "markdown",
   "metadata": {},
   "source": [
    "#### XGB1.2"
   ]
  },
  {
   "cell_type": "code",
   "execution_count": 62,
   "metadata": {},
   "outputs": [],
   "source": [
    "params = {'booster':'gbtree', 'objective':'binary:logistic', 'max_depth':9, 'eval_metric':'auc',\n",
    "          'eta':0.02, 'silent':1, 'nthread':4, 'subsample': 0.9, 'colsample_bytree':0.9, 'scale_pos_weight': 1,\n",
    "          'min_child_weight':3, 'max_delta_step':3}\n",
    "num_rounds = 400\n",
    "\n",
    "params['seed'] = 12345\n",
    "dtrain = xgb.DMatrix(X_train, y_train, missing=np.nan)\n",
    "# xgb.cv(params, dtrain, num_rounds, nfold=4)\n",
    "# exit()\n",
    "\n",
    "clf = xgb.train(params, dtrain, num_rounds)\n",
    "dtest = xgb.DMatrix(X_test, missing = np.nan)\n",
    "test_preds_xgb = clf.predict(dtest)\n",
    "\n",
    "submission = pd.DataFrame({ 'ID':test_ids, 'Approved':test_preds_xgb})\n",
    "submission = submission[['ID', 'Approved']]\n",
    "submission.to_csv(\"submissions/xgb_1_2.csv\", index = False)"
   ]
  },
  {
   "cell_type": "markdown",
   "metadata": {},
   "source": [
    "#### XGB1.3"
   ]
  },
  {
   "cell_type": "code",
   "execution_count": 63,
   "metadata": {},
   "outputs": [],
   "source": [
    "params = {'booster':'gbtree', 'objective':'binary:logistic', 'max_depth':9, 'eval_metric':'auc',\n",
    "          'eta':0.02, 'silent':1, 'nthread':4, 'subsample': 0.9, 'colsample_bytree':0.9, 'scale_pos_weight': 1,\n",
    "          'min_child_weight':3, 'max_delta_step':3}\n",
    "num_rounds = 400\n",
    "\n",
    "params['seed'] = 123456\n",
    "dtrain = xgb.DMatrix(X_train, y_train, missing=np.nan)\n",
    "# xgb.cv(params, dtrain, num_rounds, nfold=4)\n",
    "# exit()\n",
    "\n",
    "clf = xgb.train(params, dtrain, num_rounds)\n",
    "dtest = xgb.DMatrix(X_test, missing = np.nan)\n",
    "test_preds_xgb = clf.predict(dtest)\n",
    "\n",
    "submission = pd.DataFrame({ 'ID':test_ids, 'Approved':test_preds_xgb})\n",
    "submission = submission[['ID', 'Approved']]\n",
    "submission.to_csv(\"submissions/xgb_1_3.csv\", index = False)\n"
   ]
  },
  {
   "cell_type": "markdown",
   "metadata": {},
   "source": [
    "#### XGB1.4"
   ]
  },
  {
   "cell_type": "code",
   "execution_count": 64,
   "metadata": {},
   "outputs": [],
   "source": [
    "params = {'booster':'gbtree', 'objective':'binary:logistic', 'max_depth':9, 'eval_metric':'auc',\n",
    "          'eta':0.02, 'silent':1, 'nthread':4, 'subsample': 0.9, 'colsample_bytree':0.9, 'scale_pos_weight': 1,\n",
    "          'min_child_weight':3, 'max_delta_step':3}\n",
    "num_rounds = 400\n",
    "\n",
    "params['seed'] = 1234567\n",
    "dtrain = xgb.DMatrix(X_train, y_train, missing=np.nan)\n",
    "# xgb.cv(params, dtrain, num_rounds, nfold=4)\n",
    "# exit()\n",
    "\n",
    "clf = xgb.train(params, dtrain, num_rounds)\n",
    "dtest = xgb.DMatrix(X_test, missing = np.nan)\n",
    "test_preds_xgb = clf.predict(dtest)\n",
    "\n",
    "submission = pd.DataFrame({ 'ID':test_ids, 'Approved':test_preds_xgb})\n",
    "submission = submission[['ID', 'Approved']]\n",
    "submission.to_csv(\"submissions/xgb_1_4.csv\", index = False)"
   ]
  },
  {
   "cell_type": "markdown",
   "metadata": {},
   "source": [
    "#### XGB2"
   ]
  },
  {
   "cell_type": "code",
   "execution_count": 65,
   "metadata": {},
   "outputs": [],
   "source": [
    "params = {'booster':'gbtree', 'objective':'binary:logistic', 'max_depth':9, 'eval_metric':'auc',\n",
    "          'eta':0.01, 'silent':1, 'nthread':4, 'subsample': 0.9, 'colsample_bytree':0.9, 'scale_pos_weight': 1,\n",
    "          'min_child_weight':3, 'max_delta_step':3}\n",
    "num_rounds = 800\n",
    "\n",
    "params['seed'] = 123\n",
    "dtrain = xgb.DMatrix(X_train, y_train, missing=np.nan)\n",
    "#xgb.cv(params, dtrain, num_rounds, nfold=4)\n",
    "#exit()\n",
    "\n",
    "clf = xgb.train(params, dtrain, num_rounds)\n",
    "dtest = xgb.DMatrix(X_test, missing = np.nan)\n",
    "test_preds_xgb = clf.predict(dtest)\n",
    "\n",
    "submission = pd.DataFrame({ 'ID':test_ids, 'Approved':test_preds_xgb})\n",
    "submission = submission[['ID', 'Approved']]\n",
    "submission.to_csv(\"submissions/xgb_2.csv\", index = False)"
   ]
  },
  {
   "cell_type": "markdown",
   "metadata": {},
   "source": [
    "#### XGB2.1"
   ]
  },
  {
   "cell_type": "code",
   "execution_count": 66,
   "metadata": {},
   "outputs": [],
   "source": [
    "params = {'booster':'gbtree', 'objective':'binary:logistic', 'max_depth':9, 'eval_metric':'auc',\n",
    "          'eta':0.01, 'silent':1, 'nthread':4, 'subsample': 0.9, 'colsample_bytree':0.9, 'scale_pos_weight': 1,\n",
    "          'min_child_weight':3, 'max_delta_step':3}\n",
    "num_rounds = 800\n",
    "\n",
    "params['seed'] = 1234 \n",
    "dtrain = xgb.DMatrix(X_train, y_train, missing=np.nan)\n",
    "#xgb.cv(params, dtrain, num_rounds, nfold=4)\n",
    "#exit()\n",
    "\n",
    "clf = xgb.train(params, dtrain, num_rounds)\n",
    "dtest = xgb.DMatrix(X_test, missing = np.nan)\n",
    "test_preds_xgb = clf.predict(dtest)\n",
    "\n",
    "submission = pd.DataFrame({ 'ID':test_ids, 'Approved':test_preds_xgb})\n",
    "submission = submission[['ID', 'Approved']]\n",
    "submission.to_csv(\"submissions/xgb_2_1.csv\", index = False)"
   ]
  },
  {
   "cell_type": "markdown",
   "metadata": {},
   "source": [
    "#### XGB2.2"
   ]
  },
  {
   "cell_type": "code",
   "execution_count": 67,
   "metadata": {},
   "outputs": [],
   "source": [
    "params = {'booster':'gbtree', 'objective':'binary:logistic', 'max_depth':9, 'eval_metric':'auc',\n",
    "          'eta':0.01, 'silent':1, 'nthread':4, 'subsample': 0.9, 'colsample_bytree':0.9, 'scale_pos_weight': 1,\n",
    "          'min_child_weight':3, 'max_delta_step':3}\n",
    "num_rounds = 800\n",
    "\n",
    "params['seed'] = 12345 \n",
    "dtrain = xgb.DMatrix(X_train, y_train, missing=np.nan)\n",
    "#xgb.cv(params, dtrain, num_rounds, nfold=4)\n",
    "#exit()\n",
    "\n",
    "clf = xgb.train(params, dtrain, num_rounds)\n",
    "dtest = xgb.DMatrix(X_test, missing = np.nan)\n",
    "test_preds_xgb = clf.predict(dtest)\n",
    "\n",
    "submission = pd.DataFrame({ 'ID':test_ids, 'Approved':test_preds_xgb})\n",
    "submission = submission[['ID', 'Approved']]\n",
    "submission.to_csv(\"submissions/xgb_2_2.csv\", index = False)\n"
   ]
  },
  {
   "cell_type": "markdown",
   "metadata": {},
   "source": [
    "#### XGB2.3"
   ]
  },
  {
   "cell_type": "code",
   "execution_count": 68,
   "metadata": {},
   "outputs": [],
   "source": [
    "params = {'booster':'gbtree', 'objective':'binary:logistic', 'max_depth':9, 'eval_metric':'auc',\n",
    "          'eta':0.01, 'silent':1, 'nthread':4, 'subsample': 0.9, 'colsample_bytree':0.9, 'scale_pos_weight': 1,\n",
    "          'min_child_weight':3, 'max_delta_step':3}\n",
    "num_rounds = 800\n",
    "\n",
    "params['seed'] = 123456 \n",
    "dtrain = xgb.DMatrix(X_train, y_train, missing=np.nan)\n",
    "#xgb.cv(params, dtrain, num_rounds, nfold=4)\n",
    "#exit()\n",
    "\n",
    "clf = xgb.train(params, dtrain, num_rounds)\n",
    "dtest = xgb.DMatrix(X_test, missing = np.nan)\n",
    "test_preds_xgb = clf.predict(dtest)\n",
    "\n",
    "submission = pd.DataFrame({ 'ID':test_ids, 'Approved':test_preds_xgb})\n",
    "submission = submission[['ID', 'Approved']]\n",
    "submission.to_csv(\"submissions/xgb_2_3.csv\", index = False)"
   ]
  },
  {
   "cell_type": "markdown",
   "metadata": {},
   "source": [
    "#### XGB2.4"
   ]
  },
  {
   "cell_type": "code",
   "execution_count": 70,
   "metadata": {},
   "outputs": [],
   "source": [
    "params = {'booster':'gbtree', 'objective':'binary:logistic', 'max_depth':9, 'eval_metric':'auc',\n",
    "          'eta':0.01, 'silent':1, 'nthread':4, 'subsample': 0.9, 'colsample_bytree':0.9, 'scale_pos_weight': 1,\n",
    "          'min_child_weight':3, 'max_delta_step':3}\n",
    "num_rounds = 800\n",
    "\n",
    "params['seed'] = 1234567\n",
    "dtrain = xgb.DMatrix(X_train, y_train, missing=np.nan)\n",
    "#xgb.cv(params, dtrain, num_rounds, nfold=4)\n",
    "#exit()\n",
    "\n",
    "clf = xgb.train(params, dtrain, num_rounds)\n",
    "dtest = xgb.DMatrix(X_test, missing = np.nan)\n",
    "test_preds_xgb = clf.predict(dtest)\n",
    "\n",
    "submission = pd.DataFrame({ 'ID':test_ids, 'Approved':test_preds_xgb})\n",
    "submission = submission[['ID', 'Approved']]\n",
    "submission.to_csv(\"submissions/xgb_2_4.csv\", index = False)"
   ]
  },
  {
   "cell_type": "markdown",
   "metadata": {},
   "source": [
    "#### RandomForest"
   ]
  },
  {
   "cell_type": "code",
   "execution_count": 97,
   "metadata": {},
   "outputs": [
    {
     "data": {
      "text/plain": [
       "City_Code                               object\n",
       "City_Category                           object\n",
       "Employer_Code                           object\n",
       "Employer_Category1                      object\n",
       "Employer_Category2                     float64\n",
       "Monthly_Income                         float64\n",
       "Customer_Existing_Primary_Bank_Code     object\n",
       "Primary_Bank_Type                       object\n",
       "Contacted                               object\n",
       "Source                                  object\n",
       "Source_Category                         object\n",
       "Existing_EMI                           float64\n",
       "Loan_Amount                            float64\n",
       "Loan_Period                            float64\n",
       "Interest_Rate                          float64\n",
       "EMI                                    float64\n",
       "Var1                                     int64\n",
       "is_male                                  int64\n",
       "age                                    float64\n",
       "DOB_month                              float64\n",
       "DOB_year                               float64\n",
       "Lead_Creation_day                        int64\n",
       "Lead_Creation_month                      int64\n",
       "Lead_Creation_year                       int64\n",
       "City_encoded                             int64\n",
       "dtype: object"
      ]
     },
     "execution_count": 97,
     "metadata": {},
     "output_type": "execute_result"
    }
   ],
   "source": [
    "test_1.dtypes"
   ]
  },
  {
   "cell_type": "code",
   "execution_count": 98,
   "metadata": {},
   "outputs": [],
   "source": [
    "y_train = label\n",
    "X_train = pd.get_dummies(train_1)\n",
    "\n",
    "\n",
    "X_test = pd.get_dummies(test_1)\n",
    "missingCols = list(set(X_train.columns)-set(X_test.columns))\n",
    "for col in missingCols:\n",
    "    X_test[col] = 0\n",
    "X_test = X_test[X_train.columns]\n",
    "assert X_train.columns.equals(X_test.columns)\n",
    "\n",
    "# # Modeling\n",
    "X_train_2 = X_train.fillna(-999)\n",
    "X_test_2 = X_test.fillna(-999)\n",
    "\n"
   ]
  },
  {
   "cell_type": "code",
   "execution_count": 99,
   "metadata": {},
   "outputs": [
    {
     "name": "stdout",
     "output_type": "stream",
     "text": [
      "RF 0 done\n",
      "RF 1 done\n",
      "RF 2 done\n",
      "RF 3 done\n",
      "RF 4 done\n"
     ]
    }
   ],
   "source": [
    "# from sklearn.cross_validation import KFold\n",
    "# kf = KFold(len(X_train_2), n_folds=4)\n",
    "# scores = cross_val_score(clf, X_train_2, y_train, scoring='roc_auc', cv=kf)\n",
    "seeds = [123,1234,5245326,6536,75]\n",
    "numbers = [1,2,3,4,5]\n",
    "\n",
    "for i in range(5): \n",
    "    clf = RandomForestClassifier(n_estimators=360, max_depth=9, criterion = 'entropy', min_samples_split=2, bootstrap = False, n_jobs=-1, random_state=seeds[i])\n",
    "    clf.fit(X_train_2, y_train)\n",
    "    test_preds = clf.predict_proba(X_test_2)[:,1]\n",
    "    print(\"RF %s done\" % i)\n",
    "\n",
    "    submission = pd.DataFrame({'ID':test['ID'], 'Approved':test_preds})\n",
    "    submission = submission[['ID', 'Approved']]\n",
    "    submission.to_csv(\"submissions/rf_%s.csv\" % str(numbers[i]), index = False)"
   ]
  },
  {
   "cell_type": "markdown",
   "metadata": {},
   "source": [
    "## Post Model Building"
   ]
  },
  {
   "cell_type": "code",
   "execution_count": 85,
   "metadata": {},
   "outputs": [],
   "source": [
    "test_ids = pd.read_csv(\"test_ids.csv\", names = ['ID'])"
   ]
  },
  {
   "cell_type": "code",
   "execution_count": 86,
   "metadata": {},
   "outputs": [
    {
     "data": {
      "text/html": [
       "<div>\n",
       "<style scoped>\n",
       "    .dataframe tbody tr th:only-of-type {\n",
       "        vertical-align: middle;\n",
       "    }\n",
       "\n",
       "    .dataframe tbody tr th {\n",
       "        vertical-align: top;\n",
       "    }\n",
       "\n",
       "    .dataframe thead th {\n",
       "        text-align: right;\n",
       "    }\n",
       "</style>\n",
       "<table border=\"1\" class=\"dataframe\">\n",
       "  <thead>\n",
       "    <tr style=\"text-align: right;\">\n",
       "      <th></th>\n",
       "      <th>ID</th>\n",
       "    </tr>\n",
       "  </thead>\n",
       "  <tbody>\n",
       "    <tr>\n",
       "      <th>0</th>\n",
       "      <td>APPA70109647212</td>\n",
       "    </tr>\n",
       "    <tr>\n",
       "      <th>1</th>\n",
       "      <td>APPB10687939341</td>\n",
       "    </tr>\n",
       "    <tr>\n",
       "      <th>2</th>\n",
       "      <td>APPC80449411414</td>\n",
       "    </tr>\n",
       "    <tr>\n",
       "      <th>3</th>\n",
       "      <td>APPD30665094501</td>\n",
       "    </tr>\n",
       "    <tr>\n",
       "      <th>4</th>\n",
       "      <td>APPE80379821637</td>\n",
       "    </tr>\n",
       "  </tbody>\n",
       "</table>\n",
       "</div>"
      ],
      "text/plain": [
       "                ID\n",
       "0  APPA70109647212\n",
       "1  APPB10687939341\n",
       "2  APPC80449411414\n",
       "3  APPD30665094501\n",
       "4  APPE80379821637"
      ]
     },
     "execution_count": 86,
     "metadata": {},
     "output_type": "execute_result"
    }
   ],
   "source": [
    "test_ids.head()"
   ]
  },
  {
   "cell_type": "markdown",
   "metadata": {},
   "source": [
    "#### Combining predictions - rf"
   ]
  },
  {
   "cell_type": "code",
   "execution_count": 100,
   "metadata": {},
   "outputs": [],
   "source": [
    "preds = pd.read_csv(\"submissions/rf_1.csv\")\n",
    "preds['ID'] = test_ids['ID']\n",
    "\n",
    "preds2 = pd.read_csv(\"submissions/rf_2.csv\")\n",
    "preds3 = pd.read_csv(\"submissions/rf_3.csv\")\n",
    "preds4 = pd.read_csv(\"submissions/rf_4.csv\")\n",
    "preds5 = pd.read_csv(\"submissions/rf_5.csv\")\n",
    "\n",
    "preds['Approved'] = rankdata(preds['Approved'], method='ordinal')\n",
    "preds2['Approved'] = rankdata(preds2['Approved'], method='ordinal')\n",
    "preds3['Approved'] = rankdata(preds3['Approved'], method='ordinal')\n",
    "preds4['Approved'] = rankdata(preds4['Approved'], method='ordinal')\n",
    "preds4['Approved'] = rankdata(preds5['Approved'], method='ordinal')\n",
    "\n",
    "preds['Approved'] = 0.3 * (preds['Approved'] + \n",
    "                            preds2['Approved'] + \n",
    "                            preds3['Approved'] + \n",
    "                            preds4['Approved'] + \n",
    "                            preds5['Approved'])\n",
    "\n",
    "preds.to_csv(\"submissions/ensembles/rf_ens.csv\", index = False)"
   ]
  },
  {
   "cell_type": "markdown",
   "metadata": {},
   "source": [
    "#### Combining predictions - xgboost1"
   ]
  },
  {
   "cell_type": "code",
   "execution_count": 94,
   "metadata": {},
   "outputs": [],
   "source": [
    "preds = pd.read_csv(\"submissions/xgb_1.csv\")\n",
    "preds['ID'] = test_ids['ID']\n",
    "\n",
    "preds2 = pd.read_csv(\"submissions/xgb_1_1.csv\")\n",
    "preds3 = pd.read_csv(\"submissions/xgb_1_2.csv\")\n",
    "preds4 = pd.read_csv(\"submissions/xgb_1_3.csv\")\n",
    "preds5 = pd.read_csv(\"submissions/xgb_1_4.csv\")\n",
    "\n",
    "preds['Approved'] = rankdata(preds['Approved'], method='ordinal')\n",
    "preds2['Approved'] = rankdata(preds2['Approved'], method='ordinal')\n",
    "preds3['Approved'] = rankdata(preds3['Approved'], method='ordinal')\n",
    "preds4['Approved'] = rankdata(preds4['Approved'], method='ordinal')\n",
    "preds4['Approved'] = rankdata(preds5['Approved'], method='ordinal')\n",
    "\n",
    "preds['Approved'] = 0.3 * (preds['Approved'] + \n",
    "                            preds2['Approved'] + \n",
    "                            preds3['Approved'] + \n",
    "                            preds4['Approved'] + \n",
    "                            preds5['Approved'])\n",
    "\n",
    "preds.to_csv(\"submissions/ensembles/xgb1_ens.csv\", index = False)"
   ]
  },
  {
   "cell_type": "markdown",
   "metadata": {},
   "source": [
    "#### Combining predictions - xgboost2"
   ]
  },
  {
   "cell_type": "code",
   "execution_count": 95,
   "metadata": {},
   "outputs": [],
   "source": [
    "preds = pd.read_csv(\"submissions/xgb_2.csv\")\n",
    "preds['ID'] = test_ids['ID']\n",
    "\n",
    "preds2 = pd.read_csv(\"submissions/xgb_2_1.csv\")\n",
    "preds3 = pd.read_csv(\"submissions/xgb_2_2.csv\")\n",
    "preds4 = pd.read_csv(\"submissions/xgb_2_3.csv\")\n",
    "preds5 = pd.read_csv(\"submissions/xgb_2_4.csv\")\n",
    "\n",
    "preds['Approved'] = rankdata(preds['Approved'], method='ordinal')\n",
    "preds2['Approved'] = rankdata(preds2['Approved'], method='ordinal')\n",
    "preds3['Approved'] = rankdata(preds3['Approved'], method='ordinal')\n",
    "preds4['Approved'] = rankdata(preds4['Approved'], method='ordinal')\n",
    "preds4['Approved'] = rankdata(preds5['Approved'], method='ordinal')\n",
    "\n",
    "preds['Approved'] = 0.3 * (preds['Approved'] + \n",
    "                            preds2['Approved'] + \n",
    "                            preds3['Approved'] + \n",
    "                            preds4['Approved'] + \n",
    "                            preds5['Approved'])\n",
    "\n",
    "preds.to_csv(\"submissions/ensembles/xgb2_ens.csv\", index = False)"
   ]
  },
  {
   "cell_type": "markdown",
   "metadata": {},
   "source": [
    "## Ensemble"
   ]
  },
  {
   "cell_type": "code",
   "execution_count": 96,
   "metadata": {},
   "outputs": [],
   "source": [
    "xgb1_pred = pd.read_csv(\"submissions/ensembles/xgb1_ens.csv\") #XGB\n",
    "xgb2_pred = pd.read_csv(\"submissions/ensembles/xgb2_ens.csv\") #XGB\n",
    "rf_pred = pd.read_csv(\"submissions/ensembles/rf_ens.csv\") #RF\n",
    "\n",
    "\n",
    "ens = xgb1_pred.copy()\n",
    "ens.rename(columns={'Approved':'XGB1'}, inplace = True)\n",
    "ens['XGB2'] = xgb2_pred['Approved']\n",
    "ens['RF'] = rf_pred['Approved']\n",
    "\n",
    "\n",
    "ens['XGB1_Rank'] = rankdata(ens['XGB1'], method='min')\n",
    "ens['XGB2_Rank'] = rankdata(ens['XGB2'], method='min')\n",
    "\n",
    "ens['XGB_Rank'] = 0.5 * ens['XGB1_Rank'] + 0.5 * ens['XGB2_Rank']\n",
    "ens['RF_Rank'] = rankdata(ens['RF'], method='min')\n",
    "\n",
    "ens['Final'] = 0.75*ens['XGB_Rank'] + 0.25*ens['RF_Rank']\n",
    "\n",
    "ens = ens[['ID', 'Final']]\n",
    "ens.rename(columns={'Final':'Approved'}, inplace = True)\n",
    "ens.sort_index(inplace = True)\n",
    "ens.head()\n",
    "\n",
    "ens.to_csv(\"ensemble_rank.csv\", index = False)"
   ]
  },
  {
   "cell_type": "code",
   "execution_count": null,
   "metadata": {},
   "outputs": [],
   "source": []
  },
  {
   "cell_type": "code",
   "execution_count": null,
   "metadata": {},
   "outputs": [],
   "source": []
  },
  {
   "cell_type": "code",
   "execution_count": null,
   "metadata": {},
   "outputs": [],
   "source": []
  },
  {
   "cell_type": "code",
   "execution_count": 103,
   "metadata": {},
   "outputs": [],
   "source": [
    "params = {'booster':'gbtree', 'objective':'binary:logistic', 'max_depth':9, 'eval_metric':'auc',\n",
    "          'eta':0.01, 'silent':1, 'nthread':4, 'subsample': 0.9, 'colsample_bytree':0.9, 'scale_pos_weight': 1,\n",
    "          'min_child_weight':3, 'max_delta_step':3}\n",
    "num_rounds = 1200\n",
    "\n",
    "params['seed'] = 123\n",
    "dtrain = xgb.DMatrix(X_train, y_train, missing=np.nan)\n",
    "#xgb.cv(params, dtrain, num_rounds, nfold=4)\n",
    "#exit()\n",
    "\n",
    "clf = xgb.train(params, dtrain, num_rounds)\n",
    "dtest = xgb.DMatrix(X_test, missing = np.nan)\n",
    "test_preds_xgb = clf.predict(dtest)\n",
    "\n",
    "submission = pd.DataFrame({ 'ID':test_ids, 'Approved':test_preds_xgb})\n",
    "submission = submission[['ID', 'Approved']]\n",
    "submission.to_csv(\"submissions/xgb_3.csv\", index = False)"
   ]
  },
  {
   "cell_type": "code",
   "execution_count": 104,
   "metadata": {},
   "outputs": [],
   "source": [
    "params = {'booster':'gbtree', 'objective':'binary:logistic', 'max_depth':9, 'eval_metric':'auc',\n",
    "          'eta':0.01, 'silent':1, 'nthread':4, 'subsample': 0.9, 'colsample_bytree':0.9, 'scale_pos_weight': 1,\n",
    "          'min_child_weight':3, 'max_delta_step':3}\n",
    "num_rounds = 1200\n",
    "\n",
    "params['seed'] = 1234\n",
    "dtrain = xgb.DMatrix(X_train, y_train, missing=np.nan)\n",
    "#xgb.cv(params, dtrain, num_rounds, nfold=4)\n",
    "#exit()\n",
    "\n",
    "clf = xgb.train(params, dtrain, num_rounds)\n",
    "dtest = xgb.DMatrix(X_test, missing = np.nan)\n",
    "test_preds_xgb = clf.predict(dtest)\n",
    "\n",
    "submission = pd.DataFrame({ 'ID':test_ids, 'Approved':test_preds_xgb})\n",
    "submission = submission[['ID', 'Approved']]\n",
    "submission.to_csv(\"submissions/xgb_3_1.csv\", index = False)"
   ]
  },
  {
   "cell_type": "code",
   "execution_count": 105,
   "metadata": {},
   "outputs": [],
   "source": [
    "params = {'booster':'gbtree', 'objective':'binary:logistic', 'max_depth':9, 'eval_metric':'auc',\n",
    "          'eta':0.01, 'silent':1, 'nthread':4, 'subsample': 0.9, 'colsample_bytree':0.9, 'scale_pos_weight': 1,\n",
    "          'min_child_weight':3, 'max_delta_step':3}\n",
    "num_rounds = 1200\n",
    "\n",
    "params['seed'] = 12345\n",
    "dtrain = xgb.DMatrix(X_train, y_train, missing=np.nan)\n",
    "#xgb.cv(params, dtrain, num_rounds, nfold=4)\n",
    "#exit()\n",
    "\n",
    "clf = xgb.train(params, dtrain, num_rounds)\n",
    "dtest = xgb.DMatrix(X_test, missing = np.nan)\n",
    "test_preds_xgb = clf.predict(dtest)\n",
    "\n",
    "submission = pd.DataFrame({ 'ID':test_ids, 'Approved':test_preds_xgb})\n",
    "submission = submission[['ID', 'Approved']]\n",
    "submission.to_csv(\"submissions/xgb_3_2.csv\", index = False)"
   ]
  },
  {
   "cell_type": "code",
   "execution_count": 106,
   "metadata": {},
   "outputs": [],
   "source": [
    "params = {'booster':'gbtree', 'objective':'binary:logistic', 'max_depth':9, 'eval_metric':'auc',\n",
    "          'eta':0.01, 'silent':1, 'nthread':4, 'subsample': 0.9, 'colsample_bytree':0.9, 'scale_pos_weight': 1,\n",
    "          'min_child_weight':3, 'max_delta_step':3}\n",
    "num_rounds = 1200\n",
    "\n",
    "params['seed'] = 123456\n",
    "dtrain = xgb.DMatrix(X_train, y_train, missing=np.nan)\n",
    "#xgb.cv(params, dtrain, num_rounds, nfold=4)\n",
    "#exit()\n",
    "\n",
    "clf = xgb.train(params, dtrain, num_rounds)\n",
    "dtest = xgb.DMatrix(X_test, missing = np.nan)\n",
    "test_preds_xgb = clf.predict(dtest)\n",
    "\n",
    "submission = pd.DataFrame({ 'ID':test_ids, 'Approved':test_preds_xgb})\n",
    "submission = submission[['ID', 'Approved']]\n",
    "submission.to_csv(\"submissions/xgb_3_3.csv\", index = False)"
   ]
  },
  {
   "cell_type": "code",
   "execution_count": 107,
   "metadata": {},
   "outputs": [],
   "source": [
    "params = {'booster':'gbtree', 'objective':'binary:logistic', 'max_depth':9, 'eval_metric':'auc',\n",
    "          'eta':0.01, 'silent':1, 'nthread':4, 'subsample': 0.9, 'colsample_bytree':0.9, 'scale_pos_weight': 1,\n",
    "          'min_child_weight':3, 'max_delta_step':3}\n",
    "num_rounds = 1200\n",
    "\n",
    "params['seed'] = 1234567\n",
    "dtrain = xgb.DMatrix(X_train, y_train, missing=np.nan)\n",
    "#xgb.cv(params, dtrain, num_rounds, nfold=4)\n",
    "#exit()\n",
    "\n",
    "clf = xgb.train(params, dtrain, num_rounds)\n",
    "dtest = xgb.DMatrix(X_test, missing = np.nan)\n",
    "test_preds_xgb = clf.predict(dtest)\n",
    "\n",
    "submission = pd.DataFrame({ 'ID':test_ids, 'Approved':test_preds_xgb})\n",
    "submission = submission[['ID', 'Approved']]\n",
    "submission.to_csv(\"submissions/xgb_3_4.csv\", index = False)"
   ]
  },
  {
   "cell_type": "code",
   "execution_count": null,
   "metadata": {},
   "outputs": [],
   "source": [
    "preds = pd.read_csv(\"submissions/xgb_3.csv\")\n",
    "preds['ID'] = test_ids['ID']\n",
    "\n",
    "preds2 = pd.read_csv(\"submissions/xgb_3_1.csv\")\n",
    "preds3 = pd.read_csv(\"submissions/xgb_3_2.csv\")\n",
    "preds4 = pd.read_csv(\"submissions/xgb_3_3.csv\")\n",
    "preds5 = pd.read_csv(\"submissions/xgb_3_4.csv\")\n",
    "\n",
    "preds['Approved'] = rankdata(preds['Approved'], method='ordinal')\n",
    "preds2['Approved'] = rankdata(preds2['Approved'], method='ordinal')\n",
    "preds3['Approved'] = rankdata(preds3['Approved'], method='ordinal')\n",
    "preds4['Approved'] = rankdata(preds4['Approved'], method='ordinal')\n",
    "preds4['Approved'] = rankdata(preds5['Approved'], method='ordinal')\n",
    "\n",
    "preds['Approved'] = 0.3 * (preds['Approved'] + \n",
    "                            preds2['Approved'] + \n",
    "                            preds3['Approved'] + \n",
    "                            preds4['Approved'] + \n",
    "                            preds5['Approved'])\n",
    "\n",
    "preds.to_csv(\"submissions/ensembles/xgb3_ens.csv\", index = False)"
   ]
  }
 ],
 "metadata": {
  "kernelspec": {
   "display_name": "Python 2",
   "language": "python",
   "name": "python2"
  },
  "language_info": {
   "codemirror_mode": {
    "name": "ipython",
    "version": 2
   },
   "file_extension": ".py",
   "mimetype": "text/x-python",
   "name": "python",
   "nbconvert_exporter": "python",
   "pygments_lexer": "ipython2",
   "version": "2.7.12"
  }
 },
 "nbformat": 4,
 "nbformat_minor": 2
}
