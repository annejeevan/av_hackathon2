{
 "cells": [
  {
   "cell_type": "code",
   "execution_count": 80,
   "metadata": {},
   "outputs": [],
   "source": [
    "import h2o\n",
    "import pandas as pd\n",
    "import numpy as np\n",
    "import time\n",
    "from h2o.estimators.deeplearning import H2OAutoEncoderEstimator, H2ODeepLearningEstimator\n",
    "from h2o.estimators.gbm import H2OGradientBoostingEstimator\n",
    "from h2o.estimators.glm import H2OGeneralizedLinearEstimator\n",
    "from h2o.estimators.random_forest import H2ORandomForestEstimator\n",
    "from h2o.estimators.stackedensemble  import H2OStackedEnsembleEstimator\n",
    "from h2o.estimators.xgboost import H2OXGBoostEstimator\n",
    "from h2o.grid.grid_search import H2OGridSearch\n",
    "from h2o.automl.autoh2o import H2OAutoML\n",
    "from h2o.estimators.naive_bayes import H2ONaiveBayesEstimator"
   ]
  },
  {
   "cell_type": "code",
   "execution_count": 81,
   "metadata": {},
   "outputs": [
    {
     "name": "stdout",
     "output_type": "stream",
     "text": [
      "Checking whether there is an H2O instance running at http://localhost:54321. connected.\n",
      "Warning: Your H2O cluster version is too old (4 months and 29 days)! Please download and install the latest version from http://h2o.ai/download/\n"
     ]
    },
    {
     "data": {
      "text/html": [
       "<div style=\"overflow:auto\"><table style=\"width:50%\"><tr><td>H2O cluster uptime:</td>\n",
       "<td>2 hours 49 mins</td></tr>\n",
       "<tr><td>H2O cluster version:</td>\n",
       "<td>3.14.0.2</td></tr>\n",
       "<tr><td>H2O cluster version age:</td>\n",
       "<td>4 months and 29 days !!!</td></tr>\n",
       "<tr><td>H2O cluster name:</td>\n",
       "<td>H2O_from_python_jeevan_kj9m3l</td></tr>\n",
       "<tr><td>H2O cluster total nodes:</td>\n",
       "<td>1</td></tr>\n",
       "<tr><td>H2O cluster free memory:</td>\n",
       "<td>9.20 Gb</td></tr>\n",
       "<tr><td>H2O cluster total cores:</td>\n",
       "<td>4</td></tr>\n",
       "<tr><td>H2O cluster allowed cores:</td>\n",
       "<td>4</td></tr>\n",
       "<tr><td>H2O cluster status:</td>\n",
       "<td>locked, healthy</td></tr>\n",
       "<tr><td>H2O connection url:</td>\n",
       "<td>http://localhost:54321</td></tr>\n",
       "<tr><td>H2O connection proxy:</td>\n",
       "<td>None</td></tr>\n",
       "<tr><td>H2O internal security:</td>\n",
       "<td>False</td></tr>\n",
       "<tr><td>H2O API Extensions:</td>\n",
       "<td>XGBoost, Algos, AutoML, Core V3, Core V4</td></tr>\n",
       "<tr><td>Python version:</td>\n",
       "<td>2.7.12 final</td></tr></table></div>"
      ],
      "text/plain": [
       "--------------------------  ----------------------------------------\n",
       "H2O cluster uptime:         2 hours 49 mins\n",
       "H2O cluster version:        3.14.0.2\n",
       "H2O cluster version age:    4 months and 29 days !!!\n",
       "H2O cluster name:           H2O_from_python_jeevan_kj9m3l\n",
       "H2O cluster total nodes:    1\n",
       "H2O cluster free memory:    9.20 Gb\n",
       "H2O cluster total cores:    4\n",
       "H2O cluster allowed cores:  4\n",
       "H2O cluster status:         locked, healthy\n",
       "H2O connection url:         http://localhost:54321\n",
       "H2O connection proxy:\n",
       "H2O internal security:      False\n",
       "H2O API Extensions:         XGBoost, Algos, AutoML, Core V3, Core V4\n",
       "Python version:             2.7.12 final\n",
       "--------------------------  ----------------------------------------"
      ]
     },
     "metadata": {},
     "output_type": "display_data"
    }
   ],
   "source": [
    "# Start H2O on your local machine\n",
    "h2o.init(nthreads=-1,min_mem_size = \"10g\")"
   ]
  },
  {
   "cell_type": "code",
   "execution_count": 95,
   "metadata": {},
   "outputs": [
    {
     "name": "stdout",
     "output_type": "stream",
     "text": [
      "Parse progress: |█████████████████████████████████████████████████████████| 100%\n",
      "Parse progress: |█████████████████████████████████████████████████████████| 100%\n",
      "Train dataset dimensions: (69713, 29)\n",
      "Test dataset dimensions: (30037, 28)\n"
     ]
    }
   ],
   "source": [
    "#importing the datasets\n",
    "train = h2o.import_file(\"/home/jeevan/train_1.csv\")\n",
    "test = h2o.import_file(\"/home/jeevan/test_1.csv\")\n",
    "submission = pd.read_csv(\"Sample_Solution_Yrq0zGh.csv\")\n",
    "print \"Train dataset dimensions:\", train.shape\n",
    "print \"Test dataset dimensions:\", test.shape"
   ]
  },
  {
   "cell_type": "code",
   "execution_count": 96,
   "metadata": {},
   "outputs": [
    {
     "data": {
      "text/plain": [
       "((69713, 29), (30037, 28))"
      ]
     },
     "execution_count": 96,
     "metadata": {},
     "output_type": "execute_result"
    }
   ],
   "source": [
    "train.shape, test.shape"
   ]
  },
  {
   "cell_type": "code",
   "execution_count": 97,
   "metadata": {},
   "outputs": [
    {
     "name": "stdout",
     "output_type": "stream",
     "text": [
      "Rows:30037\n",
      "Cols:28\n",
      "\n",
      "\n"
     ]
    },
    {
     "data": {
      "text/html": [
       "<table>\n",
       "<thead>\n",
       "<tr><th>       </th><th>ID             </th><th>Gender  </th><th>DOB                </th><th>Lead_Creation_Date  </th><th>City_Code  </th><th>City_Category  </th><th>Employer_Code  </th><th>Employer_Category1  </th><th>Employer_Category2  </th><th>Monthly_Income  </th><th>Customer_Existing_Primary_Bank_Code  </th><th>Primary_Bank_Type  </th><th>Contacted  </th><th>Source  </th><th>Source_Category  </th><th>Existing_EMI  </th><th>Loan_Amount  </th><th>Loan_Period  </th><th>Interest_Rate  </th><th>EMI          </th><th>Var1         </th><th>is_male       </th><th>age          </th><th>DOB_month    </th><th>DOB_year     </th><th>Lead_Creation_day  </th><th>Lead_Creation_month  </th><th>Lead_Creation_year  </th></tr>\n",
       "</thead>\n",
       "<tbody>\n",
       "<tr><td>type   </td><td>string         </td><td>enum    </td><td>time               </td><td>time                </td><td>enum       </td><td>enum           </td><td>enum           </td><td>enum                </td><td>int                 </td><td>real            </td><td>enum                                 </td><td>enum               </td><td>enum       </td><td>enum    </td><td>enum             </td><td>real          </td><td>int          </td><td>int          </td><td>real           </td><td>int          </td><td>int          </td><td>int           </td><td>int          </td><td>int          </td><td>int          </td><td>int                </td><td>int                  </td><td>int                 </td></tr>\n",
       "<tr><td>mins   </td><td>NaN            </td><td>        </td><td>-1.1595744e+12     </td><td>1.4673312e+12       </td><td>           </td><td>               </td><td>               </td><td>                    </td><td>1.0                 </td><td>0.0             </td><td>                                     </td><td>                   </td><td>           </td><td>        </td><td>                 </td><td>0.0           </td><td>5000.0       </td><td>1.0          </td><td>11.99          </td><td>118.0        </td><td>0.0          </td><td>0.0           </td><td>18.0         </td><td>1.0          </td><td>1933.0       </td><td>1.0                </td><td>7.0                  </td><td>2016.0              </td></tr>\n",
       "<tr><td>mean   </td><td>NaN            </td><td>        </td><td>4.97217475341e+11  </td><td>1.47147878544e+12   </td><td>           </td><td>               </td><td>               </td><td>                    </td><td>3.72824783008       </td><td>3977.13915171   </td><td>                                     </td><td>                   </td><td>           </td><td>        </td><td>                 </td><td>348.909059557 </td><td>39482.9902015</td><td>3.90288482713</td><td>19.2805366763  </td><td>1094.9148363 </td><td>3.96231314712</td><td>0.572760262343</td><td>30.8875607645</td><td>6.59535859359</td><td>1985.25484451</td><td>16.0961813763      </td><td>8.06155741252        </td><td>2016.0              </td></tr>\n",
       "<tr><td>maxs   </td><td>NaN            </td><td>        </td><td>9.195552e+11       </td><td>1.4751936e+12       </td><td>           </td><td>               </td><td>               </td><td>                    </td><td>4.0                 </td><td>3500000.0       </td><td>                                     </td><td>                   </td><td>           </td><td>        </td><td>                 </td><td>43000.0       </td><td>300000.0     </td><td>5.0          </td><td>37.0           </td><td>6979.0       </td><td>10.0         </td><td>1.0           </td><td>83.0         </td><td>12.0         </td><td>1999.0       </td><td>31.0               </td><td>9.0                  </td><td>2016.0              </td></tr>\n",
       "<tr><td>sigma  </td><td>NaN            </td><td>        </td><td>2.23170966285e+11  </td><td>2316072851.75       </td><td>           </td><td>               </td><td>               </td><td>                    </td><td>0.794883358458      </td><td>23289.6018757   </td><td>                                     </td><td>                   </td><td>           </td><td>        </td><td>                 </td><td>1000.81684747 </td><td>30527.8655936</td><td>1.15067296653</td><td>5.8822462436   </td><td>727.452303167</td><td>3.82101963532</td><td>0.494685851134</td><td>7.08207632251</td><td>3.26688026649</td><td>7.07018583374</td><td>8.92557217925      </td><td>0.819207355098       </td><td>0.0                 </td></tr>\n",
       "<tr><td>zeros  </td><td>0              </td><td>        </td><td>0                  </td><td>0                   </td><td>           </td><td>               </td><td>               </td><td>                    </td><td>0                   </td><td>97              </td><td>                                     </td><td>                   </td><td>           </td><td>        </td><td>                 </td><td>20111         </td><td>0            </td><td>0            </td><td>0              </td><td>0            </td><td>9937         </td><td>12833         </td><td>0            </td><td>0            </td><td>0            </td><td>0                  </td><td>0                    </td><td>0                   </td></tr>\n",
       "<tr><td>missing</td><td>0              </td><td>0       </td><td>3                  </td><td>0                   </td><td>0          </td><td>0              </td><td>0              </td><td>0                   </td><td>1695                </td><td>0               </td><td>0                                    </td><td>0                  </td><td>0          </td><td>0       </td><td>0                </td><td>32            </td><td>11871        </td><td>11873        </td><td>20385          </td><td>20385        </td><td>0            </td><td>0             </td><td>3            </td><td>3            </td><td>3            </td><td>0                  </td><td>0                    </td><td>0                   </td></tr>\n",
       "<tr><td>0      </td><td>APPA70109647212</td><td>Male    </td><td>1988-06-03 00:00:00</td><td>2016-07-05 00:00:00 </td><td>Others     </td><td>C              </td><td>               </td><td>A                   </td><td>4.0                 </td><td>2150.0          </td><td>B002                                 </td><td>P                  </td><td>Y          </td><td>S122    </td><td>B                </td><td>0.0           </td><td>10000.0      </td><td>3.0          </td><td>20.0           </td><td>372.0        </td><td>4.0          </td><td>1.0           </td><td>28.0         </td><td>6.0          </td><td>1988.0       </td><td>5.0                </td><td>7.0                  </td><td>2016.0              </td></tr>\n",
       "<tr><td>1      </td><td>APPB10687939341</td><td>Male    </td><td>1981-07-13 00:00:00</td><td>2016-07-01 00:00:00 </td><td>Others     </td><td>A              </td><td>               </td><td>C                   </td><td>4.0                 </td><td>4200.0          </td><td>B004                                 </td><td>P                  </td><td>Y          </td><td>S133    </td><td>C                </td><td>0.0           </td><td>69000.0      </td><td>5.0          </td><td>24.0           </td><td>1985.0       </td><td>7.0          </td><td>1.0           </td><td>35.0         </td><td>7.0          </td><td>1981.0       </td><td>1.0                </td><td>7.0                  </td><td>2016.0              </td></tr>\n",
       "<tr><td>2      </td><td>APPC80449411414</td><td>Female  </td><td>1990-11-19 00:00:00</td><td>2016-07-01 00:00:00 </td><td>C10009     </td><td>B              </td><td>               </td><td>B                   </td><td>4.0                 </td><td>1000.0          </td><td>B002                                 </td><td>P                  </td><td>N          </td><td>S133    </td><td>B                </td><td>0.0           </td><td>nan          </td><td>nan          </td><td>nan            </td><td>nan          </td><td>0.0          </td><td>0.0           </td><td>26.0         </td><td>11.0         </td><td>1990.0       </td><td>1.0                </td><td>7.0                  </td><td>2016.0              </td></tr>\n",
       "<tr><td>3      </td><td>APPD30665094501</td><td>Female  </td><td>1992-10-15 00:00:00</td><td>2016-07-01 00:00:00 </td><td>C10005     </td><td>A              </td><td>COM0000085     </td><td>A                   </td><td>3.0                 </td><td>1465.0          </td><td>B001                                 </td><td>P                  </td><td>N          </td><td>S133    </td><td>C                </td><td>0.0           </td><td>nan          </td><td>nan          </td><td>nan            </td><td>nan          </td><td>0.0          </td><td>0.0           </td><td>24.0         </td><td>10.0         </td><td>1992.0       </td><td>1.0                </td><td>7.0                  </td><td>2016.0              </td></tr>\n",
       "<tr><td>4      </td><td>APPE80379821637</td><td>Male    </td><td>1988-09-21 00:00:00</td><td>2016-07-01 00:00:00 </td><td>Others     </td><td>A              </td><td>               </td><td>A                   </td><td>4.0                 </td><td>2340.0          </td><td>B004                                 </td><td>P                  </td><td>Y          </td><td>S143    </td><td>B                </td><td>500.0         </td><td>10000.0      </td><td>2.0          </td><td>nan            </td><td>nan          </td><td>0.0          </td><td>1.0           </td><td>28.0         </td><td>9.0          </td><td>1988.0       </td><td>1.0                </td><td>7.0                  </td><td>2016.0              </td></tr>\n",
       "<tr><td>5      </td><td>APPF90611935733</td><td>Female  </td><td>1987-12-26 00:00:00</td><td>2016-07-01 00:00:00 </td><td>C10010     </td><td>A              </td><td>               </td><td>B                   </td><td>4.0                 </td><td>1500.0          </td><td>B004                                 </td><td>P                  </td><td>N          </td><td>S133    </td><td>B                </td><td>450.0         </td><td>nan          </td><td>nan          </td><td>nan            </td><td>nan          </td><td>0.0          </td><td>0.0           </td><td>29.0         </td><td>12.0         </td><td>1987.0       </td><td>1.0                </td><td>7.0                  </td><td>2016.0              </td></tr>\n",
       "<tr><td>6      </td><td>APPG20993415813</td><td>Female  </td><td>1973-09-22 00:00:00</td><td>2016-07-01 00:00:00 </td><td>Others     </td><td>A              </td><td>               </td><td>A                   </td><td>4.0                 </td><td>6900.0          </td><td>B003                                 </td><td>G                  </td><td>N          </td><td>S134    </td><td>B                </td><td>3000.0        </td><td>nan          </td><td>nan          </td><td>nan            </td><td>nan          </td><td>0.0          </td><td>0.0           </td><td>43.0         </td><td>9.0          </td><td>1973.0       </td><td>1.0                </td><td>7.0                  </td><td>2016.0              </td></tr>\n",
       "<tr><td>7      </td><td>APPH30656456927</td><td>Female  </td><td>1991-10-18 00:00:00</td><td>2016-07-01 00:00:00 </td><td>Others     </td><td>A              </td><td>               </td><td>B                   </td><td>4.0                 </td><td>2055.5          </td><td>B002                                 </td><td>P                  </td><td>N          </td><td>S133    </td><td>B                </td><td>749.7         </td><td>nan          </td><td>nan          </td><td>nan            </td><td>nan          </td><td>0.0          </td><td>0.0           </td><td>25.0         </td><td>10.0         </td><td>1991.0       </td><td>1.0                </td><td>7.0                  </td><td>2016.0              </td></tr>\n",
       "<tr><td>8      </td><td>APPI70297912043</td><td>Male    </td><td>1991-08-06 00:00:00</td><td>2016-07-01 00:00:00 </td><td>C10014     </td><td>B              </td><td>               </td><td>A                   </td><td>4.0                 </td><td>3000.0          </td><td>B004                                 </td><td>P                  </td><td>Y          </td><td>S156    </td><td>B                </td><td>0.0           </td><td>10000.0      </td><td>1.0          </td><td>nan            </td><td>nan          </td><td>10.0         </td><td>1.0           </td><td>25.0         </td><td>8.0          </td><td>1991.0       </td><td>1.0                </td><td>7.0                  </td><td>2016.0              </td></tr>\n",
       "<tr><td>9      </td><td>APPJ50119937105</td><td>Male    </td><td>1984-07-13 00:00:00</td><td>2016-07-01 00:00:00 </td><td>C10001     </td><td>A              </td><td>               </td><td>B                   </td><td>4.0                 </td><td>4040.0          </td><td>B002                                 </td><td>P                  </td><td>Y          </td><td>S133    </td><td>B                </td><td>0.0           </td><td>30000.0      </td><td>4.0          </td><td>nan            </td><td>nan          </td><td>10.0         </td><td>1.0           </td><td>32.0         </td><td>7.0          </td><td>1984.0       </td><td>1.0                </td><td>7.0                  </td><td>2016.0              </td></tr>\n",
       "</tbody>\n",
       "</table>"
      ]
     },
     "metadata": {},
     "output_type": "display_data"
    }
   ],
   "source": [
    "test.describe()"
   ]
  },
  {
   "cell_type": "code",
   "execution_count": 98,
   "metadata": {},
   "outputs": [],
   "source": [
    "train = train.drop(['ID','is_male', 'DOB_month','DOB_year','Lead_Creation_day','Lead_Creation_month','Lead_Creation_year' ])\n",
    "\n",
    "test = test.drop(['ID','is_male', 'DOB_month','DOB_year','Lead_Creation_day','Lead_Creation_month','Lead_Creation_year' ])"
   ]
  },
  {
   "cell_type": "code",
   "execution_count": 99,
   "metadata": {},
   "outputs": [
    {
     "name": "stdout",
     "output_type": "stream",
     "text": [
      "Rows:69713\n",
      "Cols:27\n",
      "\n",
      "\n"
     ]
    },
    {
     "data": {
      "text/html": [
       "<table>\n",
       "<thead>\n",
       "<tr><th>       </th><th>Gender  </th><th>DOB                </th><th>Lead_Creation_Date  </th><th>City_Code  </th><th>City_Category  </th><th>Employer_Code  </th><th>Employer_Category1  </th><th>Employer_Category2  </th><th>Monthly_Income  </th><th>Customer_Existing_Primary_Bank_Code  </th><th>Primary_Bank_Type  </th><th>Contacted  </th><th>Source  </th><th>Source_Category  </th><th>Existing_EMI  </th><th>Loan_Amount  </th><th>Loan_Period  </th><th>Interest_Rate  </th><th>EMI          </th><th>Var1         </th><th>Approved       </th><th>age          </th><th>DOB_Day      </th><th>DOB_Month    </th><th>DOB_Year     </th><th>DOB_WeekNum  </th><th>DOB_WeekDay  </th></tr>\n",
       "</thead>\n",
       "<tbody>\n",
       "<tr><td>type   </td><td>enum    </td><td>time               </td><td>time                </td><td>enum       </td><td>enum           </td><td>enum           </td><td>enum                </td><td>int                 </td><td>real            </td><td>enum                                 </td><td>enum               </td><td>enum       </td><td>enum    </td><td>enum             </td><td>real          </td><td>int          </td><td>int          </td><td>real           </td><td>int          </td><td>int          </td><td>int            </td><td>int          </td><td>int          </td><td>int          </td><td>int          </td><td>int          </td><td>enum         </td></tr>\n",
       "<tr><td>mins   </td><td>        </td><td>-1.2446784e+12     </td><td>1.4673312e+12       </td><td>           </td><td>               </td><td>               </td><td>                    </td><td>1.0                 </td><td>0.0             </td><td>                                     </td><td>                   </td><td>           </td><td>        </td><td>                 </td><td>0.0           </td><td>5000.0       </td><td>1.0          </td><td>11.99          </td><td>118.0        </td><td>0.0          </td><td>0.0            </td><td>18.0         </td><td>1.0          </td><td>1.0          </td><td>1930.0       </td><td>1.0          </td><td>             </td></tr>\n",
       "<tr><td>mean   </td><td>        </td><td>4.97383139878e+11  </td><td>1.47146881597e+12   </td><td>           </td><td>               </td><td>               </td><td>                    </td><td>3.72018650157       </td><td>5622.28319969   </td><td>                                     </td><td>                   </td><td>           </td><td>        </td><td>                 </td><td>360.928751199 </td><td>39429.9828588</td><td>3.89057924434</td><td>19.2135697612  </td><td>1101.4662417 </td><td>3.94844577052</td><td>0.0146314173827</td><td>30.8809004563</td><td>14.5006456426</td><td>6.59713334672</td><td>1985.26013659</td><td>26.7799793394</td><td>             </td></tr>\n",
       "<tr><td>maxs   </td><td>        </td><td>9.198144e+11       </td><td>1.4751936e+12       </td><td>           </td><td>               </td><td>               </td><td>                    </td><td>4.0                 </td><td>38383838.3      </td><td>                                     </td><td>                   </td><td>           </td><td>        </td><td>                 </td><td>545436.5      </td><td>300000.0     </td><td>5.0          </td><td>37.0           </td><td>13556.0      </td><td>10.0         </td><td>1.0            </td><td>86.0         </td><td>31.0         </td><td>12.0         </td><td>1999.0       </td><td>53.0         </td><td>             </td></tr>\n",
       "<tr><td>sigma  </td><td>        </td><td>2.23680850544e+11  </td><td>2326904996.15       </td><td>           </td><td>               </td><td>               </td><td>                    </td><td>0.807373964436      </td><td>174767.06184    </td><td>                                     </td><td>                   </td><td>           </td><td>        </td><td>                 </td><td>2288.51792717 </td><td>30727.5959902</td><td>1.16745935266</td><td>5.84713577597  </td><td>752.661393713</td><td>3.81921382268</td><td>0.120073085331 </td><td>7.09820991886</td><td>8.85670704092</td><td>3.28019400138</td><td>7.0868451027 </td><td>14.3717344858</td><td>             </td></tr>\n",
       "<tr><td>zeros  </td><td>        </td><td>2                  </td><td>0                   </td><td>           </td><td>               </td><td>               </td><td>                    </td><td>0                   </td><td>250             </td><td>                                     </td><td>                   </td><td>           </td><td>        </td><td>                 </td><td>46621         </td><td>0            </td><td>0            </td><td>0              </td><td>0            </td><td>23308        </td><td>68693          </td><td>0            </td><td>0            </td><td>0            </td><td>0            </td><td>0            </td><td>             </td></tr>\n",
       "<tr><td>missing</td><td>0       </td><td>15                 </td><td>0                   </td><td>0          </td><td>0              </td><td>0              </td><td>0                   </td><td>4298                </td><td>0               </td><td>0                                    </td><td>0                  </td><td>0          </td><td>0       </td><td>0                </td><td>51            </td><td>27709        </td><td>27710        </td><td>47437          </td><td>47437        </td><td>0            </td><td>0              </td><td>15           </td><td>15           </td><td>15           </td><td>15           </td><td>15           </td><td>15           </td></tr>\n",
       "<tr><td>0      </td><td>Female  </td><td>1979-07-23 00:00:00</td><td>2016-07-15 00:00:00 </td><td>C10001     </td><td>A              </td><td>Others         </td><td>A                   </td><td>4.0                 </td><td>2000.0          </td><td>B001                                 </td><td>P                  </td><td>N          </td><td>S122    </td><td>G                </td><td>0.0           </td><td>nan          </td><td>nan          </td><td>nan            </td><td>nan          </td><td>0.0          </td><td>0.0            </td><td>37.0         </td><td>23.0         </td><td>7.0          </td><td>1979.0       </td><td>30.0         </td><td>Mon          </td></tr>\n",
       "<tr><td>1      </td><td>Male    </td><td>1986-12-07 00:00:00</td><td>2016-07-04 00:00:00 </td><td>C10003     </td><td>A              </td><td>COM0000002     </td><td>C                   </td><td>1.0                 </td><td>3500.0          </td><td>B002                                 </td><td>P                  </td><td>Y          </td><td>S122    </td><td>G                </td><td>0.0           </td><td>20000.0      </td><td>2.0          </td><td>13.25          </td><td>953.0        </td><td>10.0         </td><td>0.0            </td><td>30.0         </td><td>7.0          </td><td>12.0         </td><td>1986.0       </td><td>49.0         </td><td>Sun          </td></tr>\n",
       "<tr><td>2      </td><td>Male    </td><td>1982-12-10 00:00:00</td><td>2016-07-19 00:00:00 </td><td>Others     </td><td>C              </td><td>Others         </td><td>C                   </td><td>4.0                 </td><td>2250.0          </td><td>B003                                 </td><td>G                  </td><td>Y          </td><td>S143    </td><td>B                </td><td>0.0           </td><td>45000.0      </td><td>4.0          </td><td>nan            </td><td>nan          </td><td>0.0          </td><td>0.0            </td><td>34.0         </td><td>10.0         </td><td>12.0         </td><td>1982.0       </td><td>49.0         </td><td>Fri          </td></tr>\n",
       "<tr><td>3      </td><td>Male    </td><td>1989-01-30 00:00:00</td><td>2016-07-09 00:00:00 </td><td>Others     </td><td>C              </td><td>Others         </td><td>A                   </td><td>4.0                 </td><td>3500.0          </td><td>B003                                 </td><td>G                  </td><td>Y          </td><td>S143    </td><td>B                </td><td>0.0           </td><td>92000.0      </td><td>5.0          </td><td>nan            </td><td>nan          </td><td>7.0          </td><td>0.0            </td><td>27.0         </td><td>30.0         </td><td>1.0          </td><td>1989.0       </td><td>5.0          </td><td>Mon          </td></tr>\n",
       "<tr><td>4      </td><td>Male    </td><td>1985-04-19 00:00:00</td><td>2016-07-20 00:00:00 </td><td>C10002     </td><td>A              </td><td>Others         </td><td>A                   </td><td>4.0                 </td><td>10000.0         </td><td>B001                                 </td><td>P                  </td><td>Y          </td><td>S134    </td><td>B                </td><td>2500.0        </td><td>50000.0      </td><td>2.0          </td><td>nan            </td><td>nan          </td><td>10.0         </td><td>0.0            </td><td>31.0         </td><td>19.0         </td><td>4.0          </td><td>1985.0       </td><td>16.0         </td><td>Fri          </td></tr>\n",
       "<tr><td>5      </td><td>Female  </td><td>1988-12-23 00:00:00</td><td>2016-07-01 00:00:00 </td><td>Others     </td><td>C              </td><td>Others         </td><td>A                   </td><td>4.0                 </td><td>7000.0          </td><td>B014                                 </td><td>P                  </td><td>N          </td><td>S133    </td><td>B                </td><td>0.0           </td><td>nan          </td><td>nan          </td><td>nan            </td><td>nan          </td><td>0.0          </td><td>0.0            </td><td>28.0         </td><td>23.0         </td><td>12.0         </td><td>1988.0       </td><td>51.0         </td><td>Fri          </td></tr>\n",
       "<tr><td>6      </td><td>Male    </td><td>1973-03-28 00:00:00</td><td>2016-07-02 00:00:00 </td><td>C10022     </td><td>B              </td><td>Others         </td><td>B                   </td><td>4.0                 </td><td>7500.0          </td><td>B003                                 </td><td>G                  </td><td>Y          </td><td>S122    </td><td>C                </td><td>0.0           </td><td>130000.0     </td><td>5.0          </td><td>14.85          </td><td>3082.0       </td><td>10.0         </td><td>0.0            </td><td>43.0         </td><td>28.0         </td><td>3.0          </td><td>1973.0       </td><td>13.0         </td><td>Wed          </td></tr>\n",
       "<tr><td>7      </td><td>Female  </td><td>1990-11-12 00:00:00</td><td>2016-07-03 00:00:00 </td><td>C10003     </td><td>A              </td><td>Others         </td><td>A                   </td><td>4.0                 </td><td>3000.0          </td><td>B006                                 </td><td>P                  </td><td>Y          </td><td>S133    </td><td>B                </td><td>0.0           </td><td>30000.0      </td><td>3.0          </td><td>18.25          </td><td>1088.0       </td><td>0.0          </td><td>0.0            </td><td>26.0         </td><td>12.0         </td><td>11.0         </td><td>1990.0       </td><td>46.0         </td><td>Mon          </td></tr>\n",
       "<tr><td>8      </td><td>Male    </td><td>1977-03-03 00:00:00</td><td>2016-07-02 00:00:00 </td><td>C10003     </td><td>A              </td><td>Others         </td><td>A                   </td><td>4.0                 </td><td>2500.0          </td><td>B017                                 </td><td>G                  </td><td>Y          </td><td>S133    </td><td>B                </td><td>0.0           </td><td>66000.0      </td><td>5.0          </td><td>20.0           </td><td>1749.0       </td><td>7.0          </td><td>0.0            </td><td>39.0         </td><td>3.0          </td><td>3.0          </td><td>1977.0       </td><td>9.0          </td><td>Thu          </td></tr>\n",
       "<tr><td>9      </td><td>Female  </td><td>1990-12-13 00:00:00</td><td>2016-07-02 00:00:00 </td><td>C10014     </td><td>B              </td><td>Others         </td><td>A                   </td><td>4.0                 </td><td>2500.0          </td><td>                                     </td><td>                   </td><td>N          </td><td>S122    </td><td>B                </td><td>0.0           </td><td>nan          </td><td>nan          </td><td>nan            </td><td>nan          </td><td>0.0          </td><td>0.0            </td><td>26.0         </td><td>13.0         </td><td>12.0         </td><td>1990.0       </td><td>50.0         </td><td>Thu          </td></tr>\n",
       "</tbody>\n",
       "</table>"
      ]
     },
     "metadata": {},
     "output_type": "display_data"
    },
    {
     "name": "stdout",
     "output_type": "stream",
     "text": [
      "Rows:69713\n",
      "Cols:28\n",
      "\n",
      "\n"
     ]
    },
    {
     "data": {
      "text/html": [
       "<table>\n",
       "<thead>\n",
       "<tr><th>       </th><th>Gender  </th><th>Lead_Creation_Date  </th><th>City_Code  </th><th>City_Category  </th><th>Employer_Code  </th><th>Employer_Category1  </th><th>Employer_Category2  </th><th>Monthly_Income  </th><th>Customer_Existing_Primary_Bank_Code  </th><th>Primary_Bank_Type  </th><th>Contacted  </th><th>Source  </th><th>Source_Category  </th><th>Existing_EMI  </th><th>Loan_Amount  </th><th>Loan_Period  </th><th>Interest_Rate  </th><th>EMI          </th><th>Var1         </th><th>Approved       </th><th>age          </th><th>DOB_Day      </th><th>DOB_Month    </th><th>DOB_Year     </th><th>DOB_WeekNum  </th><th>DOB_WeekDay  </th><th>DOB_Weekend   </th><th>DOB_Season  </th></tr>\n",
       "</thead>\n",
       "<tbody>\n",
       "<tr><td>type   </td><td>enum    </td><td>time                </td><td>enum       </td><td>enum           </td><td>enum           </td><td>enum                </td><td>int                 </td><td>real            </td><td>enum                                 </td><td>enum               </td><td>enum       </td><td>enum    </td><td>enum             </td><td>real          </td><td>int          </td><td>int          </td><td>real           </td><td>int          </td><td>int          </td><td>int            </td><td>int          </td><td>int          </td><td>int          </td><td>int          </td><td>int          </td><td>enum         </td><td>int           </td><td>enum        </td></tr>\n",
       "<tr><td>mins   </td><td>        </td><td>1.4673312e+12       </td><td>           </td><td>               </td><td>               </td><td>                    </td><td>1.0                 </td><td>0.0             </td><td>                                     </td><td>                   </td><td>           </td><td>        </td><td>                 </td><td>0.0           </td><td>5000.0       </td><td>1.0          </td><td>11.99          </td><td>118.0        </td><td>0.0          </td><td>0.0            </td><td>18.0         </td><td>1.0          </td><td>1.0          </td><td>1930.0       </td><td>1.0          </td><td>             </td><td>0.0           </td><td>            </td></tr>\n",
       "<tr><td>mean   </td><td>        </td><td>1.47146881597e+12   </td><td>           </td><td>               </td><td>               </td><td>                    </td><td>3.72018650157       </td><td>5622.28319969   </td><td>                                     </td><td>                   </td><td>           </td><td>        </td><td>                 </td><td>360.928751199 </td><td>39429.9828588</td><td>3.89057924434</td><td>19.2135697612  </td><td>1101.4662417 </td><td>3.94844577052</td><td>0.0146314173827</td><td>30.8809004563</td><td>14.5006456426</td><td>6.59713334672</td><td>1985.26013659</td><td>26.7799793394</td><td>             </td><td>0.279445727483</td><td>            </td></tr>\n",
       "<tr><td>maxs   </td><td>        </td><td>1.4751936e+12       </td><td>           </td><td>               </td><td>               </td><td>                    </td><td>4.0                 </td><td>38383838.3      </td><td>                                     </td><td>                   </td><td>           </td><td>        </td><td>                 </td><td>545436.5      </td><td>300000.0     </td><td>5.0          </td><td>37.0           </td><td>13556.0      </td><td>10.0         </td><td>1.0            </td><td>86.0         </td><td>31.0         </td><td>12.0         </td><td>1999.0       </td><td>53.0         </td><td>             </td><td>1.0           </td><td>            </td></tr>\n",
       "<tr><td>sigma  </td><td>        </td><td>2326904996.15       </td><td>           </td><td>               </td><td>               </td><td>                    </td><td>0.807373964436      </td><td>174767.06184    </td><td>                                     </td><td>                   </td><td>           </td><td>        </td><td>                 </td><td>2288.51792717 </td><td>30727.5959902</td><td>1.16745935266</td><td>5.84713577597  </td><td>752.661393713</td><td>3.81921382268</td><td>0.120073085331 </td><td>7.09820991886</td><td>8.85670704092</td><td>3.28019400138</td><td>7.0868451027 </td><td>14.3717344858</td><td>             </td><td>0.448730098466</td><td>            </td></tr>\n",
       "<tr><td>zeros  </td><td>        </td><td>0                   </td><td>           </td><td>               </td><td>               </td><td>                    </td><td>0                   </td><td>250             </td><td>                                     </td><td>                   </td><td>           </td><td>        </td><td>                 </td><td>46621         </td><td>0            </td><td>0            </td><td>0              </td><td>0            </td><td>23308        </td><td>68693          </td><td>0            </td><td>0            </td><td>0            </td><td>0            </td><td>0            </td><td>             </td><td>50232         </td><td>            </td></tr>\n",
       "<tr><td>missing</td><td>0       </td><td>0                   </td><td>0          </td><td>0              </td><td>0              </td><td>0                   </td><td>4298                </td><td>0               </td><td>0                                    </td><td>0                  </td><td>0          </td><td>0       </td><td>0                </td><td>51            </td><td>27709        </td><td>27710        </td><td>47437          </td><td>47437        </td><td>0            </td><td>0              </td><td>15           </td><td>15           </td><td>15           </td><td>15           </td><td>15           </td><td>15           </td><td>0             </td><td>15          </td></tr>\n",
       "<tr><td>0      </td><td>Female  </td><td>2016-07-15 00:00:00 </td><td>C10001     </td><td>A              </td><td>Others         </td><td>A                   </td><td>4.0                 </td><td>2000.0          </td><td>B001                                 </td><td>P                  </td><td>N          </td><td>S122    </td><td>G                </td><td>0.0           </td><td>nan          </td><td>nan          </td><td>nan            </td><td>nan          </td><td>0.0          </td><td>0.0            </td><td>37.0         </td><td>23.0         </td><td>7.0          </td><td>1979.0       </td><td>30.0         </td><td>Mon          </td><td>0.0           </td><td>Summer      </td></tr>\n",
       "<tr><td>1      </td><td>Male    </td><td>2016-07-04 00:00:00 </td><td>C10003     </td><td>A              </td><td>COM0000002     </td><td>C                   </td><td>1.0                 </td><td>3500.0          </td><td>B002                                 </td><td>P                  </td><td>Y          </td><td>S122    </td><td>G                </td><td>0.0           </td><td>20000.0      </td><td>2.0          </td><td>13.25          </td><td>953.0        </td><td>10.0         </td><td>0.0            </td><td>30.0         </td><td>7.0          </td><td>12.0         </td><td>1986.0       </td><td>49.0         </td><td>Sun          </td><td>1.0           </td><td>Winter      </td></tr>\n",
       "<tr><td>2      </td><td>Male    </td><td>2016-07-19 00:00:00 </td><td>Others     </td><td>C              </td><td>Others         </td><td>C                   </td><td>4.0                 </td><td>2250.0          </td><td>B003                                 </td><td>G                  </td><td>Y          </td><td>S143    </td><td>B                </td><td>0.0           </td><td>45000.0      </td><td>4.0          </td><td>nan            </td><td>nan          </td><td>0.0          </td><td>0.0            </td><td>34.0         </td><td>10.0         </td><td>12.0         </td><td>1982.0       </td><td>49.0         </td><td>Fri          </td><td>0.0           </td><td>Winter      </td></tr>\n",
       "<tr><td>3      </td><td>Male    </td><td>2016-07-09 00:00:00 </td><td>Others     </td><td>C              </td><td>Others         </td><td>A                   </td><td>4.0                 </td><td>3500.0          </td><td>B003                                 </td><td>G                  </td><td>Y          </td><td>S143    </td><td>B                </td><td>0.0           </td><td>92000.0      </td><td>5.0          </td><td>nan            </td><td>nan          </td><td>7.0          </td><td>0.0            </td><td>27.0         </td><td>30.0         </td><td>1.0          </td><td>1989.0       </td><td>5.0          </td><td>Mon          </td><td>0.0           </td><td>Winter      </td></tr>\n",
       "<tr><td>4      </td><td>Male    </td><td>2016-07-20 00:00:00 </td><td>C10002     </td><td>A              </td><td>Others         </td><td>A                   </td><td>4.0                 </td><td>10000.0         </td><td>B001                                 </td><td>P                  </td><td>Y          </td><td>S134    </td><td>B                </td><td>2500.0        </td><td>50000.0      </td><td>2.0          </td><td>nan            </td><td>nan          </td><td>10.0         </td><td>0.0            </td><td>31.0         </td><td>19.0         </td><td>4.0          </td><td>1985.0       </td><td>16.0         </td><td>Fri          </td><td>0.0           </td><td>Spring      </td></tr>\n",
       "<tr><td>5      </td><td>Female  </td><td>2016-07-01 00:00:00 </td><td>Others     </td><td>C              </td><td>Others         </td><td>A                   </td><td>4.0                 </td><td>7000.0          </td><td>B014                                 </td><td>P                  </td><td>N          </td><td>S133    </td><td>B                </td><td>0.0           </td><td>nan          </td><td>nan          </td><td>nan            </td><td>nan          </td><td>0.0          </td><td>0.0            </td><td>28.0         </td><td>23.0         </td><td>12.0         </td><td>1988.0       </td><td>51.0         </td><td>Fri          </td><td>0.0           </td><td>Winter      </td></tr>\n",
       "<tr><td>6      </td><td>Male    </td><td>2016-07-02 00:00:00 </td><td>C10022     </td><td>B              </td><td>Others         </td><td>B                   </td><td>4.0                 </td><td>7500.0          </td><td>B003                                 </td><td>G                  </td><td>Y          </td><td>S122    </td><td>C                </td><td>0.0           </td><td>130000.0     </td><td>5.0          </td><td>14.85          </td><td>3082.0       </td><td>10.0         </td><td>0.0            </td><td>43.0         </td><td>28.0         </td><td>3.0          </td><td>1973.0       </td><td>13.0         </td><td>Wed          </td><td>0.0           </td><td>Spring      </td></tr>\n",
       "<tr><td>7      </td><td>Female  </td><td>2016-07-03 00:00:00 </td><td>C10003     </td><td>A              </td><td>Others         </td><td>A                   </td><td>4.0                 </td><td>3000.0          </td><td>B006                                 </td><td>P                  </td><td>Y          </td><td>S133    </td><td>B                </td><td>0.0           </td><td>30000.0      </td><td>3.0          </td><td>18.25          </td><td>1088.0       </td><td>0.0          </td><td>0.0            </td><td>26.0         </td><td>12.0         </td><td>11.0         </td><td>1990.0       </td><td>46.0         </td><td>Mon          </td><td>0.0           </td><td>Winter      </td></tr>\n",
       "<tr><td>8      </td><td>Male    </td><td>2016-07-02 00:00:00 </td><td>C10003     </td><td>A              </td><td>Others         </td><td>A                   </td><td>4.0                 </td><td>2500.0          </td><td>B017                                 </td><td>G                  </td><td>Y          </td><td>S133    </td><td>B                </td><td>0.0           </td><td>66000.0      </td><td>5.0          </td><td>20.0           </td><td>1749.0       </td><td>7.0          </td><td>0.0            </td><td>39.0         </td><td>3.0          </td><td>3.0          </td><td>1977.0       </td><td>9.0          </td><td>Thu          </td><td>0.0           </td><td>Spring      </td></tr>\n",
       "<tr><td>9      </td><td>Female  </td><td>2016-07-02 00:00:00 </td><td>C10014     </td><td>B              </td><td>Others         </td><td>A                   </td><td>4.0                 </td><td>2500.0          </td><td>                                     </td><td>                   </td><td>N          </td><td>S122    </td><td>B                </td><td>0.0           </td><td>nan          </td><td>nan          </td><td>nan            </td><td>nan          </td><td>0.0          </td><td>0.0            </td><td>26.0         </td><td>13.0         </td><td>12.0         </td><td>1990.0       </td><td>50.0         </td><td>Thu          </td><td>0.0           </td><td>Winter      </td></tr>\n",
       "</tbody>\n",
       "</table>"
      ]
     },
     "metadata": {},
     "output_type": "display_data"
    }
   ],
   "source": [
    "def refine_date_col(data, col, pattern):\n",
    "    #data[col]         = data[col].as_date(pattern) # As of 5/29/2106 H2O defaults parse as a date\n",
    "    data[\"DOB_Day\"]       = data[col].day()\n",
    "    data[\"DOB_Month\"]     = data[col].month()     # Since H2O indexes from 0\n",
    "    data[\"DOB_Year\"]      = data[col].year()   # Start of epoch is 1900\n",
    "    data[\"DOB_WeekNum\"]   = data[col].week()\n",
    "    data[\"DOB_WeekDay\"]   = data[col].dayOfWeek()\n",
    "    \n",
    "    data.describe()  # HACK: Force evaluation before ifelse and cut. See PUBDEV-1425.\n",
    "    \n",
    "    # Create weekend and season cols\n",
    "    # Spring = Mar, Apr, May. Summer = Jun, Jul, Aug. Autumn = Sep, Oct. Winter = Nov, Dec, Jan, Feb.\n",
    "    # data[\"Weekend\"]   = [1 if x in (\"Sun\", \"Sat\") else 0 for x in data[\"WeekDay\"]]\n",
    "    data[\"DOB_Weekend\"] = ((data[\"DOB_WeekDay\"] == \"Sun\") | (data[\"DOB_WeekDay\"] == \"Sat\"))\n",
    "    data[\"DOB_Season\"] = data[\"DOB_Month\"].cut([0, 2, 5, 7, 10, 12], [\"Winter\", \"Spring\", \"Summer\", \"Autumn\", \"Winter\"])\n",
    "    \n",
    "refine_date_col(train, \"DOB\", \"%Y-%m-%d\")\n",
    "train = train.drop(\"DOB\")\n",
    "train.describe()"
   ]
  },
  {
   "cell_type": "code",
   "execution_count": 100,
   "metadata": {},
   "outputs": [
    {
     "name": "stdout",
     "output_type": "stream",
     "text": [
      "Rows:30037\n",
      "Cols:26\n",
      "\n",
      "\n"
     ]
    },
    {
     "data": {
      "text/html": [
       "<table>\n",
       "<thead>\n",
       "<tr><th>       </th><th>Gender  </th><th>DOB                </th><th>Lead_Creation_Date  </th><th>City_Code  </th><th>City_Category  </th><th>Employer_Code  </th><th>Employer_Category1  </th><th>Employer_Category2  </th><th>Monthly_Income  </th><th>Customer_Existing_Primary_Bank_Code  </th><th>Primary_Bank_Type  </th><th>Contacted  </th><th>Source  </th><th>Source_Category  </th><th>Existing_EMI  </th><th>Loan_Amount  </th><th>Loan_Period  </th><th>Interest_Rate  </th><th>EMI          </th><th>Var1         </th><th>age          </th><th>DOB_Day      </th><th>DOB_Month    </th><th>DOB_Year     </th><th>DOB_WeekNum  </th><th>DOB_WeekDay  </th></tr>\n",
       "</thead>\n",
       "<tbody>\n",
       "<tr><td>type   </td><td>enum    </td><td>time               </td><td>time                </td><td>enum       </td><td>enum           </td><td>enum           </td><td>enum                </td><td>int                 </td><td>real            </td><td>enum                                 </td><td>enum               </td><td>enum       </td><td>enum    </td><td>enum             </td><td>real          </td><td>int          </td><td>int          </td><td>real           </td><td>int          </td><td>int          </td><td>int          </td><td>int          </td><td>int          </td><td>int          </td><td>int          </td><td>enum         </td></tr>\n",
       "<tr><td>mins   </td><td>        </td><td>-1.1595744e+12     </td><td>1.4673312e+12       </td><td>           </td><td>               </td><td>               </td><td>                    </td><td>1.0                 </td><td>0.0             </td><td>                                     </td><td>                   </td><td>           </td><td>        </td><td>                 </td><td>0.0           </td><td>5000.0       </td><td>1.0          </td><td>11.99          </td><td>118.0        </td><td>0.0          </td><td>18.0         </td><td>1.0          </td><td>1.0          </td><td>1933.0       </td><td>1.0          </td><td>             </td></tr>\n",
       "<tr><td>mean   </td><td>        </td><td>4.97217475341e+11  </td><td>1.47147878544e+12   </td><td>           </td><td>               </td><td>               </td><td>                    </td><td>3.72824783008       </td><td>3977.13915171   </td><td>                                     </td><td>                   </td><td>           </td><td>        </td><td>                 </td><td>348.909059557 </td><td>39482.9902015</td><td>3.90288482713</td><td>19.2805366763  </td><td>1094.9148363 </td><td>3.96231314712</td><td>30.8875607645</td><td>14.571452354 </td><td>6.59535859359</td><td>1985.25484451</td><td>26.7379303456</td><td>             </td></tr>\n",
       "<tr><td>maxs   </td><td>        </td><td>9.195552e+11       </td><td>1.4751936e+12       </td><td>           </td><td>               </td><td>               </td><td>                    </td><td>4.0                 </td><td>3500000.0       </td><td>                                     </td><td>                   </td><td>           </td><td>        </td><td>                 </td><td>43000.0       </td><td>300000.0     </td><td>5.0          </td><td>37.0           </td><td>6979.0       </td><td>10.0         </td><td>83.0         </td><td>31.0         </td><td>12.0         </td><td>1999.0       </td><td>53.0         </td><td>             </td></tr>\n",
       "<tr><td>sigma  </td><td>        </td><td>2.23170966285e+11  </td><td>2316072851.75       </td><td>           </td><td>               </td><td>               </td><td>                    </td><td>0.794883358458      </td><td>23289.6018757   </td><td>                                     </td><td>                   </td><td>           </td><td>        </td><td>                 </td><td>1000.81684747 </td><td>30527.8655936</td><td>1.15067296653</td><td>5.8822462436   </td><td>727.452303167</td><td>3.82101963532</td><td>7.08207632251</td><td>8.86878333963</td><td>3.26688026649</td><td>7.07018583374</td><td>14.3010106006</td><td>             </td></tr>\n",
       "<tr><td>zeros  </td><td>        </td><td>0                  </td><td>0                   </td><td>           </td><td>               </td><td>               </td><td>                    </td><td>0                   </td><td>97              </td><td>                                     </td><td>                   </td><td>           </td><td>        </td><td>                 </td><td>20111         </td><td>0            </td><td>0            </td><td>0              </td><td>0            </td><td>9937         </td><td>0            </td><td>0            </td><td>0            </td><td>0            </td><td>0            </td><td>             </td></tr>\n",
       "<tr><td>missing</td><td>0       </td><td>3                  </td><td>0                   </td><td>0          </td><td>0              </td><td>0              </td><td>0                   </td><td>1695                </td><td>0               </td><td>0                                    </td><td>0                  </td><td>0          </td><td>0       </td><td>0                </td><td>32            </td><td>11871        </td><td>11873        </td><td>20385          </td><td>20385        </td><td>0            </td><td>3            </td><td>3            </td><td>3            </td><td>3            </td><td>3            </td><td>3            </td></tr>\n",
       "<tr><td>0      </td><td>Male    </td><td>1988-06-03 00:00:00</td><td>2016-07-05 00:00:00 </td><td>Others     </td><td>C              </td><td>               </td><td>A                   </td><td>4.0                 </td><td>2150.0          </td><td>B002                                 </td><td>P                  </td><td>Y          </td><td>S122    </td><td>B                </td><td>0.0           </td><td>10000.0      </td><td>3.0          </td><td>20.0           </td><td>372.0        </td><td>4.0          </td><td>28.0         </td><td>3.0          </td><td>6.0          </td><td>1988.0       </td><td>22.0         </td><td>Fri          </td></tr>\n",
       "<tr><td>1      </td><td>Male    </td><td>1981-07-13 00:00:00</td><td>2016-07-01 00:00:00 </td><td>Others     </td><td>A              </td><td>               </td><td>C                   </td><td>4.0                 </td><td>4200.0          </td><td>B004                                 </td><td>P                  </td><td>Y          </td><td>S133    </td><td>C                </td><td>0.0           </td><td>69000.0      </td><td>5.0          </td><td>24.0           </td><td>1985.0       </td><td>7.0          </td><td>35.0         </td><td>13.0         </td><td>7.0          </td><td>1981.0       </td><td>29.0         </td><td>Mon          </td></tr>\n",
       "<tr><td>2      </td><td>Female  </td><td>1990-11-19 00:00:00</td><td>2016-07-01 00:00:00 </td><td>C10009     </td><td>B              </td><td>               </td><td>B                   </td><td>4.0                 </td><td>1000.0          </td><td>B002                                 </td><td>P                  </td><td>N          </td><td>S133    </td><td>B                </td><td>0.0           </td><td>nan          </td><td>nan          </td><td>nan            </td><td>nan          </td><td>0.0          </td><td>26.0         </td><td>19.0         </td><td>11.0         </td><td>1990.0       </td><td>47.0         </td><td>Mon          </td></tr>\n",
       "<tr><td>3      </td><td>Female  </td><td>1992-10-15 00:00:00</td><td>2016-07-01 00:00:00 </td><td>C10005     </td><td>A              </td><td>COM0000085     </td><td>A                   </td><td>3.0                 </td><td>1465.0          </td><td>B001                                 </td><td>P                  </td><td>N          </td><td>S133    </td><td>C                </td><td>0.0           </td><td>nan          </td><td>nan          </td><td>nan            </td><td>nan          </td><td>0.0          </td><td>24.0         </td><td>15.0         </td><td>10.0         </td><td>1992.0       </td><td>42.0         </td><td>Thu          </td></tr>\n",
       "<tr><td>4      </td><td>Male    </td><td>1988-09-21 00:00:00</td><td>2016-07-01 00:00:00 </td><td>Others     </td><td>A              </td><td>               </td><td>A                   </td><td>4.0                 </td><td>2340.0          </td><td>B004                                 </td><td>P                  </td><td>Y          </td><td>S143    </td><td>B                </td><td>500.0         </td><td>10000.0      </td><td>2.0          </td><td>nan            </td><td>nan          </td><td>0.0          </td><td>28.0         </td><td>21.0         </td><td>9.0          </td><td>1988.0       </td><td>38.0         </td><td>Wed          </td></tr>\n",
       "<tr><td>5      </td><td>Female  </td><td>1987-12-26 00:00:00</td><td>2016-07-01 00:00:00 </td><td>C10010     </td><td>A              </td><td>               </td><td>B                   </td><td>4.0                 </td><td>1500.0          </td><td>B004                                 </td><td>P                  </td><td>N          </td><td>S133    </td><td>B                </td><td>450.0         </td><td>nan          </td><td>nan          </td><td>nan            </td><td>nan          </td><td>0.0          </td><td>29.0         </td><td>26.0         </td><td>12.0         </td><td>1987.0       </td><td>52.0         </td><td>Sat          </td></tr>\n",
       "<tr><td>6      </td><td>Female  </td><td>1973-09-22 00:00:00</td><td>2016-07-01 00:00:00 </td><td>Others     </td><td>A              </td><td>               </td><td>A                   </td><td>4.0                 </td><td>6900.0          </td><td>B003                                 </td><td>G                  </td><td>N          </td><td>S134    </td><td>B                </td><td>3000.0        </td><td>nan          </td><td>nan          </td><td>nan            </td><td>nan          </td><td>0.0          </td><td>43.0         </td><td>22.0         </td><td>9.0          </td><td>1973.0       </td><td>38.0         </td><td>Sat          </td></tr>\n",
       "<tr><td>7      </td><td>Female  </td><td>1991-10-18 00:00:00</td><td>2016-07-01 00:00:00 </td><td>Others     </td><td>A              </td><td>               </td><td>B                   </td><td>4.0                 </td><td>2055.5          </td><td>B002                                 </td><td>P                  </td><td>N          </td><td>S133    </td><td>B                </td><td>749.7         </td><td>nan          </td><td>nan          </td><td>nan            </td><td>nan          </td><td>0.0          </td><td>25.0         </td><td>18.0         </td><td>10.0         </td><td>1991.0       </td><td>42.0         </td><td>Fri          </td></tr>\n",
       "<tr><td>8      </td><td>Male    </td><td>1991-08-06 00:00:00</td><td>2016-07-01 00:00:00 </td><td>C10014     </td><td>B              </td><td>               </td><td>A                   </td><td>4.0                 </td><td>3000.0          </td><td>B004                                 </td><td>P                  </td><td>Y          </td><td>S156    </td><td>B                </td><td>0.0           </td><td>10000.0      </td><td>1.0          </td><td>nan            </td><td>nan          </td><td>10.0         </td><td>25.0         </td><td>6.0          </td><td>8.0          </td><td>1991.0       </td><td>32.0         </td><td>Tue          </td></tr>\n",
       "<tr><td>9      </td><td>Male    </td><td>1984-07-13 00:00:00</td><td>2016-07-01 00:00:00 </td><td>C10001     </td><td>A              </td><td>               </td><td>B                   </td><td>4.0                 </td><td>4040.0          </td><td>B002                                 </td><td>P                  </td><td>Y          </td><td>S133    </td><td>B                </td><td>0.0           </td><td>30000.0      </td><td>4.0          </td><td>nan            </td><td>nan          </td><td>10.0         </td><td>32.0         </td><td>13.0         </td><td>7.0          </td><td>1984.0       </td><td>28.0         </td><td>Fri          </td></tr>\n",
       "</tbody>\n",
       "</table>"
      ]
     },
     "metadata": {},
     "output_type": "display_data"
    },
    {
     "name": "stdout",
     "output_type": "stream",
     "text": [
      "Rows:30037\n",
      "Cols:27\n",
      "\n",
      "\n"
     ]
    },
    {
     "data": {
      "text/html": [
       "<table>\n",
       "<thead>\n",
       "<tr><th>       </th><th>Gender  </th><th>Lead_Creation_Date  </th><th>City_Code  </th><th>City_Category  </th><th>Employer_Code  </th><th>Employer_Category1  </th><th>Employer_Category2  </th><th>Monthly_Income  </th><th>Customer_Existing_Primary_Bank_Code  </th><th>Primary_Bank_Type  </th><th>Contacted  </th><th>Source  </th><th>Source_Category  </th><th>Existing_EMI  </th><th>Loan_Amount  </th><th>Loan_Period  </th><th>Interest_Rate  </th><th>EMI          </th><th>Var1         </th><th>age          </th><th>DOB_Day      </th><th>DOB_Month    </th><th>DOB_Year     </th><th>DOB_WeekNum  </th><th>DOB_WeekDay  </th><th>DOB_Weekend   </th><th>DOB_Season  </th></tr>\n",
       "</thead>\n",
       "<tbody>\n",
       "<tr><td>type   </td><td>enum    </td><td>time                </td><td>enum       </td><td>enum           </td><td>enum           </td><td>enum                </td><td>int                 </td><td>real            </td><td>enum                                 </td><td>enum               </td><td>enum       </td><td>enum    </td><td>enum             </td><td>real          </td><td>int          </td><td>int          </td><td>real           </td><td>int          </td><td>int          </td><td>int          </td><td>int          </td><td>int          </td><td>int          </td><td>int          </td><td>enum         </td><td>int           </td><td>enum        </td></tr>\n",
       "<tr><td>mins   </td><td>        </td><td>1.4673312e+12       </td><td>           </td><td>               </td><td>               </td><td>                    </td><td>1.0                 </td><td>0.0             </td><td>                                     </td><td>                   </td><td>           </td><td>        </td><td>                 </td><td>0.0           </td><td>5000.0       </td><td>1.0          </td><td>11.99          </td><td>118.0        </td><td>0.0          </td><td>18.0         </td><td>1.0          </td><td>1.0          </td><td>1933.0       </td><td>1.0          </td><td>             </td><td>0.0           </td><td>            </td></tr>\n",
       "<tr><td>mean   </td><td>        </td><td>1.47147878544e+12   </td><td>           </td><td>               </td><td>               </td><td>                    </td><td>3.72824783008       </td><td>3977.13915171   </td><td>                                     </td><td>                   </td><td>           </td><td>        </td><td>                 </td><td>348.909059557 </td><td>39482.9902015</td><td>3.90288482713</td><td>19.2805366763  </td><td>1094.9148363 </td><td>3.96231314712</td><td>30.8875607645</td><td>14.571452354 </td><td>6.59535859359</td><td>1985.25484451</td><td>26.7379303456</td><td>             </td><td>0.283550287978</td><td>            </td></tr>\n",
       "<tr><td>maxs   </td><td>        </td><td>1.4751936e+12       </td><td>           </td><td>               </td><td>               </td><td>                    </td><td>4.0                 </td><td>3500000.0       </td><td>                                     </td><td>                   </td><td>           </td><td>        </td><td>                 </td><td>43000.0       </td><td>300000.0     </td><td>5.0          </td><td>37.0           </td><td>6979.0       </td><td>10.0         </td><td>83.0         </td><td>31.0         </td><td>12.0         </td><td>1999.0       </td><td>53.0         </td><td>             </td><td>1.0           </td><td>            </td></tr>\n",
       "<tr><td>sigma  </td><td>        </td><td>2316072851.75       </td><td>           </td><td>               </td><td>               </td><td>                    </td><td>0.794883358458      </td><td>23289.6018757   </td><td>                                     </td><td>                   </td><td>           </td><td>        </td><td>                 </td><td>1000.81684747 </td><td>30527.8655936</td><td>1.15067296653</td><td>5.8822462436   </td><td>727.452303167</td><td>3.82101963532</td><td>7.08207632251</td><td>8.86878333963</td><td>3.26688026649</td><td>7.07018583374</td><td>14.3010106006</td><td>             </td><td>0.450728616465</td><td>            </td></tr>\n",
       "<tr><td>zeros  </td><td>        </td><td>0                   </td><td>           </td><td>               </td><td>               </td><td>                    </td><td>0                   </td><td>97              </td><td>                                     </td><td>                   </td><td>           </td><td>        </td><td>                 </td><td>20111         </td><td>0            </td><td>0            </td><td>0              </td><td>0            </td><td>9937         </td><td>0            </td><td>0            </td><td>0            </td><td>0            </td><td>0            </td><td>             </td><td>21520         </td><td>            </td></tr>\n",
       "<tr><td>missing</td><td>0       </td><td>0                   </td><td>0          </td><td>0              </td><td>0              </td><td>0                   </td><td>1695                </td><td>0               </td><td>0                                    </td><td>0                  </td><td>0          </td><td>0       </td><td>0                </td><td>32            </td><td>11871        </td><td>11873        </td><td>20385          </td><td>20385        </td><td>0            </td><td>3            </td><td>3            </td><td>3            </td><td>3            </td><td>3            </td><td>3            </td><td>0             </td><td>3           </td></tr>\n",
       "<tr><td>0      </td><td>Male    </td><td>2016-07-05 00:00:00 </td><td>Others     </td><td>C              </td><td>               </td><td>A                   </td><td>4.0                 </td><td>2150.0          </td><td>B002                                 </td><td>P                  </td><td>Y          </td><td>S122    </td><td>B                </td><td>0.0           </td><td>10000.0      </td><td>3.0          </td><td>20.0           </td><td>372.0        </td><td>4.0          </td><td>28.0         </td><td>3.0          </td><td>6.0          </td><td>1988.0       </td><td>22.0         </td><td>Fri          </td><td>0.0           </td><td>Summer      </td></tr>\n",
       "<tr><td>1      </td><td>Male    </td><td>2016-07-01 00:00:00 </td><td>Others     </td><td>A              </td><td>               </td><td>C                   </td><td>4.0                 </td><td>4200.0          </td><td>B004                                 </td><td>P                  </td><td>Y          </td><td>S133    </td><td>C                </td><td>0.0           </td><td>69000.0      </td><td>5.0          </td><td>24.0           </td><td>1985.0       </td><td>7.0          </td><td>35.0         </td><td>13.0         </td><td>7.0          </td><td>1981.0       </td><td>29.0         </td><td>Mon          </td><td>0.0           </td><td>Summer      </td></tr>\n",
       "<tr><td>2      </td><td>Female  </td><td>2016-07-01 00:00:00 </td><td>C10009     </td><td>B              </td><td>               </td><td>B                   </td><td>4.0                 </td><td>1000.0          </td><td>B002                                 </td><td>P                  </td><td>N          </td><td>S133    </td><td>B                </td><td>0.0           </td><td>nan          </td><td>nan          </td><td>nan            </td><td>nan          </td><td>0.0          </td><td>26.0         </td><td>19.0         </td><td>11.0         </td><td>1990.0       </td><td>47.0         </td><td>Mon          </td><td>0.0           </td><td>Winter      </td></tr>\n",
       "<tr><td>3      </td><td>Female  </td><td>2016-07-01 00:00:00 </td><td>C10005     </td><td>A              </td><td>COM0000085     </td><td>A                   </td><td>3.0                 </td><td>1465.0          </td><td>B001                                 </td><td>P                  </td><td>N          </td><td>S133    </td><td>C                </td><td>0.0           </td><td>nan          </td><td>nan          </td><td>nan            </td><td>nan          </td><td>0.0          </td><td>24.0         </td><td>15.0         </td><td>10.0         </td><td>1992.0       </td><td>42.0         </td><td>Thu          </td><td>0.0           </td><td>Autumn      </td></tr>\n",
       "<tr><td>4      </td><td>Male    </td><td>2016-07-01 00:00:00 </td><td>Others     </td><td>A              </td><td>               </td><td>A                   </td><td>4.0                 </td><td>2340.0          </td><td>B004                                 </td><td>P                  </td><td>Y          </td><td>S143    </td><td>B                </td><td>500.0         </td><td>10000.0      </td><td>2.0          </td><td>nan            </td><td>nan          </td><td>0.0          </td><td>28.0         </td><td>21.0         </td><td>9.0          </td><td>1988.0       </td><td>38.0         </td><td>Wed          </td><td>0.0           </td><td>Autumn      </td></tr>\n",
       "<tr><td>5      </td><td>Female  </td><td>2016-07-01 00:00:00 </td><td>C10010     </td><td>A              </td><td>               </td><td>B                   </td><td>4.0                 </td><td>1500.0          </td><td>B004                                 </td><td>P                  </td><td>N          </td><td>S133    </td><td>B                </td><td>450.0         </td><td>nan          </td><td>nan          </td><td>nan            </td><td>nan          </td><td>0.0          </td><td>29.0         </td><td>26.0         </td><td>12.0         </td><td>1987.0       </td><td>52.0         </td><td>Sat          </td><td>1.0           </td><td>Winter      </td></tr>\n",
       "<tr><td>6      </td><td>Female  </td><td>2016-07-01 00:00:00 </td><td>Others     </td><td>A              </td><td>               </td><td>A                   </td><td>4.0                 </td><td>6900.0          </td><td>B003                                 </td><td>G                  </td><td>N          </td><td>S134    </td><td>B                </td><td>3000.0        </td><td>nan          </td><td>nan          </td><td>nan            </td><td>nan          </td><td>0.0          </td><td>43.0         </td><td>22.0         </td><td>9.0          </td><td>1973.0       </td><td>38.0         </td><td>Sat          </td><td>1.0           </td><td>Autumn      </td></tr>\n",
       "<tr><td>7      </td><td>Female  </td><td>2016-07-01 00:00:00 </td><td>Others     </td><td>A              </td><td>               </td><td>B                   </td><td>4.0                 </td><td>2055.5          </td><td>B002                                 </td><td>P                  </td><td>N          </td><td>S133    </td><td>B                </td><td>749.7         </td><td>nan          </td><td>nan          </td><td>nan            </td><td>nan          </td><td>0.0          </td><td>25.0         </td><td>18.0         </td><td>10.0         </td><td>1991.0       </td><td>42.0         </td><td>Fri          </td><td>0.0           </td><td>Autumn      </td></tr>\n",
       "<tr><td>8      </td><td>Male    </td><td>2016-07-01 00:00:00 </td><td>C10014     </td><td>B              </td><td>               </td><td>A                   </td><td>4.0                 </td><td>3000.0          </td><td>B004                                 </td><td>P                  </td><td>Y          </td><td>S156    </td><td>B                </td><td>0.0           </td><td>10000.0      </td><td>1.0          </td><td>nan            </td><td>nan          </td><td>10.0         </td><td>25.0         </td><td>6.0          </td><td>8.0          </td><td>1991.0       </td><td>32.0         </td><td>Tue          </td><td>0.0           </td><td>Autumn      </td></tr>\n",
       "<tr><td>9      </td><td>Male    </td><td>2016-07-01 00:00:00 </td><td>C10001     </td><td>A              </td><td>               </td><td>B                   </td><td>4.0                 </td><td>4040.0          </td><td>B002                                 </td><td>P                  </td><td>Y          </td><td>S133    </td><td>B                </td><td>0.0           </td><td>30000.0      </td><td>4.0          </td><td>nan            </td><td>nan          </td><td>10.0         </td><td>32.0         </td><td>13.0         </td><td>7.0          </td><td>1984.0       </td><td>28.0         </td><td>Fri          </td><td>0.0           </td><td>Summer      </td></tr>\n",
       "</tbody>\n",
       "</table>"
      ]
     },
     "metadata": {},
     "output_type": "display_data"
    }
   ],
   "source": [
    "refine_date_col(test, \"DOB\", \"%Y-%m-%d\")\n",
    "test = test.drop(\"DOB\")\n",
    "test.describe()"
   ]
  },
  {
   "cell_type": "code",
   "execution_count": 101,
   "metadata": {},
   "outputs": [
    {
     "name": "stdout",
     "output_type": "stream",
     "text": [
      "Rows:69713\n",
      "Cols:33\n",
      "\n",
      "\n"
     ]
    },
    {
     "data": {
      "text/html": [
       "<table>\n",
       "<thead>\n",
       "<tr><th>       </th><th>Gender  </th><th>Lead_Creation_Date  </th><th>City_Code  </th><th>City_Category  </th><th>Employer_Code  </th><th>Employer_Category1  </th><th>Employer_Category2  </th><th>Monthly_Income  </th><th>Customer_Existing_Primary_Bank_Code  </th><th>Primary_Bank_Type  </th><th>Contacted  </th><th>Source  </th><th>Source_Category  </th><th>Existing_EMI  </th><th>Loan_Amount  </th><th>Loan_Period  </th><th>Interest_Rate  </th><th>EMI          </th><th>Var1         </th><th>Approved       </th><th>age          </th><th>DOB_Day      </th><th>DOB_Month    </th><th>DOB_Year     </th><th>DOB_WeekNum  </th><th>DOB_WeekDay  </th><th>DOB_Weekend   </th><th>DOB_Season  </th><th>LCD_Day      </th><th>LCD_Month     </th><th>LCD_Year  </th><th>LCD_WeekNum  </th><th>LCD_WeekDay  </th></tr>\n",
       "</thead>\n",
       "<tbody>\n",
       "<tr><td>type   </td><td>enum    </td><td>time                </td><td>enum       </td><td>enum           </td><td>enum           </td><td>enum                </td><td>int                 </td><td>real            </td><td>enum                                 </td><td>enum               </td><td>enum       </td><td>enum    </td><td>enum             </td><td>real          </td><td>int          </td><td>int          </td><td>real           </td><td>int          </td><td>int          </td><td>int            </td><td>int          </td><td>int          </td><td>int          </td><td>int          </td><td>int          </td><td>enum         </td><td>int           </td><td>enum        </td><td>int          </td><td>int           </td><td>int       </td><td>int          </td><td>enum         </td></tr>\n",
       "<tr><td>mins   </td><td>        </td><td>1.4673312e+12       </td><td>           </td><td>               </td><td>               </td><td>                    </td><td>1.0                 </td><td>0.0             </td><td>                                     </td><td>                   </td><td>           </td><td>        </td><td>                 </td><td>0.0           </td><td>5000.0       </td><td>1.0          </td><td>11.99          </td><td>118.0        </td><td>0.0          </td><td>0.0            </td><td>18.0         </td><td>1.0          </td><td>1.0          </td><td>1930.0       </td><td>1.0          </td><td>             </td><td>0.0           </td><td>            </td><td>1.0          </td><td>7.0           </td><td>2016.0    </td><td>26.0         </td><td>             </td></tr>\n",
       "<tr><td>mean   </td><td>        </td><td>1.47146881597e+12   </td><td>           </td><td>               </td><td>               </td><td>                    </td><td>3.72018650157       </td><td>5622.28319969   </td><td>                                     </td><td>                   </td><td>           </td><td>        </td><td>                 </td><td>360.928751199 </td><td>39429.9828588</td><td>3.89057924434</td><td>19.2135697612  </td><td>1101.4662417 </td><td>3.94844577052</td><td>0.0146314173827</td><td>30.8809004563</td><td>14.5006456426</td><td>6.59713334672</td><td>1985.26013659</td><td>26.7799793394</td><td>             </td><td>0.279445727483</td><td>            </td><td>16.0405376329</td><td>8.0596301981  </td><td>2016.0    </td><td>33.0245434854</td><td>             </td></tr>\n",
       "<tr><td>maxs   </td><td>        </td><td>1.4751936e+12       </td><td>           </td><td>               </td><td>               </td><td>                    </td><td>4.0                 </td><td>38383838.3      </td><td>                                     </td><td>                   </td><td>           </td><td>        </td><td>                 </td><td>545436.5      </td><td>300000.0     </td><td>5.0          </td><td>37.0           </td><td>13556.0      </td><td>10.0         </td><td>1.0            </td><td>86.0         </td><td>31.0         </td><td>12.0         </td><td>1999.0       </td><td>53.0         </td><td>             </td><td>1.0           </td><td>            </td><td>31.0         </td><td>9.0           </td><td>2016.0    </td><td>39.0         </td><td>             </td></tr>\n",
       "<tr><td>sigma  </td><td>        </td><td>2326904996.15       </td><td>           </td><td>               </td><td>               </td><td>                    </td><td>0.807373964436      </td><td>174767.06184    </td><td>                                     </td><td>                   </td><td>           </td><td>        </td><td>                 </td><td>2288.51792717 </td><td>30727.5959902</td><td>1.16745935266</td><td>5.84713577597  </td><td>752.661393713</td><td>3.81921382268</td><td>0.120073085331 </td><td>7.09820991886</td><td>8.85670704092</td><td>3.28019400138</td><td>7.0868451027 </td><td>14.3717344858</td><td>             </td><td>0.448730098466</td><td>            </td><td>8.94168577833</td><td>0.821632000176</td><td>0.0       </td><td>3.85547111716</td><td>             </td></tr>\n",
       "<tr><td>zeros  </td><td>        </td><td>0                   </td><td>           </td><td>               </td><td>               </td><td>                    </td><td>0                   </td><td>250             </td><td>                                     </td><td>                   </td><td>           </td><td>        </td><td>                 </td><td>46621         </td><td>0            </td><td>0            </td><td>0              </td><td>0            </td><td>23308        </td><td>68693          </td><td>0            </td><td>0            </td><td>0            </td><td>0            </td><td>0            </td><td>             </td><td>50232         </td><td>            </td><td>0            </td><td>0             </td><td>0         </td><td>0            </td><td>             </td></tr>\n",
       "<tr><td>missing</td><td>0       </td><td>0                   </td><td>0          </td><td>0              </td><td>0              </td><td>0                   </td><td>4298                </td><td>0               </td><td>0                                    </td><td>0                  </td><td>0          </td><td>0       </td><td>0                </td><td>51            </td><td>27709        </td><td>27710        </td><td>47437          </td><td>47437        </td><td>0            </td><td>0              </td><td>15           </td><td>15           </td><td>15           </td><td>15           </td><td>15           </td><td>15           </td><td>0             </td><td>15          </td><td>0            </td><td>0             </td><td>0         </td><td>0            </td><td>0            </td></tr>\n",
       "<tr><td>0      </td><td>Female  </td><td>2016-07-15 00:00:00 </td><td>C10001     </td><td>A              </td><td>Others         </td><td>A                   </td><td>4.0                 </td><td>2000.0          </td><td>B001                                 </td><td>P                  </td><td>N          </td><td>S122    </td><td>G                </td><td>0.0           </td><td>nan          </td><td>nan          </td><td>nan            </td><td>nan          </td><td>0.0          </td><td>0.0            </td><td>37.0         </td><td>23.0         </td><td>7.0          </td><td>1979.0       </td><td>30.0         </td><td>Mon          </td><td>0.0           </td><td>Summer      </td><td>15.0         </td><td>7.0           </td><td>2016.0    </td><td>28.0         </td><td>Fri          </td></tr>\n",
       "<tr><td>1      </td><td>Male    </td><td>2016-07-04 00:00:00 </td><td>C10003     </td><td>A              </td><td>COM0000002     </td><td>C                   </td><td>1.0                 </td><td>3500.0          </td><td>B002                                 </td><td>P                  </td><td>Y          </td><td>S122    </td><td>G                </td><td>0.0           </td><td>20000.0      </td><td>2.0          </td><td>13.25          </td><td>953.0        </td><td>10.0         </td><td>0.0            </td><td>30.0         </td><td>7.0          </td><td>12.0         </td><td>1986.0       </td><td>49.0         </td><td>Sun          </td><td>1.0           </td><td>Winter      </td><td>4.0          </td><td>7.0           </td><td>2016.0    </td><td>27.0         </td><td>Mon          </td></tr>\n",
       "<tr><td>2      </td><td>Male    </td><td>2016-07-19 00:00:00 </td><td>Others     </td><td>C              </td><td>Others         </td><td>C                   </td><td>4.0                 </td><td>2250.0          </td><td>B003                                 </td><td>G                  </td><td>Y          </td><td>S143    </td><td>B                </td><td>0.0           </td><td>45000.0      </td><td>4.0          </td><td>nan            </td><td>nan          </td><td>0.0          </td><td>0.0            </td><td>34.0         </td><td>10.0         </td><td>12.0         </td><td>1982.0       </td><td>49.0         </td><td>Fri          </td><td>0.0           </td><td>Winter      </td><td>19.0         </td><td>7.0           </td><td>2016.0    </td><td>29.0         </td><td>Tue          </td></tr>\n",
       "<tr><td>3      </td><td>Male    </td><td>2016-07-09 00:00:00 </td><td>Others     </td><td>C              </td><td>Others         </td><td>A                   </td><td>4.0                 </td><td>3500.0          </td><td>B003                                 </td><td>G                  </td><td>Y          </td><td>S143    </td><td>B                </td><td>0.0           </td><td>92000.0      </td><td>5.0          </td><td>nan            </td><td>nan          </td><td>7.0          </td><td>0.0            </td><td>27.0         </td><td>30.0         </td><td>1.0          </td><td>1989.0       </td><td>5.0          </td><td>Mon          </td><td>0.0           </td><td>Winter      </td><td>9.0          </td><td>7.0           </td><td>2016.0    </td><td>27.0         </td><td>Sat          </td></tr>\n",
       "<tr><td>4      </td><td>Male    </td><td>2016-07-20 00:00:00 </td><td>C10002     </td><td>A              </td><td>Others         </td><td>A                   </td><td>4.0                 </td><td>10000.0         </td><td>B001                                 </td><td>P                  </td><td>Y          </td><td>S134    </td><td>B                </td><td>2500.0        </td><td>50000.0      </td><td>2.0          </td><td>nan            </td><td>nan          </td><td>10.0         </td><td>0.0            </td><td>31.0         </td><td>19.0         </td><td>4.0          </td><td>1985.0       </td><td>16.0         </td><td>Fri          </td><td>0.0           </td><td>Spring      </td><td>20.0         </td><td>7.0           </td><td>2016.0    </td><td>29.0         </td><td>Wed          </td></tr>\n",
       "<tr><td>5      </td><td>Female  </td><td>2016-07-01 00:00:00 </td><td>Others     </td><td>C              </td><td>Others         </td><td>A                   </td><td>4.0                 </td><td>7000.0          </td><td>B014                                 </td><td>P                  </td><td>N          </td><td>S133    </td><td>B                </td><td>0.0           </td><td>nan          </td><td>nan          </td><td>nan            </td><td>nan          </td><td>0.0          </td><td>0.0            </td><td>28.0         </td><td>23.0         </td><td>12.0         </td><td>1988.0       </td><td>51.0         </td><td>Fri          </td><td>0.0           </td><td>Winter      </td><td>1.0          </td><td>7.0           </td><td>2016.0    </td><td>26.0         </td><td>Fri          </td></tr>\n",
       "<tr><td>6      </td><td>Male    </td><td>2016-07-02 00:00:00 </td><td>C10022     </td><td>B              </td><td>Others         </td><td>B                   </td><td>4.0                 </td><td>7500.0          </td><td>B003                                 </td><td>G                  </td><td>Y          </td><td>S122    </td><td>C                </td><td>0.0           </td><td>130000.0     </td><td>5.0          </td><td>14.85          </td><td>3082.0       </td><td>10.0         </td><td>0.0            </td><td>43.0         </td><td>28.0         </td><td>3.0          </td><td>1973.0       </td><td>13.0         </td><td>Wed          </td><td>0.0           </td><td>Spring      </td><td>2.0          </td><td>7.0           </td><td>2016.0    </td><td>26.0         </td><td>Sat          </td></tr>\n",
       "<tr><td>7      </td><td>Female  </td><td>2016-07-03 00:00:00 </td><td>C10003     </td><td>A              </td><td>Others         </td><td>A                   </td><td>4.0                 </td><td>3000.0          </td><td>B006                                 </td><td>P                  </td><td>Y          </td><td>S133    </td><td>B                </td><td>0.0           </td><td>30000.0      </td><td>3.0          </td><td>18.25          </td><td>1088.0       </td><td>0.0          </td><td>0.0            </td><td>26.0         </td><td>12.0         </td><td>11.0         </td><td>1990.0       </td><td>46.0         </td><td>Mon          </td><td>0.0           </td><td>Winter      </td><td>3.0          </td><td>7.0           </td><td>2016.0    </td><td>26.0         </td><td>Sun          </td></tr>\n",
       "<tr><td>8      </td><td>Male    </td><td>2016-07-02 00:00:00 </td><td>C10003     </td><td>A              </td><td>Others         </td><td>A                   </td><td>4.0                 </td><td>2500.0          </td><td>B017                                 </td><td>G                  </td><td>Y          </td><td>S133    </td><td>B                </td><td>0.0           </td><td>66000.0      </td><td>5.0          </td><td>20.0           </td><td>1749.0       </td><td>7.0          </td><td>0.0            </td><td>39.0         </td><td>3.0          </td><td>3.0          </td><td>1977.0       </td><td>9.0          </td><td>Thu          </td><td>0.0           </td><td>Spring      </td><td>2.0          </td><td>7.0           </td><td>2016.0    </td><td>26.0         </td><td>Sat          </td></tr>\n",
       "<tr><td>9      </td><td>Female  </td><td>2016-07-02 00:00:00 </td><td>C10014     </td><td>B              </td><td>Others         </td><td>A                   </td><td>4.0                 </td><td>2500.0          </td><td>                                     </td><td>                   </td><td>N          </td><td>S122    </td><td>B                </td><td>0.0           </td><td>nan          </td><td>nan          </td><td>nan            </td><td>nan          </td><td>0.0          </td><td>0.0            </td><td>26.0         </td><td>13.0         </td><td>12.0         </td><td>1990.0       </td><td>50.0         </td><td>Thu          </td><td>0.0           </td><td>Winter      </td><td>2.0          </td><td>7.0           </td><td>2016.0    </td><td>26.0         </td><td>Sat          </td></tr>\n",
       "</tbody>\n",
       "</table>"
      ]
     },
     "metadata": {},
     "output_type": "display_data"
    },
    {
     "name": "stdout",
     "output_type": "stream",
     "text": [
      "Rows:69713\n",
      "Cols:34\n",
      "\n",
      "\n"
     ]
    },
    {
     "data": {
      "text/html": [
       "<table>\n",
       "<thead>\n",
       "<tr><th>       </th><th>Gender  </th><th>City_Code  </th><th>City_Category  </th><th>Employer_Code  </th><th>Employer_Category1  </th><th>Employer_Category2  </th><th>Monthly_Income  </th><th>Customer_Existing_Primary_Bank_Code  </th><th>Primary_Bank_Type  </th><th>Contacted  </th><th>Source  </th><th>Source_Category  </th><th>Existing_EMI  </th><th>Loan_Amount  </th><th>Loan_Period  </th><th>Interest_Rate  </th><th>EMI          </th><th>Var1         </th><th>Approved       </th><th>age          </th><th>DOB_Day      </th><th>DOB_Month    </th><th>DOB_Year     </th><th>DOB_WeekNum  </th><th>DOB_WeekDay  </th><th>DOB_Weekend   </th><th>DOB_Season  </th><th>LCD_Day      </th><th>LCD_Month     </th><th>LCD_Year  </th><th>LCD_WeekNum  </th><th>LCD_WeekDay  </th><th>LCD_Weekend   </th><th>LCD_Season  </th></tr>\n",
       "</thead>\n",
       "<tbody>\n",
       "<tr><td>type   </td><td>enum    </td><td>enum       </td><td>enum           </td><td>enum           </td><td>enum                </td><td>int                 </td><td>real            </td><td>enum                                 </td><td>enum               </td><td>enum       </td><td>enum    </td><td>enum             </td><td>real          </td><td>int          </td><td>int          </td><td>real           </td><td>int          </td><td>int          </td><td>int            </td><td>int          </td><td>int          </td><td>int          </td><td>int          </td><td>int          </td><td>enum         </td><td>int           </td><td>enum        </td><td>int          </td><td>int           </td><td>int       </td><td>int          </td><td>enum         </td><td>int           </td><td>enum        </td></tr>\n",
       "<tr><td>mins   </td><td>        </td><td>           </td><td>               </td><td>               </td><td>                    </td><td>1.0                 </td><td>0.0             </td><td>                                     </td><td>                   </td><td>           </td><td>        </td><td>                 </td><td>0.0           </td><td>5000.0       </td><td>1.0          </td><td>11.99          </td><td>118.0        </td><td>0.0          </td><td>0.0            </td><td>18.0         </td><td>1.0          </td><td>1.0          </td><td>1930.0       </td><td>1.0          </td><td>             </td><td>0.0           </td><td>            </td><td>1.0          </td><td>7.0           </td><td>2016.0    </td><td>26.0         </td><td>             </td><td>0.0           </td><td>            </td></tr>\n",
       "<tr><td>mean   </td><td>        </td><td>           </td><td>               </td><td>               </td><td>                    </td><td>3.72018650157       </td><td>5622.28319969   </td><td>                                     </td><td>                   </td><td>           </td><td>        </td><td>                 </td><td>360.928751199 </td><td>39429.9828588</td><td>3.89057924434</td><td>19.2135697612  </td><td>1101.4662417 </td><td>3.94844577052</td><td>0.0146314173827</td><td>30.8809004563</td><td>14.5006456426</td><td>6.59713334672</td><td>1985.26013659</td><td>26.7799793394</td><td>             </td><td>0.279445727483</td><td>            </td><td>16.0405376329</td><td>8.0596301981  </td><td>2016.0    </td><td>33.0245434854</td><td>             </td><td>0.206977177858</td><td>            </td></tr>\n",
       "<tr><td>maxs   </td><td>        </td><td>           </td><td>               </td><td>               </td><td>                    </td><td>4.0                 </td><td>38383838.3      </td><td>                                     </td><td>                   </td><td>           </td><td>        </td><td>                 </td><td>545436.5      </td><td>300000.0     </td><td>5.0          </td><td>37.0           </td><td>13556.0      </td><td>10.0         </td><td>1.0            </td><td>86.0         </td><td>31.0         </td><td>12.0         </td><td>1999.0       </td><td>53.0         </td><td>             </td><td>1.0           </td><td>            </td><td>31.0         </td><td>9.0           </td><td>2016.0    </td><td>39.0         </td><td>             </td><td>1.0           </td><td>            </td></tr>\n",
       "<tr><td>sigma  </td><td>        </td><td>           </td><td>               </td><td>               </td><td>                    </td><td>0.807373964436      </td><td>174767.06184    </td><td>                                     </td><td>                   </td><td>           </td><td>        </td><td>                 </td><td>2288.51792717 </td><td>30727.5959902</td><td>1.16745935266</td><td>5.84713577597  </td><td>752.661393713</td><td>3.81921382268</td><td>0.120073085331 </td><td>7.09820991886</td><td>8.85670704092</td><td>3.28019400138</td><td>7.0868451027 </td><td>14.3717344858</td><td>             </td><td>0.448730098466</td><td>            </td><td>8.94168577833</td><td>0.821632000176</td><td>0.0       </td><td>3.85547111716</td><td>             </td><td>0.405141926014</td><td>            </td></tr>\n",
       "<tr><td>zeros  </td><td>        </td><td>           </td><td>               </td><td>               </td><td>                    </td><td>0                   </td><td>250             </td><td>                                     </td><td>                   </td><td>           </td><td>        </td><td>                 </td><td>46621         </td><td>0            </td><td>0            </td><td>0              </td><td>0            </td><td>23308        </td><td>68693          </td><td>0            </td><td>0            </td><td>0            </td><td>0            </td><td>0            </td><td>             </td><td>50232         </td><td>            </td><td>0            </td><td>0             </td><td>0         </td><td>0            </td><td>             </td><td>55284         </td><td>            </td></tr>\n",
       "<tr><td>missing</td><td>0       </td><td>0          </td><td>0              </td><td>0              </td><td>0                   </td><td>4298                </td><td>0               </td><td>0                                    </td><td>0                  </td><td>0          </td><td>0       </td><td>0                </td><td>51            </td><td>27709        </td><td>27710        </td><td>47437          </td><td>47437        </td><td>0            </td><td>0              </td><td>15           </td><td>15           </td><td>15           </td><td>15           </td><td>15           </td><td>15           </td><td>0             </td><td>15          </td><td>0            </td><td>0             </td><td>0         </td><td>0            </td><td>0            </td><td>0             </td><td>0           </td></tr>\n",
       "<tr><td>0      </td><td>Female  </td><td>C10001     </td><td>A              </td><td>Others         </td><td>A                   </td><td>4.0                 </td><td>2000.0          </td><td>B001                                 </td><td>P                  </td><td>N          </td><td>S122    </td><td>G                </td><td>0.0           </td><td>nan          </td><td>nan          </td><td>nan            </td><td>nan          </td><td>0.0          </td><td>0.0            </td><td>37.0         </td><td>23.0         </td><td>7.0          </td><td>1979.0       </td><td>30.0         </td><td>Mon          </td><td>0.0           </td><td>Summer      </td><td>15.0         </td><td>7.0           </td><td>2016.0    </td><td>28.0         </td><td>Fri          </td><td>0.0           </td><td>Summer      </td></tr>\n",
       "<tr><td>1      </td><td>Male    </td><td>C10003     </td><td>A              </td><td>COM0000002     </td><td>C                   </td><td>1.0                 </td><td>3500.0          </td><td>B002                                 </td><td>P                  </td><td>Y          </td><td>S122    </td><td>G                </td><td>0.0           </td><td>20000.0      </td><td>2.0          </td><td>13.25          </td><td>953.0        </td><td>10.0         </td><td>0.0            </td><td>30.0         </td><td>7.0          </td><td>12.0         </td><td>1986.0       </td><td>49.0         </td><td>Sun          </td><td>1.0           </td><td>Winter      </td><td>4.0          </td><td>7.0           </td><td>2016.0    </td><td>27.0         </td><td>Mon          </td><td>0.0           </td><td>Summer      </td></tr>\n",
       "<tr><td>2      </td><td>Male    </td><td>Others     </td><td>C              </td><td>Others         </td><td>C                   </td><td>4.0                 </td><td>2250.0          </td><td>B003                                 </td><td>G                  </td><td>Y          </td><td>S143    </td><td>B                </td><td>0.0           </td><td>45000.0      </td><td>4.0          </td><td>nan            </td><td>nan          </td><td>0.0          </td><td>0.0            </td><td>34.0         </td><td>10.0         </td><td>12.0         </td><td>1982.0       </td><td>49.0         </td><td>Fri          </td><td>0.0           </td><td>Winter      </td><td>19.0         </td><td>7.0           </td><td>2016.0    </td><td>29.0         </td><td>Tue          </td><td>0.0           </td><td>Summer      </td></tr>\n",
       "<tr><td>3      </td><td>Male    </td><td>Others     </td><td>C              </td><td>Others         </td><td>A                   </td><td>4.0                 </td><td>3500.0          </td><td>B003                                 </td><td>G                  </td><td>Y          </td><td>S143    </td><td>B                </td><td>0.0           </td><td>92000.0      </td><td>5.0          </td><td>nan            </td><td>nan          </td><td>7.0          </td><td>0.0            </td><td>27.0         </td><td>30.0         </td><td>1.0          </td><td>1989.0       </td><td>5.0          </td><td>Mon          </td><td>0.0           </td><td>Winter      </td><td>9.0          </td><td>7.0           </td><td>2016.0    </td><td>27.0         </td><td>Sat          </td><td>1.0           </td><td>Summer      </td></tr>\n",
       "<tr><td>4      </td><td>Male    </td><td>C10002     </td><td>A              </td><td>Others         </td><td>A                   </td><td>4.0                 </td><td>10000.0         </td><td>B001                                 </td><td>P                  </td><td>Y          </td><td>S134    </td><td>B                </td><td>2500.0        </td><td>50000.0      </td><td>2.0          </td><td>nan            </td><td>nan          </td><td>10.0         </td><td>0.0            </td><td>31.0         </td><td>19.0         </td><td>4.0          </td><td>1985.0       </td><td>16.0         </td><td>Fri          </td><td>0.0           </td><td>Spring      </td><td>20.0         </td><td>7.0           </td><td>2016.0    </td><td>29.0         </td><td>Wed          </td><td>0.0           </td><td>Summer      </td></tr>\n",
       "<tr><td>5      </td><td>Female  </td><td>Others     </td><td>C              </td><td>Others         </td><td>A                   </td><td>4.0                 </td><td>7000.0          </td><td>B014                                 </td><td>P                  </td><td>N          </td><td>S133    </td><td>B                </td><td>0.0           </td><td>nan          </td><td>nan          </td><td>nan            </td><td>nan          </td><td>0.0          </td><td>0.0            </td><td>28.0         </td><td>23.0         </td><td>12.0         </td><td>1988.0       </td><td>51.0         </td><td>Fri          </td><td>0.0           </td><td>Winter      </td><td>1.0          </td><td>7.0           </td><td>2016.0    </td><td>26.0         </td><td>Fri          </td><td>0.0           </td><td>Summer      </td></tr>\n",
       "<tr><td>6      </td><td>Male    </td><td>C10022     </td><td>B              </td><td>Others         </td><td>B                   </td><td>4.0                 </td><td>7500.0          </td><td>B003                                 </td><td>G                  </td><td>Y          </td><td>S122    </td><td>C                </td><td>0.0           </td><td>130000.0     </td><td>5.0          </td><td>14.85          </td><td>3082.0       </td><td>10.0         </td><td>0.0            </td><td>43.0         </td><td>28.0         </td><td>3.0          </td><td>1973.0       </td><td>13.0         </td><td>Wed          </td><td>0.0           </td><td>Spring      </td><td>2.0          </td><td>7.0           </td><td>2016.0    </td><td>26.0         </td><td>Sat          </td><td>1.0           </td><td>Summer      </td></tr>\n",
       "<tr><td>7      </td><td>Female  </td><td>C10003     </td><td>A              </td><td>Others         </td><td>A                   </td><td>4.0                 </td><td>3000.0          </td><td>B006                                 </td><td>P                  </td><td>Y          </td><td>S133    </td><td>B                </td><td>0.0           </td><td>30000.0      </td><td>3.0          </td><td>18.25          </td><td>1088.0       </td><td>0.0          </td><td>0.0            </td><td>26.0         </td><td>12.0         </td><td>11.0         </td><td>1990.0       </td><td>46.0         </td><td>Mon          </td><td>0.0           </td><td>Winter      </td><td>3.0          </td><td>7.0           </td><td>2016.0    </td><td>26.0         </td><td>Sun          </td><td>1.0           </td><td>Summer      </td></tr>\n",
       "<tr><td>8      </td><td>Male    </td><td>C10003     </td><td>A              </td><td>Others         </td><td>A                   </td><td>4.0                 </td><td>2500.0          </td><td>B017                                 </td><td>G                  </td><td>Y          </td><td>S133    </td><td>B                </td><td>0.0           </td><td>66000.0      </td><td>5.0          </td><td>20.0           </td><td>1749.0       </td><td>7.0          </td><td>0.0            </td><td>39.0         </td><td>3.0          </td><td>3.0          </td><td>1977.0       </td><td>9.0          </td><td>Thu          </td><td>0.0           </td><td>Spring      </td><td>2.0          </td><td>7.0           </td><td>2016.0    </td><td>26.0         </td><td>Sat          </td><td>1.0           </td><td>Summer      </td></tr>\n",
       "<tr><td>9      </td><td>Female  </td><td>C10014     </td><td>B              </td><td>Others         </td><td>A                   </td><td>4.0                 </td><td>2500.0          </td><td>                                     </td><td>                   </td><td>N          </td><td>S122    </td><td>B                </td><td>0.0           </td><td>nan          </td><td>nan          </td><td>nan            </td><td>nan          </td><td>0.0          </td><td>0.0            </td><td>26.0         </td><td>13.0         </td><td>12.0         </td><td>1990.0       </td><td>50.0         </td><td>Thu          </td><td>0.0           </td><td>Winter      </td><td>2.0          </td><td>7.0           </td><td>2016.0    </td><td>26.0         </td><td>Sat          </td><td>1.0           </td><td>Summer      </td></tr>\n",
       "</tbody>\n",
       "</table>"
      ]
     },
     "metadata": {},
     "output_type": "display_data"
    }
   ],
   "source": [
    "def refine_date_col1(data, col, pattern):\n",
    "    #data[col]         = data[col].as_date(pattern) # As of 5/29/2106 H2O defaults parse as a date\n",
    "    data[\"LCD_Day\"]       = data[col].day()\n",
    "    data[\"LCD_Month\"]     = data[col].month()     # Since H2O indexes from 0\n",
    "    data[\"LCD_Year\"]      = data[col].year()   # Start of epoch is 1900\n",
    "    data[\"LCD_WeekNum\"]   = data[col].week()\n",
    "    data[\"LCD_WeekDay\"]   = data[col].dayOfWeek()\n",
    "    \n",
    "    data.describe()  # HACK: Force evaluation before ifelse and cut. See PUBDEV-1425.\n",
    "    \n",
    "    # Create weekend and season cols\n",
    "    # Spring = Mar, Apr, May. Summer = Jun, Jul, Aug. Autumn = Sep, Oct. Winter = Nov, Dec, Jan, Feb.\n",
    "    # data[\"Weekend\"]   = [1 if x in (\"Sun\", \"Sat\") else 0 for x in data[\"WeekDay\"]]\n",
    "    data[\"LCD_Weekend\"] = ((data[\"LCD_WeekDay\"] == \"Sun\") | (data[\"LCD_WeekDay\"] == \"Sat\"))\n",
    "    data[\"LCD_Season\"] = data[\"LCD_Month\"].cut([0, 2, 5, 7, 10, 12], [\"Winter\", \"Spring\", \"Summer\", \"Autumn\", \"Winter\"])\n",
    "    \n",
    "refine_date_col1(train, \"Lead_Creation_Date\", \"%Y-%m-%d %H:%M:%S\")\n",
    "train = train.drop(\"Lead_Creation_Date\")\n",
    "train.describe()"
   ]
  },
  {
   "cell_type": "code",
   "execution_count": 102,
   "metadata": {},
   "outputs": [
    {
     "name": "stdout",
     "output_type": "stream",
     "text": [
      "Rows:30037\n",
      "Cols:32\n",
      "\n",
      "\n"
     ]
    },
    {
     "data": {
      "text/html": [
       "<table>\n",
       "<thead>\n",
       "<tr><th>       </th><th>Gender  </th><th>Lead_Creation_Date  </th><th>City_Code  </th><th>City_Category  </th><th>Employer_Code  </th><th>Employer_Category1  </th><th>Employer_Category2  </th><th>Monthly_Income  </th><th>Customer_Existing_Primary_Bank_Code  </th><th>Primary_Bank_Type  </th><th>Contacted  </th><th>Source  </th><th>Source_Category  </th><th>Existing_EMI  </th><th>Loan_Amount  </th><th>Loan_Period  </th><th>Interest_Rate  </th><th>EMI          </th><th>Var1         </th><th>age          </th><th>DOB_Day      </th><th>DOB_Month    </th><th>DOB_Year     </th><th>DOB_WeekNum  </th><th>DOB_WeekDay  </th><th>DOB_Weekend   </th><th>DOB_Season  </th><th>LCD_Day      </th><th>LCD_Month     </th><th>LCD_Year  </th><th>LCD_WeekNum  </th><th>LCD_WeekDay  </th></tr>\n",
       "</thead>\n",
       "<tbody>\n",
       "<tr><td>type   </td><td>enum    </td><td>time                </td><td>enum       </td><td>enum           </td><td>enum           </td><td>enum                </td><td>int                 </td><td>real            </td><td>enum                                 </td><td>enum               </td><td>enum       </td><td>enum    </td><td>enum             </td><td>real          </td><td>int          </td><td>int          </td><td>real           </td><td>int          </td><td>int          </td><td>int          </td><td>int          </td><td>int          </td><td>int          </td><td>int          </td><td>enum         </td><td>int           </td><td>enum        </td><td>int          </td><td>int           </td><td>int       </td><td>int          </td><td>enum         </td></tr>\n",
       "<tr><td>mins   </td><td>        </td><td>1.4673312e+12       </td><td>           </td><td>               </td><td>               </td><td>                    </td><td>1.0                 </td><td>0.0             </td><td>                                     </td><td>                   </td><td>           </td><td>        </td><td>                 </td><td>0.0           </td><td>5000.0       </td><td>1.0          </td><td>11.99          </td><td>118.0        </td><td>0.0          </td><td>18.0         </td><td>1.0          </td><td>1.0          </td><td>1933.0       </td><td>1.0          </td><td>             </td><td>0.0           </td><td>            </td><td>1.0          </td><td>7.0           </td><td>2016.0    </td><td>26.0         </td><td>             </td></tr>\n",
       "<tr><td>mean   </td><td>        </td><td>1.47147878544e+12   </td><td>           </td><td>               </td><td>               </td><td>                    </td><td>3.72824783008       </td><td>3977.13915171   </td><td>                                     </td><td>                   </td><td>           </td><td>        </td><td>                 </td><td>348.909059557 </td><td>39482.9902015</td><td>3.90288482713</td><td>19.2805366763  </td><td>1094.9148363 </td><td>3.96231314712</td><td>30.8875607645</td><td>14.571452354 </td><td>6.59535859359</td><td>1985.25484451</td><td>26.7379303456</td><td>             </td><td>0.283550287978</td><td>            </td><td>16.0961813763</td><td>8.06155741252 </td><td>2016.0    </td><td>33.0394846356</td><td>             </td></tr>\n",
       "<tr><td>maxs   </td><td>        </td><td>1.4751936e+12       </td><td>           </td><td>               </td><td>               </td><td>                    </td><td>4.0                 </td><td>3500000.0       </td><td>                                     </td><td>                   </td><td>           </td><td>        </td><td>                 </td><td>43000.0       </td><td>300000.0     </td><td>5.0          </td><td>37.0           </td><td>6979.0       </td><td>10.0         </td><td>83.0         </td><td>31.0         </td><td>12.0         </td><td>1999.0       </td><td>53.0         </td><td>             </td><td>1.0           </td><td>            </td><td>31.0         </td><td>9.0           </td><td>2016.0    </td><td>39.0         </td><td>             </td></tr>\n",
       "<tr><td>sigma  </td><td>        </td><td>2316072851.75       </td><td>           </td><td>               </td><td>               </td><td>                    </td><td>0.794883358458      </td><td>23289.6018757   </td><td>                                     </td><td>                   </td><td>           </td><td>        </td><td>                 </td><td>1000.81684747 </td><td>30527.8655936</td><td>1.15067296653</td><td>5.8822462436   </td><td>727.452303167</td><td>3.82101963532</td><td>7.08207632251</td><td>8.86878333963</td><td>3.26688026649</td><td>7.07018583374</td><td>14.3010106006</td><td>             </td><td>0.450728616465</td><td>            </td><td>8.92557217925</td><td>0.819207355098</td><td>0.0       </td><td>3.83535141408</td><td>             </td></tr>\n",
       "<tr><td>zeros  </td><td>        </td><td>0                   </td><td>           </td><td>               </td><td>               </td><td>                    </td><td>0                   </td><td>97              </td><td>                                     </td><td>                   </td><td>           </td><td>        </td><td>                 </td><td>20111         </td><td>0            </td><td>0            </td><td>0              </td><td>0            </td><td>9937         </td><td>0            </td><td>0            </td><td>0            </td><td>0            </td><td>0            </td><td>             </td><td>21520         </td><td>            </td><td>0            </td><td>0             </td><td>0         </td><td>0            </td><td>             </td></tr>\n",
       "<tr><td>missing</td><td>0       </td><td>0                   </td><td>0          </td><td>0              </td><td>0              </td><td>0                   </td><td>1695                </td><td>0               </td><td>0                                    </td><td>0                  </td><td>0          </td><td>0       </td><td>0                </td><td>32            </td><td>11871        </td><td>11873        </td><td>20385          </td><td>20385        </td><td>0            </td><td>3            </td><td>3            </td><td>3            </td><td>3            </td><td>3            </td><td>3            </td><td>0             </td><td>3           </td><td>0            </td><td>0             </td><td>0         </td><td>0            </td><td>0            </td></tr>\n",
       "<tr><td>0      </td><td>Male    </td><td>2016-07-05 00:00:00 </td><td>Others     </td><td>C              </td><td>               </td><td>A                   </td><td>4.0                 </td><td>2150.0          </td><td>B002                                 </td><td>P                  </td><td>Y          </td><td>S122    </td><td>B                </td><td>0.0           </td><td>10000.0      </td><td>3.0          </td><td>20.0           </td><td>372.0        </td><td>4.0          </td><td>28.0         </td><td>3.0          </td><td>6.0          </td><td>1988.0       </td><td>22.0         </td><td>Fri          </td><td>0.0           </td><td>Summer      </td><td>5.0          </td><td>7.0           </td><td>2016.0    </td><td>27.0         </td><td>Tue          </td></tr>\n",
       "<tr><td>1      </td><td>Male    </td><td>2016-07-01 00:00:00 </td><td>Others     </td><td>A              </td><td>               </td><td>C                   </td><td>4.0                 </td><td>4200.0          </td><td>B004                                 </td><td>P                  </td><td>Y          </td><td>S133    </td><td>C                </td><td>0.0           </td><td>69000.0      </td><td>5.0          </td><td>24.0           </td><td>1985.0       </td><td>7.0          </td><td>35.0         </td><td>13.0         </td><td>7.0          </td><td>1981.0       </td><td>29.0         </td><td>Mon          </td><td>0.0           </td><td>Summer      </td><td>1.0          </td><td>7.0           </td><td>2016.0    </td><td>26.0         </td><td>Fri          </td></tr>\n",
       "<tr><td>2      </td><td>Female  </td><td>2016-07-01 00:00:00 </td><td>C10009     </td><td>B              </td><td>               </td><td>B                   </td><td>4.0                 </td><td>1000.0          </td><td>B002                                 </td><td>P                  </td><td>N          </td><td>S133    </td><td>B                </td><td>0.0           </td><td>nan          </td><td>nan          </td><td>nan            </td><td>nan          </td><td>0.0          </td><td>26.0         </td><td>19.0         </td><td>11.0         </td><td>1990.0       </td><td>47.0         </td><td>Mon          </td><td>0.0           </td><td>Winter      </td><td>1.0          </td><td>7.0           </td><td>2016.0    </td><td>26.0         </td><td>Fri          </td></tr>\n",
       "<tr><td>3      </td><td>Female  </td><td>2016-07-01 00:00:00 </td><td>C10005     </td><td>A              </td><td>COM0000085     </td><td>A                   </td><td>3.0                 </td><td>1465.0          </td><td>B001                                 </td><td>P                  </td><td>N          </td><td>S133    </td><td>C                </td><td>0.0           </td><td>nan          </td><td>nan          </td><td>nan            </td><td>nan          </td><td>0.0          </td><td>24.0         </td><td>15.0         </td><td>10.0         </td><td>1992.0       </td><td>42.0         </td><td>Thu          </td><td>0.0           </td><td>Autumn      </td><td>1.0          </td><td>7.0           </td><td>2016.0    </td><td>26.0         </td><td>Fri          </td></tr>\n",
       "<tr><td>4      </td><td>Male    </td><td>2016-07-01 00:00:00 </td><td>Others     </td><td>A              </td><td>               </td><td>A                   </td><td>4.0                 </td><td>2340.0          </td><td>B004                                 </td><td>P                  </td><td>Y          </td><td>S143    </td><td>B                </td><td>500.0         </td><td>10000.0      </td><td>2.0          </td><td>nan            </td><td>nan          </td><td>0.0          </td><td>28.0         </td><td>21.0         </td><td>9.0          </td><td>1988.0       </td><td>38.0         </td><td>Wed          </td><td>0.0           </td><td>Autumn      </td><td>1.0          </td><td>7.0           </td><td>2016.0    </td><td>26.0         </td><td>Fri          </td></tr>\n",
       "<tr><td>5      </td><td>Female  </td><td>2016-07-01 00:00:00 </td><td>C10010     </td><td>A              </td><td>               </td><td>B                   </td><td>4.0                 </td><td>1500.0          </td><td>B004                                 </td><td>P                  </td><td>N          </td><td>S133    </td><td>B                </td><td>450.0         </td><td>nan          </td><td>nan          </td><td>nan            </td><td>nan          </td><td>0.0          </td><td>29.0         </td><td>26.0         </td><td>12.0         </td><td>1987.0       </td><td>52.0         </td><td>Sat          </td><td>1.0           </td><td>Winter      </td><td>1.0          </td><td>7.0           </td><td>2016.0    </td><td>26.0         </td><td>Fri          </td></tr>\n",
       "<tr><td>6      </td><td>Female  </td><td>2016-07-01 00:00:00 </td><td>Others     </td><td>A              </td><td>               </td><td>A                   </td><td>4.0                 </td><td>6900.0          </td><td>B003                                 </td><td>G                  </td><td>N          </td><td>S134    </td><td>B                </td><td>3000.0        </td><td>nan          </td><td>nan          </td><td>nan            </td><td>nan          </td><td>0.0          </td><td>43.0         </td><td>22.0         </td><td>9.0          </td><td>1973.0       </td><td>38.0         </td><td>Sat          </td><td>1.0           </td><td>Autumn      </td><td>1.0          </td><td>7.0           </td><td>2016.0    </td><td>26.0         </td><td>Fri          </td></tr>\n",
       "<tr><td>7      </td><td>Female  </td><td>2016-07-01 00:00:00 </td><td>Others     </td><td>A              </td><td>               </td><td>B                   </td><td>4.0                 </td><td>2055.5          </td><td>B002                                 </td><td>P                  </td><td>N          </td><td>S133    </td><td>B                </td><td>749.7         </td><td>nan          </td><td>nan          </td><td>nan            </td><td>nan          </td><td>0.0          </td><td>25.0         </td><td>18.0         </td><td>10.0         </td><td>1991.0       </td><td>42.0         </td><td>Fri          </td><td>0.0           </td><td>Autumn      </td><td>1.0          </td><td>7.0           </td><td>2016.0    </td><td>26.0         </td><td>Fri          </td></tr>\n",
       "<tr><td>8      </td><td>Male    </td><td>2016-07-01 00:00:00 </td><td>C10014     </td><td>B              </td><td>               </td><td>A                   </td><td>4.0                 </td><td>3000.0          </td><td>B004                                 </td><td>P                  </td><td>Y          </td><td>S156    </td><td>B                </td><td>0.0           </td><td>10000.0      </td><td>1.0          </td><td>nan            </td><td>nan          </td><td>10.0         </td><td>25.0         </td><td>6.0          </td><td>8.0          </td><td>1991.0       </td><td>32.0         </td><td>Tue          </td><td>0.0           </td><td>Autumn      </td><td>1.0          </td><td>7.0           </td><td>2016.0    </td><td>26.0         </td><td>Fri          </td></tr>\n",
       "<tr><td>9      </td><td>Male    </td><td>2016-07-01 00:00:00 </td><td>C10001     </td><td>A              </td><td>               </td><td>B                   </td><td>4.0                 </td><td>4040.0          </td><td>B002                                 </td><td>P                  </td><td>Y          </td><td>S133    </td><td>B                </td><td>0.0           </td><td>30000.0      </td><td>4.0          </td><td>nan            </td><td>nan          </td><td>10.0         </td><td>32.0         </td><td>13.0         </td><td>7.0          </td><td>1984.0       </td><td>28.0         </td><td>Fri          </td><td>0.0           </td><td>Summer      </td><td>1.0          </td><td>7.0           </td><td>2016.0    </td><td>26.0         </td><td>Fri          </td></tr>\n",
       "</tbody>\n",
       "</table>"
      ]
     },
     "metadata": {},
     "output_type": "display_data"
    },
    {
     "name": "stdout",
     "output_type": "stream",
     "text": [
      "Rows:30037\n",
      "Cols:33\n",
      "\n",
      "\n"
     ]
    },
    {
     "data": {
      "text/html": [
       "<table>\n",
       "<thead>\n",
       "<tr><th>       </th><th>Gender  </th><th>City_Code  </th><th>City_Category  </th><th>Employer_Code  </th><th>Employer_Category1  </th><th>Employer_Category2  </th><th>Monthly_Income  </th><th>Customer_Existing_Primary_Bank_Code  </th><th>Primary_Bank_Type  </th><th>Contacted  </th><th>Source  </th><th>Source_Category  </th><th>Existing_EMI  </th><th>Loan_Amount  </th><th>Loan_Period  </th><th>Interest_Rate  </th><th>EMI          </th><th>Var1         </th><th>age          </th><th>DOB_Day      </th><th>DOB_Month    </th><th>DOB_Year     </th><th>DOB_WeekNum  </th><th>DOB_WeekDay  </th><th>DOB_Weekend   </th><th>DOB_Season  </th><th>LCD_Day      </th><th>LCD_Month     </th><th>LCD_Year  </th><th>LCD_WeekNum  </th><th>LCD_WeekDay  </th><th>LCD_Weekend   </th><th>LCD_Season  </th></tr>\n",
       "</thead>\n",
       "<tbody>\n",
       "<tr><td>type   </td><td>enum    </td><td>enum       </td><td>enum           </td><td>enum           </td><td>enum                </td><td>int                 </td><td>real            </td><td>enum                                 </td><td>enum               </td><td>enum       </td><td>enum    </td><td>enum             </td><td>real          </td><td>int          </td><td>int          </td><td>real           </td><td>int          </td><td>int          </td><td>int          </td><td>int          </td><td>int          </td><td>int          </td><td>int          </td><td>enum         </td><td>int           </td><td>enum        </td><td>int          </td><td>int           </td><td>int       </td><td>int          </td><td>enum         </td><td>int           </td><td>enum        </td></tr>\n",
       "<tr><td>mins   </td><td>        </td><td>           </td><td>               </td><td>               </td><td>                    </td><td>1.0                 </td><td>0.0             </td><td>                                     </td><td>                   </td><td>           </td><td>        </td><td>                 </td><td>0.0           </td><td>5000.0       </td><td>1.0          </td><td>11.99          </td><td>118.0        </td><td>0.0          </td><td>18.0         </td><td>1.0          </td><td>1.0          </td><td>1933.0       </td><td>1.0          </td><td>             </td><td>0.0           </td><td>            </td><td>1.0          </td><td>7.0           </td><td>2016.0    </td><td>26.0         </td><td>             </td><td>0.0           </td><td>            </td></tr>\n",
       "<tr><td>mean   </td><td>        </td><td>           </td><td>               </td><td>               </td><td>                    </td><td>3.72824783008       </td><td>3977.13915171   </td><td>                                     </td><td>                   </td><td>           </td><td>        </td><td>                 </td><td>348.909059557 </td><td>39482.9902015</td><td>3.90288482713</td><td>19.2805366763  </td><td>1094.9148363 </td><td>3.96231314712</td><td>30.8875607645</td><td>14.571452354 </td><td>6.59535859359</td><td>1985.25484451</td><td>26.7379303456</td><td>             </td><td>0.283550287978</td><td>            </td><td>16.0961813763</td><td>8.06155741252 </td><td>2016.0    </td><td>33.0394846356</td><td>             </td><td>0.208675966308</td><td>            </td></tr>\n",
       "<tr><td>maxs   </td><td>        </td><td>           </td><td>               </td><td>               </td><td>                    </td><td>4.0                 </td><td>3500000.0       </td><td>                                     </td><td>                   </td><td>           </td><td>        </td><td>                 </td><td>43000.0       </td><td>300000.0     </td><td>5.0          </td><td>37.0           </td><td>6979.0       </td><td>10.0         </td><td>83.0         </td><td>31.0         </td><td>12.0         </td><td>1999.0       </td><td>53.0         </td><td>             </td><td>1.0           </td><td>            </td><td>31.0         </td><td>9.0           </td><td>2016.0    </td><td>39.0         </td><td>             </td><td>1.0           </td><td>            </td></tr>\n",
       "<tr><td>sigma  </td><td>        </td><td>           </td><td>               </td><td>               </td><td>                    </td><td>0.794883358458      </td><td>23289.6018757   </td><td>                                     </td><td>                   </td><td>           </td><td>        </td><td>                 </td><td>1000.81684747 </td><td>30527.8655936</td><td>1.15067296653</td><td>5.8822462436   </td><td>727.452303167</td><td>3.82101963532</td><td>7.08207632251</td><td>8.86878333963</td><td>3.26688026649</td><td>7.07018583374</td><td>14.3010106006</td><td>             </td><td>0.450728616465</td><td>            </td><td>8.92557217925</td><td>0.819207355098</td><td>0.0       </td><td>3.83535141408</td><td>             </td><td>0.406369050421</td><td>            </td></tr>\n",
       "<tr><td>zeros  </td><td>        </td><td>           </td><td>               </td><td>               </td><td>                    </td><td>0                   </td><td>97              </td><td>                                     </td><td>                   </td><td>           </td><td>        </td><td>                 </td><td>20111         </td><td>0            </td><td>0            </td><td>0              </td><td>0            </td><td>9937         </td><td>0            </td><td>0            </td><td>0            </td><td>0            </td><td>0            </td><td>             </td><td>21520         </td><td>            </td><td>0            </td><td>0             </td><td>0         </td><td>0            </td><td>             </td><td>23769         </td><td>            </td></tr>\n",
       "<tr><td>missing</td><td>0       </td><td>0          </td><td>0              </td><td>0              </td><td>0                   </td><td>1695                </td><td>0               </td><td>0                                    </td><td>0                  </td><td>0          </td><td>0       </td><td>0                </td><td>32            </td><td>11871        </td><td>11873        </td><td>20385          </td><td>20385        </td><td>0            </td><td>3            </td><td>3            </td><td>3            </td><td>3            </td><td>3            </td><td>3            </td><td>0             </td><td>3           </td><td>0            </td><td>0             </td><td>0         </td><td>0            </td><td>0            </td><td>0             </td><td>0           </td></tr>\n",
       "<tr><td>0      </td><td>Male    </td><td>Others     </td><td>C              </td><td>               </td><td>A                   </td><td>4.0                 </td><td>2150.0          </td><td>B002                                 </td><td>P                  </td><td>Y          </td><td>S122    </td><td>B                </td><td>0.0           </td><td>10000.0      </td><td>3.0          </td><td>20.0           </td><td>372.0        </td><td>4.0          </td><td>28.0         </td><td>3.0          </td><td>6.0          </td><td>1988.0       </td><td>22.0         </td><td>Fri          </td><td>0.0           </td><td>Summer      </td><td>5.0          </td><td>7.0           </td><td>2016.0    </td><td>27.0         </td><td>Tue          </td><td>0.0           </td><td>Summer      </td></tr>\n",
       "<tr><td>1      </td><td>Male    </td><td>Others     </td><td>A              </td><td>               </td><td>C                   </td><td>4.0                 </td><td>4200.0          </td><td>B004                                 </td><td>P                  </td><td>Y          </td><td>S133    </td><td>C                </td><td>0.0           </td><td>69000.0      </td><td>5.0          </td><td>24.0           </td><td>1985.0       </td><td>7.0          </td><td>35.0         </td><td>13.0         </td><td>7.0          </td><td>1981.0       </td><td>29.0         </td><td>Mon          </td><td>0.0           </td><td>Summer      </td><td>1.0          </td><td>7.0           </td><td>2016.0    </td><td>26.0         </td><td>Fri          </td><td>0.0           </td><td>Summer      </td></tr>\n",
       "<tr><td>2      </td><td>Female  </td><td>C10009     </td><td>B              </td><td>               </td><td>B                   </td><td>4.0                 </td><td>1000.0          </td><td>B002                                 </td><td>P                  </td><td>N          </td><td>S133    </td><td>B                </td><td>0.0           </td><td>nan          </td><td>nan          </td><td>nan            </td><td>nan          </td><td>0.0          </td><td>26.0         </td><td>19.0         </td><td>11.0         </td><td>1990.0       </td><td>47.0         </td><td>Mon          </td><td>0.0           </td><td>Winter      </td><td>1.0          </td><td>7.0           </td><td>2016.0    </td><td>26.0         </td><td>Fri          </td><td>0.0           </td><td>Summer      </td></tr>\n",
       "<tr><td>3      </td><td>Female  </td><td>C10005     </td><td>A              </td><td>COM0000085     </td><td>A                   </td><td>3.0                 </td><td>1465.0          </td><td>B001                                 </td><td>P                  </td><td>N          </td><td>S133    </td><td>C                </td><td>0.0           </td><td>nan          </td><td>nan          </td><td>nan            </td><td>nan          </td><td>0.0          </td><td>24.0         </td><td>15.0         </td><td>10.0         </td><td>1992.0       </td><td>42.0         </td><td>Thu          </td><td>0.0           </td><td>Autumn      </td><td>1.0          </td><td>7.0           </td><td>2016.0    </td><td>26.0         </td><td>Fri          </td><td>0.0           </td><td>Summer      </td></tr>\n",
       "<tr><td>4      </td><td>Male    </td><td>Others     </td><td>A              </td><td>               </td><td>A                   </td><td>4.0                 </td><td>2340.0          </td><td>B004                                 </td><td>P                  </td><td>Y          </td><td>S143    </td><td>B                </td><td>500.0         </td><td>10000.0      </td><td>2.0          </td><td>nan            </td><td>nan          </td><td>0.0          </td><td>28.0         </td><td>21.0         </td><td>9.0          </td><td>1988.0       </td><td>38.0         </td><td>Wed          </td><td>0.0           </td><td>Autumn      </td><td>1.0          </td><td>7.0           </td><td>2016.0    </td><td>26.0         </td><td>Fri          </td><td>0.0           </td><td>Summer      </td></tr>\n",
       "<tr><td>5      </td><td>Female  </td><td>C10010     </td><td>A              </td><td>               </td><td>B                   </td><td>4.0                 </td><td>1500.0          </td><td>B004                                 </td><td>P                  </td><td>N          </td><td>S133    </td><td>B                </td><td>450.0         </td><td>nan          </td><td>nan          </td><td>nan            </td><td>nan          </td><td>0.0          </td><td>29.0         </td><td>26.0         </td><td>12.0         </td><td>1987.0       </td><td>52.0         </td><td>Sat          </td><td>1.0           </td><td>Winter      </td><td>1.0          </td><td>7.0           </td><td>2016.0    </td><td>26.0         </td><td>Fri          </td><td>0.0           </td><td>Summer      </td></tr>\n",
       "<tr><td>6      </td><td>Female  </td><td>Others     </td><td>A              </td><td>               </td><td>A                   </td><td>4.0                 </td><td>6900.0          </td><td>B003                                 </td><td>G                  </td><td>N          </td><td>S134    </td><td>B                </td><td>3000.0        </td><td>nan          </td><td>nan          </td><td>nan            </td><td>nan          </td><td>0.0          </td><td>43.0         </td><td>22.0         </td><td>9.0          </td><td>1973.0       </td><td>38.0         </td><td>Sat          </td><td>1.0           </td><td>Autumn      </td><td>1.0          </td><td>7.0           </td><td>2016.0    </td><td>26.0         </td><td>Fri          </td><td>0.0           </td><td>Summer      </td></tr>\n",
       "<tr><td>7      </td><td>Female  </td><td>Others     </td><td>A              </td><td>               </td><td>B                   </td><td>4.0                 </td><td>2055.5          </td><td>B002                                 </td><td>P                  </td><td>N          </td><td>S133    </td><td>B                </td><td>749.7         </td><td>nan          </td><td>nan          </td><td>nan            </td><td>nan          </td><td>0.0          </td><td>25.0         </td><td>18.0         </td><td>10.0         </td><td>1991.0       </td><td>42.0         </td><td>Fri          </td><td>0.0           </td><td>Autumn      </td><td>1.0          </td><td>7.0           </td><td>2016.0    </td><td>26.0         </td><td>Fri          </td><td>0.0           </td><td>Summer      </td></tr>\n",
       "<tr><td>8      </td><td>Male    </td><td>C10014     </td><td>B              </td><td>               </td><td>A                   </td><td>4.0                 </td><td>3000.0          </td><td>B004                                 </td><td>P                  </td><td>Y          </td><td>S156    </td><td>B                </td><td>0.0           </td><td>10000.0      </td><td>1.0          </td><td>nan            </td><td>nan          </td><td>10.0         </td><td>25.0         </td><td>6.0          </td><td>8.0          </td><td>1991.0       </td><td>32.0         </td><td>Tue          </td><td>0.0           </td><td>Autumn      </td><td>1.0          </td><td>7.0           </td><td>2016.0    </td><td>26.0         </td><td>Fri          </td><td>0.0           </td><td>Summer      </td></tr>\n",
       "<tr><td>9      </td><td>Male    </td><td>C10001     </td><td>A              </td><td>               </td><td>B                   </td><td>4.0                 </td><td>4040.0          </td><td>B002                                 </td><td>P                  </td><td>Y          </td><td>S133    </td><td>B                </td><td>0.0           </td><td>30000.0      </td><td>4.0          </td><td>nan            </td><td>nan          </td><td>10.0         </td><td>32.0         </td><td>13.0         </td><td>7.0          </td><td>1984.0       </td><td>28.0         </td><td>Fri          </td><td>0.0           </td><td>Summer      </td><td>1.0          </td><td>7.0           </td><td>2016.0    </td><td>26.0         </td><td>Fri          </td><td>0.0           </td><td>Summer      </td></tr>\n",
       "</tbody>\n",
       "</table>"
      ]
     },
     "metadata": {},
     "output_type": "display_data"
    }
   ],
   "source": [
    "refine_date_col1(test, \"Lead_Creation_Date\", \"%Y-%m-%d %H:%M:%S\")\n",
    "test = test.drop(\"Lead_Creation_Date\")\n",
    "test.describe()"
   ]
  },
  {
   "cell_type": "code",
   "execution_count": 115,
   "metadata": {},
   "outputs": [
    {
     "data": {
      "text/html": [
       "<table>\n",
       "<thead>\n",
       "<tr></tr>\n",
       "</thead>\n",
       "<tbody>\n",
       "</tbody>\n",
       "</table>"
      ]
     },
     "metadata": {},
     "output_type": "display_data"
    },
    {
     "data": {
      "text/plain": []
     },
     "execution_count": 115,
     "metadata": {},
     "output_type": "execute_result"
    }
   ],
   "source": [
    "test[test['Employer_Code']=='', :]"
   ]
  },
  {
   "cell_type": "code",
   "execution_count": 116,
   "metadata": {},
   "outputs": [
    {
     "name": "stdout",
     "output_type": "stream",
     "text": [
      "Rows:30037\n",
      "Cols:39\n",
      "\n",
      "\n"
     ]
    },
    {
     "data": {
      "text/html": [
       "<table>\n",
       "<thead>\n",
       "<tr><th>       </th><th>Gender  </th><th>City_Code  </th><th>City_Category  </th><th>Employer_Code  </th><th>Employer_Category1  </th><th>Employer_Category2  </th><th>Monthly_Income  </th><th>Customer_Existing_Primary_Bank_Code  </th><th>Primary_Bank_Type  </th><th>Contacted  </th><th>Source  </th><th>Source_Category  </th><th>Existing_EMI  </th><th>Loan_Amount  </th><th>Loan_Period  </th><th>Interest_Rate  </th><th>EMI          </th><th>Var1  </th><th>age          </th><th>DOB_Day      </th><th>DOB_Month    </th><th>DOB_Year     </th><th>DOB_WeekNum  </th><th>DOB_WeekDay  </th><th>DOB_Weekend   </th><th>DOB_Season  </th><th>LCD_Day      </th><th>LCD_Month     </th><th>LCD_Year  </th><th>LCD_WeekNum  </th><th>LCD_WeekDay  </th><th>LCD_Weekend   </th><th>LCD_Season  </th><th>Employer_Category2Missing  </th><th>Existing_EMIMissing  </th><th>Loan_AmountMissing  </th><th>Loan_PeriodMissing  </th><th>Interest_RateMissing  </th><th>EMIMissing    </th></tr>\n",
       "</thead>\n",
       "<tbody>\n",
       "<tr><td>type   </td><td>enum    </td><td>enum       </td><td>enum           </td><td>enum           </td><td>enum                </td><td>enum                </td><td>real            </td><td>enum                                 </td><td>enum               </td><td>enum       </td><td>enum    </td><td>enum             </td><td>real          </td><td>int          </td><td>enum         </td><td>real           </td><td>int          </td><td>enum  </td><td>int          </td><td>int          </td><td>int          </td><td>int          </td><td>int          </td><td>enum         </td><td>int           </td><td>enum        </td><td>int          </td><td>int           </td><td>int       </td><td>int          </td><td>enum         </td><td>int           </td><td>enum        </td><td>int                        </td><td>int                  </td><td>int                 </td><td>int                 </td><td>int                   </td><td>int           </td></tr>\n",
       "<tr><td>mins   </td><td>        </td><td>           </td><td>               </td><td>               </td><td>                    </td><td>                    </td><td>0.0             </td><td>                                     </td><td>                   </td><td>           </td><td>        </td><td>                 </td><td>0.0           </td><td>5000.0       </td><td>             </td><td>11.99          </td><td>118.0        </td><td>      </td><td>18.0         </td><td>1.0          </td><td>1.0          </td><td>1933.0       </td><td>1.0          </td><td>             </td><td>0.0           </td><td>            </td><td>1.0          </td><td>7.0           </td><td>2016.0    </td><td>26.0         </td><td>             </td><td>0.0           </td><td>            </td><td>0.0                        </td><td>0.0                  </td><td>0.0                 </td><td>0.0                 </td><td>0.0                   </td><td>0.0           </td></tr>\n",
       "<tr><td>mean   </td><td>        </td><td>           </td><td>               </td><td>               </td><td>                    </td><td>                    </td><td>3977.13915171   </td><td>                                     </td><td>                   </td><td>           </td><td>        </td><td>                 </td><td>348.909059557 </td><td>39482.9902015</td><td>             </td><td>19.2805366763  </td><td>1094.9148363 </td><td>      </td><td>30.8875607645</td><td>14.571452354 </td><td>6.59535859359</td><td>1985.25484451</td><td>26.7379303456</td><td>             </td><td>0.283550287978</td><td>            </td><td>16.0961813763</td><td>8.06155741252 </td><td>2016.0    </td><td>33.0394846356</td><td>             </td><td>0.208675966308</td><td>            </td><td>0.943569597496             </td><td>0.998934647268       </td><td>0.604787428838      </td><td>0.604720844292      </td><td>0.321337017678        </td><td>0.321337017678</td></tr>\n",
       "<tr><td>maxs   </td><td>        </td><td>           </td><td>               </td><td>               </td><td>                    </td><td>                    </td><td>3500000.0       </td><td>                                     </td><td>                   </td><td>           </td><td>        </td><td>                 </td><td>43000.0       </td><td>300000.0     </td><td>             </td><td>37.0           </td><td>6979.0       </td><td>      </td><td>83.0         </td><td>31.0         </td><td>12.0         </td><td>1999.0       </td><td>53.0         </td><td>             </td><td>1.0           </td><td>            </td><td>31.0         </td><td>9.0           </td><td>2016.0    </td><td>39.0         </td><td>             </td><td>1.0           </td><td>            </td><td>1.0                        </td><td>1.0                  </td><td>1.0                 </td><td>1.0                 </td><td>1.0                   </td><td>1.0           </td></tr>\n",
       "<tr><td>sigma  </td><td>        </td><td>           </td><td>               </td><td>               </td><td>                    </td><td>                    </td><td>23289.6018757   </td><td>                                     </td><td>                   </td><td>           </td><td>        </td><td>                 </td><td>1000.81684747 </td><td>30527.8655936</td><td>             </td><td>5.8822462436   </td><td>727.452303167</td><td>      </td><td>7.08207632251</td><td>8.86878333963</td><td>3.26688026649</td><td>7.07018583374</td><td>14.3010106006</td><td>             </td><td>0.450728616465</td><td>            </td><td>8.92557217925</td><td>0.819207355098</td><td>0.0       </td><td>3.83535141408</td><td>             </td><td>0.406369050421</td><td>            </td><td>0.230754815587             </td><td>0.0326228935963      </td><td>0.488904441101      </td><td>0.488918707973      </td><td>0.466997643841        </td><td>0.466997643841</td></tr>\n",
       "<tr><td>zeros  </td><td>        </td><td>           </td><td>               </td><td>               </td><td>                    </td><td>                    </td><td>97              </td><td>                                     </td><td>                   </td><td>           </td><td>        </td><td>                 </td><td>20111         </td><td>0            </td><td>             </td><td>0              </td><td>0            </td><td>      </td><td>0            </td><td>0            </td><td>0            </td><td>0            </td><td>0            </td><td>             </td><td>21520         </td><td>            </td><td>0            </td><td>0             </td><td>0         </td><td>0            </td><td>             </td><td>23769         </td><td>            </td><td>1695                       </td><td>32                   </td><td>11871               </td><td>11873               </td><td>20385                 </td><td>20385         </td></tr>\n",
       "<tr><td>missing</td><td>0       </td><td>0          </td><td>0              </td><td>26827          </td><td>0                   </td><td>1695                </td><td>0               </td><td>0                                    </td><td>0                  </td><td>0          </td><td>0       </td><td>0                </td><td>32            </td><td>11871        </td><td>11873        </td><td>20385          </td><td>20385        </td><td>0     </td><td>3            </td><td>3            </td><td>3            </td><td>3            </td><td>3            </td><td>3            </td><td>0             </td><td>3           </td><td>0            </td><td>0             </td><td>0         </td><td>0            </td><td>0            </td><td>0             </td><td>0           </td><td>0                          </td><td>0                    </td><td>0                   </td><td>0                   </td><td>0                     </td><td>0             </td></tr>\n",
       "<tr><td>0      </td><td>Male    </td><td>Others     </td><td>C              </td><td>               </td><td>A                   </td><td>4                   </td><td>2150.0          </td><td>B002                                 </td><td>P                  </td><td>Y          </td><td>S122    </td><td>B                </td><td>0.0           </td><td>10000.0      </td><td>3            </td><td>20.0           </td><td>372.0        </td><td>4     </td><td>28.0         </td><td>3.0          </td><td>6.0          </td><td>1988.0       </td><td>22.0         </td><td>Fri          </td><td>0.0           </td><td>Summer      </td><td>5.0          </td><td>7.0           </td><td>2016.0    </td><td>27.0         </td><td>Tue          </td><td>0.0           </td><td>Summer      </td><td>1.0                        </td><td>1.0                  </td><td>1.0                 </td><td>1.0                 </td><td>1.0                   </td><td>1.0           </td></tr>\n",
       "<tr><td>1      </td><td>Male    </td><td>Others     </td><td>A              </td><td>               </td><td>C                   </td><td>4                   </td><td>4200.0          </td><td>B004                                 </td><td>P                  </td><td>Y          </td><td>S133    </td><td>C                </td><td>0.0           </td><td>69000.0      </td><td>5            </td><td>24.0           </td><td>1985.0       </td><td>7     </td><td>35.0         </td><td>13.0         </td><td>7.0          </td><td>1981.0       </td><td>29.0         </td><td>Mon          </td><td>0.0           </td><td>Summer      </td><td>1.0          </td><td>7.0           </td><td>2016.0    </td><td>26.0         </td><td>Fri          </td><td>0.0           </td><td>Summer      </td><td>1.0                        </td><td>1.0                  </td><td>1.0                 </td><td>1.0                 </td><td>1.0                   </td><td>1.0           </td></tr>\n",
       "<tr><td>2      </td><td>Female  </td><td>C10009     </td><td>B              </td><td>               </td><td>B                   </td><td>4                   </td><td>1000.0          </td><td>B002                                 </td><td>P                  </td><td>N          </td><td>S133    </td><td>B                </td><td>0.0           </td><td>nan          </td><td>             </td><td>nan            </td><td>nan          </td><td>0     </td><td>26.0         </td><td>19.0         </td><td>11.0         </td><td>1990.0       </td><td>47.0         </td><td>Mon          </td><td>0.0           </td><td>Winter      </td><td>1.0          </td><td>7.0           </td><td>2016.0    </td><td>26.0         </td><td>Fri          </td><td>0.0           </td><td>Summer      </td><td>1.0                        </td><td>1.0                  </td><td>0.0                 </td><td>0.0                 </td><td>0.0                   </td><td>0.0           </td></tr>\n",
       "<tr><td>3      </td><td>Female  </td><td>C10005     </td><td>A              </td><td>COM0000085     </td><td>A                   </td><td>3                   </td><td>1465.0          </td><td>B001                                 </td><td>P                  </td><td>N          </td><td>S133    </td><td>C                </td><td>0.0           </td><td>nan          </td><td>             </td><td>nan            </td><td>nan          </td><td>0     </td><td>24.0         </td><td>15.0         </td><td>10.0         </td><td>1992.0       </td><td>42.0         </td><td>Thu          </td><td>0.0           </td><td>Autumn      </td><td>1.0          </td><td>7.0           </td><td>2016.0    </td><td>26.0         </td><td>Fri          </td><td>0.0           </td><td>Summer      </td><td>1.0                        </td><td>1.0                  </td><td>0.0                 </td><td>0.0                 </td><td>0.0                   </td><td>0.0           </td></tr>\n",
       "<tr><td>4      </td><td>Male    </td><td>Others     </td><td>A              </td><td>               </td><td>A                   </td><td>4                   </td><td>2340.0          </td><td>B004                                 </td><td>P                  </td><td>Y          </td><td>S143    </td><td>B                </td><td>500.0         </td><td>10000.0      </td><td>2            </td><td>nan            </td><td>nan          </td><td>0     </td><td>28.0         </td><td>21.0         </td><td>9.0          </td><td>1988.0       </td><td>38.0         </td><td>Wed          </td><td>0.0           </td><td>Autumn      </td><td>1.0          </td><td>7.0           </td><td>2016.0    </td><td>26.0         </td><td>Fri          </td><td>0.0           </td><td>Summer      </td><td>1.0                        </td><td>1.0                  </td><td>1.0                 </td><td>1.0                 </td><td>0.0                   </td><td>0.0           </td></tr>\n",
       "<tr><td>5      </td><td>Female  </td><td>C10010     </td><td>A              </td><td>               </td><td>B                   </td><td>4                   </td><td>1500.0          </td><td>B004                                 </td><td>P                  </td><td>N          </td><td>S133    </td><td>B                </td><td>450.0         </td><td>nan          </td><td>             </td><td>nan            </td><td>nan          </td><td>0     </td><td>29.0         </td><td>26.0         </td><td>12.0         </td><td>1987.0       </td><td>52.0         </td><td>Sat          </td><td>1.0           </td><td>Winter      </td><td>1.0          </td><td>7.0           </td><td>2016.0    </td><td>26.0         </td><td>Fri          </td><td>0.0           </td><td>Summer      </td><td>1.0                        </td><td>1.0                  </td><td>0.0                 </td><td>0.0                 </td><td>0.0                   </td><td>0.0           </td></tr>\n",
       "<tr><td>6      </td><td>Female  </td><td>Others     </td><td>A              </td><td>               </td><td>A                   </td><td>4                   </td><td>6900.0          </td><td>B003                                 </td><td>G                  </td><td>N          </td><td>S134    </td><td>B                </td><td>3000.0        </td><td>nan          </td><td>             </td><td>nan            </td><td>nan          </td><td>0     </td><td>43.0         </td><td>22.0         </td><td>9.0          </td><td>1973.0       </td><td>38.0         </td><td>Sat          </td><td>1.0           </td><td>Autumn      </td><td>1.0          </td><td>7.0           </td><td>2016.0    </td><td>26.0         </td><td>Fri          </td><td>0.0           </td><td>Summer      </td><td>1.0                        </td><td>1.0                  </td><td>0.0                 </td><td>0.0                 </td><td>0.0                   </td><td>0.0           </td></tr>\n",
       "<tr><td>7      </td><td>Female  </td><td>Others     </td><td>A              </td><td>               </td><td>B                   </td><td>4                   </td><td>2055.5          </td><td>B002                                 </td><td>P                  </td><td>N          </td><td>S133    </td><td>B                </td><td>749.7         </td><td>nan          </td><td>             </td><td>nan            </td><td>nan          </td><td>0     </td><td>25.0         </td><td>18.0         </td><td>10.0         </td><td>1991.0       </td><td>42.0         </td><td>Fri          </td><td>0.0           </td><td>Autumn      </td><td>1.0          </td><td>7.0           </td><td>2016.0    </td><td>26.0         </td><td>Fri          </td><td>0.0           </td><td>Summer      </td><td>1.0                        </td><td>1.0                  </td><td>0.0                 </td><td>0.0                 </td><td>0.0                   </td><td>0.0           </td></tr>\n",
       "<tr><td>8      </td><td>Male    </td><td>C10014     </td><td>B              </td><td>               </td><td>A                   </td><td>4                   </td><td>3000.0          </td><td>B004                                 </td><td>P                  </td><td>Y          </td><td>S156    </td><td>B                </td><td>0.0           </td><td>10000.0      </td><td>1            </td><td>nan            </td><td>nan          </td><td>10    </td><td>25.0         </td><td>6.0          </td><td>8.0          </td><td>1991.0       </td><td>32.0         </td><td>Tue          </td><td>0.0           </td><td>Autumn      </td><td>1.0          </td><td>7.0           </td><td>2016.0    </td><td>26.0         </td><td>Fri          </td><td>0.0           </td><td>Summer      </td><td>1.0                        </td><td>1.0                  </td><td>1.0                 </td><td>1.0                 </td><td>0.0                   </td><td>0.0           </td></tr>\n",
       "<tr><td>9      </td><td>Male    </td><td>C10001     </td><td>A              </td><td>               </td><td>B                   </td><td>4                   </td><td>4040.0          </td><td>B002                                 </td><td>P                  </td><td>Y          </td><td>S133    </td><td>B                </td><td>0.0           </td><td>30000.0      </td><td>4            </td><td>nan            </td><td>nan          </td><td>10    </td><td>32.0         </td><td>13.0         </td><td>7.0          </td><td>1984.0       </td><td>28.0         </td><td>Fri          </td><td>0.0           </td><td>Summer      </td><td>1.0          </td><td>7.0           </td><td>2016.0    </td><td>26.0         </td><td>Fri          </td><td>0.0           </td><td>Summer      </td><td>1.0                        </td><td>1.0                  </td><td>1.0                 </td><td>1.0                 </td><td>0.0                   </td><td>0.0           </td></tr>\n",
       "</tbody>\n",
       "</table>"
      ]
     },
     "metadata": {},
     "output_type": "display_data"
    }
   ],
   "source": [
    "test.describe()"
   ]
  },
  {
   "cell_type": "code",
   "execution_count": 105,
   "metadata": {},
   "outputs": [
    {
     "data": {
      "text/html": [
       "<table>\n",
       "<thead>\n",
       "<tr><th>Gender  </th><th>City_Code  </th><th>City_Category  </th><th>Employer_Code  </th><th>Employer_Category1  </th><th style=\"text-align: right;\">  Employer_Category2</th><th style=\"text-align: right;\">  Monthly_Income</th><th>Customer_Existing_Primary_Bank_Code  </th><th>Primary_Bank_Type  </th><th>Contacted  </th><th>Source  </th><th>Source_Category  </th><th style=\"text-align: right;\">  Existing_EMI</th><th style=\"text-align: right;\">  Loan_Amount</th><th style=\"text-align: right;\">  Loan_Period</th><th style=\"text-align: right;\">  Interest_Rate</th><th style=\"text-align: right;\">  EMI</th><th style=\"text-align: right;\">  Var1</th><th style=\"text-align: right;\">  Approved</th><th style=\"text-align: right;\">  age</th><th style=\"text-align: right;\">  DOB_Day</th><th style=\"text-align: right;\">  DOB_Month</th><th style=\"text-align: right;\">  DOB_Year</th><th style=\"text-align: right;\">  DOB_WeekNum</th><th>DOB_WeekDay  </th><th style=\"text-align: right;\">  DOB_Weekend</th><th>DOB_Season  </th><th style=\"text-align: right;\">  LCD_Day</th><th style=\"text-align: right;\">  LCD_Month</th><th style=\"text-align: right;\">  LCD_Year</th><th style=\"text-align: right;\">  LCD_WeekNum</th><th>LCD_WeekDay  </th><th style=\"text-align: right;\">  LCD_Weekend</th><th>LCD_Season  </th></tr>\n",
       "</thead>\n",
       "<tbody>\n",
       "<tr><td>Female  </td><td>Others     </td><td>C              </td><td>Others         </td><td>A                   </td><td style=\"text-align: right;\">                   4</td><td style=\"text-align: right;\">          5152.4</td><td>B001                                 </td><td>P                  </td><td>N          </td><td>S122    </td><td>G                </td><td style=\"text-align: right;\">        2364.8</td><td style=\"text-align: right;\">          nan</td><td style=\"text-align: right;\">          nan</td><td style=\"text-align: right;\">            nan</td><td style=\"text-align: right;\">  nan</td><td style=\"text-align: right;\">     0</td><td style=\"text-align: right;\">         0</td><td style=\"text-align: right;\">   53</td><td style=\"text-align: right;\">        2</td><td style=\"text-align: right;\">          1</td><td style=\"text-align: right;\">      1964</td><td style=\"text-align: right;\">            1</td><td>Thu          </td><td style=\"text-align: right;\">            0</td><td>Winter      </td><td style=\"text-align: right;\">       30</td><td style=\"text-align: right;\">          9</td><td style=\"text-align: right;\">      2016</td><td style=\"text-align: right;\">           39</td><td>Fri          </td><td style=\"text-align: right;\">            0</td><td>Autumn      </td></tr>\n",
       "</tbody>\n",
       "</table>"
      ]
     },
     "metadata": {},
     "output_type": "display_data"
    },
    {
     "data": {
      "text/plain": []
     },
     "execution_count": 105,
     "metadata": {},
     "output_type": "execute_result"
    }
   ],
   "source": [
    "train[69700,:]"
   ]
  },
  {
   "cell_type": "code",
   "execution_count": 106,
   "metadata": {},
   "outputs": [],
   "source": [
    "# Convert 'Survived' and 'Pclass' to categorical values\n",
    "train['Approved'] = train['Approved'].asfactor()\n",
    "train['Employer_Category2'] = train['Employer_Category2'].asfactor()\n",
    "train['Loan_Period'] = train['Loan_Period'].asfactor()\n",
    "train['Var1'] = train['Var1'].asfactor()"
   ]
  },
  {
   "cell_type": "code",
   "execution_count": 107,
   "metadata": {},
   "outputs": [],
   "source": [
    "test['Employer_Category2'] = test['Employer_Category2'].asfactor()\n",
    "test['Loan_Period'] = test['Loan_Period'].asfactor()\n",
    "test['Var1'] = test['Var1'].asfactor()"
   ]
  },
  {
   "cell_type": "code",
   "execution_count": 108,
   "metadata": {},
   "outputs": [
    {
     "data": {
      "text/html": [
       "<table>\n",
       "<thead>\n",
       "<tr><th>Employer_Code  </th><th style=\"text-align: right;\">  Count</th></tr>\n",
       "</thead>\n",
       "<tbody>\n",
       "<tr><td>COM0000002     </td><td style=\"text-align: right;\">    165</td></tr>\n",
       "<tr><td>COM0000003     </td><td style=\"text-align: right;\">    124</td></tr>\n",
       "<tr><td>COM0000004     </td><td style=\"text-align: right;\">    130</td></tr>\n",
       "<tr><td>COM0000005     </td><td style=\"text-align: right;\">     81</td></tr>\n",
       "<tr><td>COM0000006     </td><td style=\"text-align: right;\">     64</td></tr>\n",
       "<tr><td>COM0000007     </td><td style=\"text-align: right;\">     78</td></tr>\n",
       "<tr><td>COM0000008     </td><td style=\"text-align: right;\">     69</td></tr>\n",
       "<tr><td>COM0000009     </td><td style=\"text-align: right;\">     56</td></tr>\n",
       "<tr><td>COM0000010     </td><td style=\"text-align: right;\">     53</td></tr>\n",
       "<tr><td>COM0000011     </td><td style=\"text-align: right;\">     60</td></tr>\n",
       "</tbody>\n",
       "</table>"
      ]
     },
     "metadata": {},
     "output_type": "display_data"
    },
    {
     "data": {
      "text/plain": []
     },
     "execution_count": 108,
     "metadata": {},
     "output_type": "execute_result"
    }
   ],
   "source": [
    "test['Employer_Code'].table()"
   ]
  },
  {
   "cell_type": "code",
   "execution_count": 109,
   "metadata": {},
   "outputs": [],
   "source": [
    "#training feature engineering\n",
    "train['Employer_Category2Missing'] = (train[\"Employer_Category2\"].isna()).ifelse(0, 1)\n",
    "train['Existing_EMIMissing'] = (train[\"Existing_EMI\"].isna()).ifelse(0, 1)\n",
    "train['Loan_AmountMissing'] = (train[\"Loan_Amount\"].isna()).ifelse(0, 1)\n",
    "train['Loan_PeriodMissing'] = (train[\"Loan_Period\"].isna()).ifelse(0, 1)\n",
    "train['Interest_RateMissing'] = (train[\"Interest_Rate\"].isna()).ifelse(0, 1)\n",
    "train['EMIMissing'] = (train[\"EMI\"].isna()).ifelse(0, 1)"
   ]
  },
  {
   "cell_type": "code",
   "execution_count": 110,
   "metadata": {},
   "outputs": [],
   "source": [
    "#testing feature engineering\n",
    "test['Employer_Category2Missing'] = (test[\"Employer_Category2\"].isna()).ifelse(0, 1)\n",
    "test['Existing_EMIMissing'] = (test[\"Existing_EMI\"].isna()).ifelse(0, 1)\n",
    "test['Loan_AmountMissing'] = (test[\"Loan_Amount\"].isna()).ifelse(0, 1)\n",
    "test['Loan_PeriodMissing'] = (test[\"Loan_Period\"].isna()).ifelse(0, 1)\n",
    "test['Interest_RateMissing'] = (test[\"Interest_Rate\"].isna()).ifelse(0, 1)\n",
    "test['EMIMissing'] = (test[\"EMI\"].isna()).ifelse(0, 1)"
   ]
  },
  {
   "cell_type": "code",
   "execution_count": 111,
   "metadata": {},
   "outputs": [
    {
     "name": "stdout",
     "output_type": "stream",
     "text": [
      "Rows:69713\n",
      "Cols:40\n",
      "\n",
      "\n"
     ]
    },
    {
     "data": {
      "text/html": [
       "<table>\n",
       "<thead>\n",
       "<tr><th>       </th><th>Gender  </th><th>City_Code  </th><th>City_Category  </th><th>Employer_Code  </th><th>Employer_Category1  </th><th>Employer_Category2  </th><th>Monthly_Income  </th><th>Customer_Existing_Primary_Bank_Code  </th><th>Primary_Bank_Type  </th><th>Contacted  </th><th>Source  </th><th>Source_Category  </th><th>Existing_EMI  </th><th>Loan_Amount  </th><th>Loan_Period  </th><th>Interest_Rate  </th><th>EMI          </th><th>Var1  </th><th>Approved  </th><th>age          </th><th>DOB_Day      </th><th>DOB_Month    </th><th>DOB_Year     </th><th>DOB_WeekNum  </th><th>DOB_WeekDay  </th><th>DOB_Weekend   </th><th>DOB_Season  </th><th>LCD_Day      </th><th>LCD_Month     </th><th>LCD_Year  </th><th>LCD_WeekNum  </th><th>LCD_WeekDay  </th><th>LCD_Weekend   </th><th>LCD_Season  </th><th>Employer_Category2Missing  </th><th>Existing_EMIMissing  </th><th>Loan_AmountMissing  </th><th>Loan_PeriodMissing  </th><th>Interest_RateMissing  </th><th>EMIMissing    </th></tr>\n",
       "</thead>\n",
       "<tbody>\n",
       "<tr><td>type   </td><td>enum    </td><td>enum       </td><td>enum           </td><td>enum           </td><td>enum                </td><td>enum                </td><td>real            </td><td>enum                                 </td><td>enum               </td><td>enum       </td><td>enum    </td><td>enum             </td><td>real          </td><td>int          </td><td>enum         </td><td>real           </td><td>int          </td><td>enum  </td><td>enum      </td><td>int          </td><td>int          </td><td>int          </td><td>int          </td><td>int          </td><td>enum         </td><td>int           </td><td>enum        </td><td>int          </td><td>int           </td><td>int       </td><td>int          </td><td>enum         </td><td>int           </td><td>enum        </td><td>int                        </td><td>int                  </td><td>int                 </td><td>int                 </td><td>int                   </td><td>int           </td></tr>\n",
       "<tr><td>mins   </td><td>        </td><td>           </td><td>               </td><td>               </td><td>                    </td><td>                    </td><td>0.0             </td><td>                                     </td><td>                   </td><td>           </td><td>        </td><td>                 </td><td>0.0           </td><td>5000.0       </td><td>             </td><td>11.99          </td><td>118.0        </td><td>      </td><td>          </td><td>18.0         </td><td>1.0          </td><td>1.0          </td><td>1930.0       </td><td>1.0          </td><td>             </td><td>0.0           </td><td>            </td><td>1.0          </td><td>7.0           </td><td>2016.0    </td><td>26.0         </td><td>             </td><td>0.0           </td><td>            </td><td>0.0                        </td><td>0.0                  </td><td>0.0                 </td><td>0.0                 </td><td>0.0                   </td><td>0.0           </td></tr>\n",
       "<tr><td>mean   </td><td>        </td><td>           </td><td>               </td><td>               </td><td>                    </td><td>                    </td><td>5622.28319969   </td><td>                                     </td><td>                   </td><td>           </td><td>        </td><td>                 </td><td>360.928751199 </td><td>39429.9828588</td><td>             </td><td>19.2135697612  </td><td>1101.4662417 </td><td>      </td><td>          </td><td>30.8809004563</td><td>14.5006456426</td><td>6.59713334672</td><td>1985.26013659</td><td>26.7799793394</td><td>             </td><td>0.279445727483</td><td>            </td><td>16.0405376329</td><td>8.0596301981  </td><td>2016.0    </td><td>33.0245434854</td><td>             </td><td>0.206977177858</td><td>            </td><td>0.938347223617             </td><td>0.999268429131       </td><td>0.60252750563       </td><td>0.602513161103      </td><td>0.319538680017        </td><td>0.319538680017</td></tr>\n",
       "<tr><td>maxs   </td><td>        </td><td>           </td><td>               </td><td>               </td><td>                    </td><td>                    </td><td>38383838.3      </td><td>                                     </td><td>                   </td><td>           </td><td>        </td><td>                 </td><td>545436.5      </td><td>300000.0     </td><td>             </td><td>37.0           </td><td>13556.0      </td><td>      </td><td>          </td><td>86.0         </td><td>31.0         </td><td>12.0         </td><td>1999.0       </td><td>53.0         </td><td>             </td><td>1.0           </td><td>            </td><td>31.0         </td><td>9.0           </td><td>2016.0    </td><td>39.0         </td><td>             </td><td>1.0           </td><td>            </td><td>1.0                        </td><td>1.0                  </td><td>1.0                 </td><td>1.0                 </td><td>1.0                   </td><td>1.0           </td></tr>\n",
       "<tr><td>sigma  </td><td>        </td><td>           </td><td>               </td><td>               </td><td>                    </td><td>                    </td><td>174767.06184    </td><td>                                     </td><td>                   </td><td>           </td><td>        </td><td>                 </td><td>2288.51792717 </td><td>30727.5959902</td><td>             </td><td>5.84713577597  </td><td>752.661393713</td><td>      </td><td>          </td><td>7.09820991886</td><td>8.85670704092</td><td>3.28019400138</td><td>7.0868451027 </td><td>14.3717344858</td><td>             </td><td>0.448730098466</td><td>            </td><td>8.94168577833</td><td>0.821632000176</td><td>0.0       </td><td>3.85547111716</td><td>             </td><td>0.405141926014</td><td>            </td><td>0.240525552519             </td><td>0.027037865295       </td><td>0.489378734706      </td><td>0.489381739786      </td><td>0.466301223479        </td><td>0.466301223479</td></tr>\n",
       "<tr><td>zeros  </td><td>        </td><td>           </td><td>               </td><td>               </td><td>                    </td><td>                    </td><td>250             </td><td>                                     </td><td>                   </td><td>           </td><td>        </td><td>                 </td><td>46621         </td><td>0            </td><td>             </td><td>0              </td><td>0            </td><td>      </td><td>          </td><td>0            </td><td>0            </td><td>0            </td><td>0            </td><td>0            </td><td>             </td><td>50232         </td><td>            </td><td>0            </td><td>0             </td><td>0         </td><td>0            </td><td>             </td><td>55284         </td><td>            </td><td>4298                       </td><td>51                   </td><td>27709               </td><td>27710               </td><td>47437                 </td><td>47437         </td></tr>\n",
       "<tr><td>missing</td><td>0       </td><td>0          </td><td>0              </td><td>0              </td><td>0                   </td><td>4298                </td><td>0               </td><td>0                                    </td><td>0                  </td><td>0          </td><td>0       </td><td>0                </td><td>51            </td><td>27709        </td><td>27710        </td><td>47437          </td><td>47437        </td><td>0     </td><td>0         </td><td>15           </td><td>15           </td><td>15           </td><td>15           </td><td>15           </td><td>15           </td><td>0             </td><td>15          </td><td>0            </td><td>0             </td><td>0         </td><td>0            </td><td>0            </td><td>0             </td><td>0           </td><td>0                          </td><td>0                    </td><td>0                   </td><td>0                   </td><td>0                     </td><td>0             </td></tr>\n",
       "<tr><td>0      </td><td>Female  </td><td>C10001     </td><td>A              </td><td>Others         </td><td>A                   </td><td>4                   </td><td>2000.0          </td><td>B001                                 </td><td>P                  </td><td>N          </td><td>S122    </td><td>G                </td><td>0.0           </td><td>nan          </td><td>             </td><td>nan            </td><td>nan          </td><td>0     </td><td>0         </td><td>37.0         </td><td>23.0         </td><td>7.0          </td><td>1979.0       </td><td>30.0         </td><td>Mon          </td><td>0.0           </td><td>Summer      </td><td>15.0         </td><td>7.0           </td><td>2016.0    </td><td>28.0         </td><td>Fri          </td><td>0.0           </td><td>Summer      </td><td>1.0                        </td><td>1.0                  </td><td>0.0                 </td><td>0.0                 </td><td>0.0                   </td><td>0.0           </td></tr>\n",
       "<tr><td>1      </td><td>Male    </td><td>C10003     </td><td>A              </td><td>COM0000002     </td><td>C                   </td><td>1                   </td><td>3500.0          </td><td>B002                                 </td><td>P                  </td><td>Y          </td><td>S122    </td><td>G                </td><td>0.0           </td><td>20000.0      </td><td>2            </td><td>13.25          </td><td>953.0        </td><td>10    </td><td>0         </td><td>30.0         </td><td>7.0          </td><td>12.0         </td><td>1986.0       </td><td>49.0         </td><td>Sun          </td><td>1.0           </td><td>Winter      </td><td>4.0          </td><td>7.0           </td><td>2016.0    </td><td>27.0         </td><td>Mon          </td><td>0.0           </td><td>Summer      </td><td>1.0                        </td><td>1.0                  </td><td>1.0                 </td><td>1.0                 </td><td>1.0                   </td><td>1.0           </td></tr>\n",
       "<tr><td>2      </td><td>Male    </td><td>Others     </td><td>C              </td><td>Others         </td><td>C                   </td><td>4                   </td><td>2250.0          </td><td>B003                                 </td><td>G                  </td><td>Y          </td><td>S143    </td><td>B                </td><td>0.0           </td><td>45000.0      </td><td>4            </td><td>nan            </td><td>nan          </td><td>0     </td><td>0         </td><td>34.0         </td><td>10.0         </td><td>12.0         </td><td>1982.0       </td><td>49.0         </td><td>Fri          </td><td>0.0           </td><td>Winter      </td><td>19.0         </td><td>7.0           </td><td>2016.0    </td><td>29.0         </td><td>Tue          </td><td>0.0           </td><td>Summer      </td><td>1.0                        </td><td>1.0                  </td><td>1.0                 </td><td>1.0                 </td><td>0.0                   </td><td>0.0           </td></tr>\n",
       "<tr><td>3      </td><td>Male    </td><td>Others     </td><td>C              </td><td>Others         </td><td>A                   </td><td>4                   </td><td>3500.0          </td><td>B003                                 </td><td>G                  </td><td>Y          </td><td>S143    </td><td>B                </td><td>0.0           </td><td>92000.0      </td><td>5            </td><td>nan            </td><td>nan          </td><td>7     </td><td>0         </td><td>27.0         </td><td>30.0         </td><td>1.0          </td><td>1989.0       </td><td>5.0          </td><td>Mon          </td><td>0.0           </td><td>Winter      </td><td>9.0          </td><td>7.0           </td><td>2016.0    </td><td>27.0         </td><td>Sat          </td><td>1.0           </td><td>Summer      </td><td>1.0                        </td><td>1.0                  </td><td>1.0                 </td><td>1.0                 </td><td>0.0                   </td><td>0.0           </td></tr>\n",
       "<tr><td>4      </td><td>Male    </td><td>C10002     </td><td>A              </td><td>Others         </td><td>A                   </td><td>4                   </td><td>10000.0         </td><td>B001                                 </td><td>P                  </td><td>Y          </td><td>S134    </td><td>B                </td><td>2500.0        </td><td>50000.0      </td><td>2            </td><td>nan            </td><td>nan          </td><td>10    </td><td>0         </td><td>31.0         </td><td>19.0         </td><td>4.0          </td><td>1985.0       </td><td>16.0         </td><td>Fri          </td><td>0.0           </td><td>Spring      </td><td>20.0         </td><td>7.0           </td><td>2016.0    </td><td>29.0         </td><td>Wed          </td><td>0.0           </td><td>Summer      </td><td>1.0                        </td><td>1.0                  </td><td>1.0                 </td><td>1.0                 </td><td>0.0                   </td><td>0.0           </td></tr>\n",
       "<tr><td>5      </td><td>Female  </td><td>Others     </td><td>C              </td><td>Others         </td><td>A                   </td><td>4                   </td><td>7000.0          </td><td>B014                                 </td><td>P                  </td><td>N          </td><td>S133    </td><td>B                </td><td>0.0           </td><td>nan          </td><td>             </td><td>nan            </td><td>nan          </td><td>0     </td><td>0         </td><td>28.0         </td><td>23.0         </td><td>12.0         </td><td>1988.0       </td><td>51.0         </td><td>Fri          </td><td>0.0           </td><td>Winter      </td><td>1.0          </td><td>7.0           </td><td>2016.0    </td><td>26.0         </td><td>Fri          </td><td>0.0           </td><td>Summer      </td><td>1.0                        </td><td>1.0                  </td><td>0.0                 </td><td>0.0                 </td><td>0.0                   </td><td>0.0           </td></tr>\n",
       "<tr><td>6      </td><td>Male    </td><td>C10022     </td><td>B              </td><td>Others         </td><td>B                   </td><td>4                   </td><td>7500.0          </td><td>B003                                 </td><td>G                  </td><td>Y          </td><td>S122    </td><td>C                </td><td>0.0           </td><td>130000.0     </td><td>5            </td><td>14.85          </td><td>3082.0       </td><td>10    </td><td>0         </td><td>43.0         </td><td>28.0         </td><td>3.0          </td><td>1973.0       </td><td>13.0         </td><td>Wed          </td><td>0.0           </td><td>Spring      </td><td>2.0          </td><td>7.0           </td><td>2016.0    </td><td>26.0         </td><td>Sat          </td><td>1.0           </td><td>Summer      </td><td>1.0                        </td><td>1.0                  </td><td>1.0                 </td><td>1.0                 </td><td>1.0                   </td><td>1.0           </td></tr>\n",
       "<tr><td>7      </td><td>Female  </td><td>C10003     </td><td>A              </td><td>Others         </td><td>A                   </td><td>4                   </td><td>3000.0          </td><td>B006                                 </td><td>P                  </td><td>Y          </td><td>S133    </td><td>B                </td><td>0.0           </td><td>30000.0      </td><td>3            </td><td>18.25          </td><td>1088.0       </td><td>0     </td><td>0         </td><td>26.0         </td><td>12.0         </td><td>11.0         </td><td>1990.0       </td><td>46.0         </td><td>Mon          </td><td>0.0           </td><td>Winter      </td><td>3.0          </td><td>7.0           </td><td>2016.0    </td><td>26.0         </td><td>Sun          </td><td>1.0           </td><td>Summer      </td><td>1.0                        </td><td>1.0                  </td><td>1.0                 </td><td>1.0                 </td><td>1.0                   </td><td>1.0           </td></tr>\n",
       "<tr><td>8      </td><td>Male    </td><td>C10003     </td><td>A              </td><td>Others         </td><td>A                   </td><td>4                   </td><td>2500.0          </td><td>B017                                 </td><td>G                  </td><td>Y          </td><td>S133    </td><td>B                </td><td>0.0           </td><td>66000.0      </td><td>5            </td><td>20.0           </td><td>1749.0       </td><td>7     </td><td>0         </td><td>39.0         </td><td>3.0          </td><td>3.0          </td><td>1977.0       </td><td>9.0          </td><td>Thu          </td><td>0.0           </td><td>Spring      </td><td>2.0          </td><td>7.0           </td><td>2016.0    </td><td>26.0         </td><td>Sat          </td><td>1.0           </td><td>Summer      </td><td>1.0                        </td><td>1.0                  </td><td>1.0                 </td><td>1.0                 </td><td>1.0                   </td><td>1.0           </td></tr>\n",
       "<tr><td>9      </td><td>Female  </td><td>C10014     </td><td>B              </td><td>Others         </td><td>A                   </td><td>4                   </td><td>2500.0          </td><td>                                     </td><td>                   </td><td>N          </td><td>S122    </td><td>B                </td><td>0.0           </td><td>nan          </td><td>             </td><td>nan            </td><td>nan          </td><td>0     </td><td>0         </td><td>26.0         </td><td>13.0         </td><td>12.0         </td><td>1990.0       </td><td>50.0         </td><td>Thu          </td><td>0.0           </td><td>Winter      </td><td>2.0          </td><td>7.0           </td><td>2016.0    </td><td>26.0         </td><td>Sat          </td><td>1.0           </td><td>Summer      </td><td>1.0                        </td><td>1.0                  </td><td>0.0                 </td><td>0.0                 </td><td>0.0                   </td><td>0.0           </td></tr>\n",
       "</tbody>\n",
       "</table>"
      ]
     },
     "metadata": {},
     "output_type": "display_data"
    }
   ],
   "source": [
    "train.describe()"
   ]
  },
  {
   "cell_type": "code",
   "execution_count": 112,
   "metadata": {},
   "outputs": [
    {
     "name": "stdout",
     "output_type": "stream",
     "text": [
      "Rows:30037\n",
      "Cols:39\n",
      "\n",
      "\n"
     ]
    },
    {
     "data": {
      "text/html": [
       "<table>\n",
       "<thead>\n",
       "<tr><th>       </th><th>Gender  </th><th>City_Code  </th><th>City_Category  </th><th>Employer_Code  </th><th>Employer_Category1  </th><th>Employer_Category2  </th><th>Monthly_Income  </th><th>Customer_Existing_Primary_Bank_Code  </th><th>Primary_Bank_Type  </th><th>Contacted  </th><th>Source  </th><th>Source_Category  </th><th>Existing_EMI  </th><th>Loan_Amount  </th><th>Loan_Period  </th><th>Interest_Rate  </th><th>EMI          </th><th>Var1  </th><th>age          </th><th>DOB_Day      </th><th>DOB_Month    </th><th>DOB_Year     </th><th>DOB_WeekNum  </th><th>DOB_WeekDay  </th><th>DOB_Weekend   </th><th>DOB_Season  </th><th>LCD_Day      </th><th>LCD_Month     </th><th>LCD_Year  </th><th>LCD_WeekNum  </th><th>LCD_WeekDay  </th><th>LCD_Weekend   </th><th>LCD_Season  </th><th>Employer_Category2Missing  </th><th>Existing_EMIMissing  </th><th>Loan_AmountMissing  </th><th>Loan_PeriodMissing  </th><th>Interest_RateMissing  </th><th>EMIMissing    </th></tr>\n",
       "</thead>\n",
       "<tbody>\n",
       "<tr><td>type   </td><td>enum    </td><td>enum       </td><td>enum           </td><td>enum           </td><td>enum                </td><td>enum                </td><td>real            </td><td>enum                                 </td><td>enum               </td><td>enum       </td><td>enum    </td><td>enum             </td><td>real          </td><td>int          </td><td>enum         </td><td>real           </td><td>int          </td><td>enum  </td><td>int          </td><td>int          </td><td>int          </td><td>int          </td><td>int          </td><td>enum         </td><td>int           </td><td>enum        </td><td>int          </td><td>int           </td><td>int       </td><td>int          </td><td>enum         </td><td>int           </td><td>enum        </td><td>int                        </td><td>int                  </td><td>int                 </td><td>int                 </td><td>int                   </td><td>int           </td></tr>\n",
       "<tr><td>mins   </td><td>        </td><td>           </td><td>               </td><td>               </td><td>                    </td><td>                    </td><td>0.0             </td><td>                                     </td><td>                   </td><td>           </td><td>        </td><td>                 </td><td>0.0           </td><td>5000.0       </td><td>             </td><td>11.99          </td><td>118.0        </td><td>      </td><td>18.0         </td><td>1.0          </td><td>1.0          </td><td>1933.0       </td><td>1.0          </td><td>             </td><td>0.0           </td><td>            </td><td>1.0          </td><td>7.0           </td><td>2016.0    </td><td>26.0         </td><td>             </td><td>0.0           </td><td>            </td><td>0.0                        </td><td>0.0                  </td><td>0.0                 </td><td>0.0                 </td><td>0.0                   </td><td>0.0           </td></tr>\n",
       "<tr><td>mean   </td><td>        </td><td>           </td><td>               </td><td>               </td><td>                    </td><td>                    </td><td>3977.13915171   </td><td>                                     </td><td>                   </td><td>           </td><td>        </td><td>                 </td><td>348.909059557 </td><td>39482.9902015</td><td>             </td><td>19.2805366763  </td><td>1094.9148363 </td><td>      </td><td>30.8875607645</td><td>14.571452354 </td><td>6.59535859359</td><td>1985.25484451</td><td>26.7379303456</td><td>             </td><td>0.283550287978</td><td>            </td><td>16.0961813763</td><td>8.06155741252 </td><td>2016.0    </td><td>33.0394846356</td><td>             </td><td>0.208675966308</td><td>            </td><td>0.943569597496             </td><td>0.998934647268       </td><td>0.604787428838      </td><td>0.604720844292      </td><td>0.321337017678        </td><td>0.321337017678</td></tr>\n",
       "<tr><td>maxs   </td><td>        </td><td>           </td><td>               </td><td>               </td><td>                    </td><td>                    </td><td>3500000.0       </td><td>                                     </td><td>                   </td><td>           </td><td>        </td><td>                 </td><td>43000.0       </td><td>300000.0     </td><td>             </td><td>37.0           </td><td>6979.0       </td><td>      </td><td>83.0         </td><td>31.0         </td><td>12.0         </td><td>1999.0       </td><td>53.0         </td><td>             </td><td>1.0           </td><td>            </td><td>31.0         </td><td>9.0           </td><td>2016.0    </td><td>39.0         </td><td>             </td><td>1.0           </td><td>            </td><td>1.0                        </td><td>1.0                  </td><td>1.0                 </td><td>1.0                 </td><td>1.0                   </td><td>1.0           </td></tr>\n",
       "<tr><td>sigma  </td><td>        </td><td>           </td><td>               </td><td>               </td><td>                    </td><td>                    </td><td>23289.6018757   </td><td>                                     </td><td>                   </td><td>           </td><td>        </td><td>                 </td><td>1000.81684747 </td><td>30527.8655936</td><td>             </td><td>5.8822462436   </td><td>727.452303167</td><td>      </td><td>7.08207632251</td><td>8.86878333963</td><td>3.26688026649</td><td>7.07018583374</td><td>14.3010106006</td><td>             </td><td>0.450728616465</td><td>            </td><td>8.92557217925</td><td>0.819207355098</td><td>0.0       </td><td>3.83535141408</td><td>             </td><td>0.406369050421</td><td>            </td><td>0.230754815587             </td><td>0.0326228935963      </td><td>0.488904441101      </td><td>0.488918707973      </td><td>0.466997643841        </td><td>0.466997643841</td></tr>\n",
       "<tr><td>zeros  </td><td>        </td><td>           </td><td>               </td><td>               </td><td>                    </td><td>                    </td><td>97              </td><td>                                     </td><td>                   </td><td>           </td><td>        </td><td>                 </td><td>20111         </td><td>0            </td><td>             </td><td>0              </td><td>0            </td><td>      </td><td>0            </td><td>0            </td><td>0            </td><td>0            </td><td>0            </td><td>             </td><td>21520         </td><td>            </td><td>0            </td><td>0             </td><td>0         </td><td>0            </td><td>             </td><td>23769         </td><td>            </td><td>1695                       </td><td>32                   </td><td>11871               </td><td>11873               </td><td>20385                 </td><td>20385         </td></tr>\n",
       "<tr><td>missing</td><td>0       </td><td>0          </td><td>0              </td><td>26827          </td><td>0                   </td><td>1695                </td><td>0               </td><td>0                                    </td><td>0                  </td><td>0          </td><td>0       </td><td>0                </td><td>32            </td><td>11871        </td><td>11873        </td><td>20385          </td><td>20385        </td><td>0     </td><td>3            </td><td>3            </td><td>3            </td><td>3            </td><td>3            </td><td>3            </td><td>0             </td><td>3           </td><td>0            </td><td>0             </td><td>0         </td><td>0            </td><td>0            </td><td>0             </td><td>0           </td><td>0                          </td><td>0                    </td><td>0                   </td><td>0                   </td><td>0                     </td><td>0             </td></tr>\n",
       "<tr><td>0      </td><td>Male    </td><td>Others     </td><td>C              </td><td>               </td><td>A                   </td><td>4                   </td><td>2150.0          </td><td>B002                                 </td><td>P                  </td><td>Y          </td><td>S122    </td><td>B                </td><td>0.0           </td><td>10000.0      </td><td>3            </td><td>20.0           </td><td>372.0        </td><td>4     </td><td>28.0         </td><td>3.0          </td><td>6.0          </td><td>1988.0       </td><td>22.0         </td><td>Fri          </td><td>0.0           </td><td>Summer      </td><td>5.0          </td><td>7.0           </td><td>2016.0    </td><td>27.0         </td><td>Tue          </td><td>0.0           </td><td>Summer      </td><td>1.0                        </td><td>1.0                  </td><td>1.0                 </td><td>1.0                 </td><td>1.0                   </td><td>1.0           </td></tr>\n",
       "<tr><td>1      </td><td>Male    </td><td>Others     </td><td>A              </td><td>               </td><td>C                   </td><td>4                   </td><td>4200.0          </td><td>B004                                 </td><td>P                  </td><td>Y          </td><td>S133    </td><td>C                </td><td>0.0           </td><td>69000.0      </td><td>5            </td><td>24.0           </td><td>1985.0       </td><td>7     </td><td>35.0         </td><td>13.0         </td><td>7.0          </td><td>1981.0       </td><td>29.0         </td><td>Mon          </td><td>0.0           </td><td>Summer      </td><td>1.0          </td><td>7.0           </td><td>2016.0    </td><td>26.0         </td><td>Fri          </td><td>0.0           </td><td>Summer      </td><td>1.0                        </td><td>1.0                  </td><td>1.0                 </td><td>1.0                 </td><td>1.0                   </td><td>1.0           </td></tr>\n",
       "<tr><td>2      </td><td>Female  </td><td>C10009     </td><td>B              </td><td>               </td><td>B                   </td><td>4                   </td><td>1000.0          </td><td>B002                                 </td><td>P                  </td><td>N          </td><td>S133    </td><td>B                </td><td>0.0           </td><td>nan          </td><td>             </td><td>nan            </td><td>nan          </td><td>0     </td><td>26.0         </td><td>19.0         </td><td>11.0         </td><td>1990.0       </td><td>47.0         </td><td>Mon          </td><td>0.0           </td><td>Winter      </td><td>1.0          </td><td>7.0           </td><td>2016.0    </td><td>26.0         </td><td>Fri          </td><td>0.0           </td><td>Summer      </td><td>1.0                        </td><td>1.0                  </td><td>0.0                 </td><td>0.0                 </td><td>0.0                   </td><td>0.0           </td></tr>\n",
       "<tr><td>3      </td><td>Female  </td><td>C10005     </td><td>A              </td><td>COM0000085     </td><td>A                   </td><td>3                   </td><td>1465.0          </td><td>B001                                 </td><td>P                  </td><td>N          </td><td>S133    </td><td>C                </td><td>0.0           </td><td>nan          </td><td>             </td><td>nan            </td><td>nan          </td><td>0     </td><td>24.0         </td><td>15.0         </td><td>10.0         </td><td>1992.0       </td><td>42.0         </td><td>Thu          </td><td>0.0           </td><td>Autumn      </td><td>1.0          </td><td>7.0           </td><td>2016.0    </td><td>26.0         </td><td>Fri          </td><td>0.0           </td><td>Summer      </td><td>1.0                        </td><td>1.0                  </td><td>0.0                 </td><td>0.0                 </td><td>0.0                   </td><td>0.0           </td></tr>\n",
       "<tr><td>4      </td><td>Male    </td><td>Others     </td><td>A              </td><td>               </td><td>A                   </td><td>4                   </td><td>2340.0          </td><td>B004                                 </td><td>P                  </td><td>Y          </td><td>S143    </td><td>B                </td><td>500.0         </td><td>10000.0      </td><td>2            </td><td>nan            </td><td>nan          </td><td>0     </td><td>28.0         </td><td>21.0         </td><td>9.0          </td><td>1988.0       </td><td>38.0         </td><td>Wed          </td><td>0.0           </td><td>Autumn      </td><td>1.0          </td><td>7.0           </td><td>2016.0    </td><td>26.0         </td><td>Fri          </td><td>0.0           </td><td>Summer      </td><td>1.0                        </td><td>1.0                  </td><td>1.0                 </td><td>1.0                 </td><td>0.0                   </td><td>0.0           </td></tr>\n",
       "<tr><td>5      </td><td>Female  </td><td>C10010     </td><td>A              </td><td>               </td><td>B                   </td><td>4                   </td><td>1500.0          </td><td>B004                                 </td><td>P                  </td><td>N          </td><td>S133    </td><td>B                </td><td>450.0         </td><td>nan          </td><td>             </td><td>nan            </td><td>nan          </td><td>0     </td><td>29.0         </td><td>26.0         </td><td>12.0         </td><td>1987.0       </td><td>52.0         </td><td>Sat          </td><td>1.0           </td><td>Winter      </td><td>1.0          </td><td>7.0           </td><td>2016.0    </td><td>26.0         </td><td>Fri          </td><td>0.0           </td><td>Summer      </td><td>1.0                        </td><td>1.0                  </td><td>0.0                 </td><td>0.0                 </td><td>0.0                   </td><td>0.0           </td></tr>\n",
       "<tr><td>6      </td><td>Female  </td><td>Others     </td><td>A              </td><td>               </td><td>A                   </td><td>4                   </td><td>6900.0          </td><td>B003                                 </td><td>G                  </td><td>N          </td><td>S134    </td><td>B                </td><td>3000.0        </td><td>nan          </td><td>             </td><td>nan            </td><td>nan          </td><td>0     </td><td>43.0         </td><td>22.0         </td><td>9.0          </td><td>1973.0       </td><td>38.0         </td><td>Sat          </td><td>1.0           </td><td>Autumn      </td><td>1.0          </td><td>7.0           </td><td>2016.0    </td><td>26.0         </td><td>Fri          </td><td>0.0           </td><td>Summer      </td><td>1.0                        </td><td>1.0                  </td><td>0.0                 </td><td>0.0                 </td><td>0.0                   </td><td>0.0           </td></tr>\n",
       "<tr><td>7      </td><td>Female  </td><td>Others     </td><td>A              </td><td>               </td><td>B                   </td><td>4                   </td><td>2055.5          </td><td>B002                                 </td><td>P                  </td><td>N          </td><td>S133    </td><td>B                </td><td>749.7         </td><td>nan          </td><td>             </td><td>nan            </td><td>nan          </td><td>0     </td><td>25.0         </td><td>18.0         </td><td>10.0         </td><td>1991.0       </td><td>42.0         </td><td>Fri          </td><td>0.0           </td><td>Autumn      </td><td>1.0          </td><td>7.0           </td><td>2016.0    </td><td>26.0         </td><td>Fri          </td><td>0.0           </td><td>Summer      </td><td>1.0                        </td><td>1.0                  </td><td>0.0                 </td><td>0.0                 </td><td>0.0                   </td><td>0.0           </td></tr>\n",
       "<tr><td>8      </td><td>Male    </td><td>C10014     </td><td>B              </td><td>               </td><td>A                   </td><td>4                   </td><td>3000.0          </td><td>B004                                 </td><td>P                  </td><td>Y          </td><td>S156    </td><td>B                </td><td>0.0           </td><td>10000.0      </td><td>1            </td><td>nan            </td><td>nan          </td><td>10    </td><td>25.0         </td><td>6.0          </td><td>8.0          </td><td>1991.0       </td><td>32.0         </td><td>Tue          </td><td>0.0           </td><td>Autumn      </td><td>1.0          </td><td>7.0           </td><td>2016.0    </td><td>26.0         </td><td>Fri          </td><td>0.0           </td><td>Summer      </td><td>1.0                        </td><td>1.0                  </td><td>1.0                 </td><td>1.0                 </td><td>0.0                   </td><td>0.0           </td></tr>\n",
       "<tr><td>9      </td><td>Male    </td><td>C10001     </td><td>A              </td><td>               </td><td>B                   </td><td>4                   </td><td>4040.0          </td><td>B002                                 </td><td>P                  </td><td>Y          </td><td>S133    </td><td>B                </td><td>0.0           </td><td>30000.0      </td><td>4            </td><td>nan            </td><td>nan          </td><td>10    </td><td>32.0         </td><td>13.0         </td><td>7.0          </td><td>1984.0       </td><td>28.0         </td><td>Fri          </td><td>0.0           </td><td>Summer      </td><td>1.0          </td><td>7.0           </td><td>2016.0    </td><td>26.0         </td><td>Fri          </td><td>0.0           </td><td>Summer      </td><td>1.0                        </td><td>1.0                  </td><td>1.0                 </td><td>1.0                 </td><td>0.0                   </td><td>0.0           </td></tr>\n",
       "</tbody>\n",
       "</table>"
      ]
     },
     "metadata": {},
     "output_type": "display_data"
    }
   ],
   "source": [
    "test.describe()"
   ]
  },
  {
   "cell_type": "code",
   "execution_count": null,
   "metadata": {},
   "outputs": [],
   "source": []
  },
  {
   "cell_type": "code",
   "execution_count": null,
   "metadata": {},
   "outputs": [],
   "source": []
  },
  {
   "cell_type": "markdown",
   "metadata": {},
   "source": [
    "### Defining Search Criteria"
   ]
  },
  {
   "cell_type": "code",
   "execution_count": 117,
   "metadata": {},
   "outputs": [],
   "source": [
    "# define the criteria for random grid search\n",
    "search_criteria = {'strategy': \"RandomDiscrete\", \n",
    "                   'max_models': 9,\n",
    "                   'seed': 1234}"
   ]
  },
  {
   "cell_type": "code",
   "execution_count": 118,
   "metadata": {},
   "outputs": [],
   "source": [
    "# Number of CV folds (to generate level-one data for stacking)\n",
    "nfolds = 5"
   ]
  },
  {
   "cell_type": "code",
   "execution_count": 119,
   "metadata": {},
   "outputs": [],
   "source": [
    "features = train.names\n",
    "features.remove(\"Approved\")"
   ]
  },
  {
   "cell_type": "code",
   "execution_count": 120,
   "metadata": {},
   "outputs": [
    {
     "data": {
      "text/plain": [
       "[u'Gender',\n",
       " u'City_Code',\n",
       " u'City_Category',\n",
       " u'Employer_Code',\n",
       " u'Employer_Category1',\n",
       " u'Employer_Category2',\n",
       " u'Monthly_Income',\n",
       " u'Customer_Existing_Primary_Bank_Code',\n",
       " u'Primary_Bank_Type',\n",
       " u'Contacted',\n",
       " u'Source',\n",
       " u'Source_Category',\n",
       " u'Existing_EMI',\n",
       " u'Loan_Amount',\n",
       " u'Loan_Period',\n",
       " u'Interest_Rate',\n",
       " u'EMI',\n",
       " u'Var1',\n",
       " u'age',\n",
       " u'DOB_Day',\n",
       " u'DOB_Month',\n",
       " u'DOB_Year',\n",
       " u'DOB_WeekNum',\n",
       " u'DOB_WeekDay',\n",
       " u'DOB_Weekend',\n",
       " u'DOB_Season',\n",
       " u'LCD_Day',\n",
       " u'LCD_Month',\n",
       " u'LCD_Year',\n",
       " u'LCD_WeekNum',\n",
       " u'LCD_WeekDay',\n",
       " u'LCD_Weekend',\n",
       " u'LCD_Season',\n",
       " u'Employer_Category2Missing',\n",
       " u'Existing_EMIMissing',\n",
       " u'Loan_AmountMissing',\n",
       " u'Loan_PeriodMissing',\n",
       " u'Interest_RateMissing',\n",
       " 'EMIMissing']"
      ]
     },
     "execution_count": 120,
     "metadata": {},
     "output_type": "execute_result"
    }
   ],
   "source": [
    "features"
   ]
  },
  {
   "cell_type": "markdown",
   "metadata": {},
   "source": [
    "## GBM"
   ]
  },
  {
   "cell_type": "code",
   "execution_count": 121,
   "metadata": {},
   "outputs": [],
   "source": [
    "# define the range of hyper-parameters for GBM grid search\n",
    "# 27 combinations in total\n",
    "hyper_params = {'sample_rate': [0.7, 0.8, 0.9],\n",
    "                'col_sample_rate': [0.7, 0.8, 0.9],\n",
    "                'max_depth': [3, 5, 7]}"
   ]
  },
  {
   "cell_type": "code",
   "execution_count": 122,
   "metadata": {},
   "outputs": [],
   "source": [
    "# Set up GBM grid search\n",
    "# Add a seed for reproducibility\n",
    "gbm_rand_grid = H2OGridSearch(\n",
    "                    H2OGradientBoostingEstimator(\n",
    "                        model_id = 'gbm_rand_grid', \n",
    "                        seed = 1234,\n",
    "                        ntrees = 10000,   \n",
    "                        nfolds = nfolds,\n",
    "                        fold_assignment = \"Modulo\",               # needed for stacked ensembles\n",
    "                        keep_cross_validation_predictions = True, # needed for stacked ensembles\n",
    "                        stopping_metric = 'mse', \n",
    "                        stopping_rounds = 15,     \n",
    "                        score_tree_interval = 1),\n",
    "                    search_criteria = search_criteria, # full grid search\n",
    "                    hyper_params = hyper_params)"
   ]
  },
  {
   "cell_type": "code",
   "execution_count": 123,
   "metadata": {},
   "outputs": [
    {
     "name": "stdout",
     "output_type": "stream",
     "text": [
      "gbm Grid Build progress: |████████████████████████████████████████████████| 100%\n"
     ]
    }
   ],
   "source": [
    "# Use .train() to start the grid search\n",
    "gbm_rand_grid.train(x = features, \n",
    "                    y = 'Approved', \n",
    "                    training_frame = train)"
   ]
  },
  {
   "cell_type": "code",
   "execution_count": 131,
   "metadata": {},
   "outputs": [
    {
     "name": "stdout",
     "output_type": "stream",
     "text": [
      "    col_sample_rate max_depth sample_rate  \\\n",
      "0               0.8         7         0.7   \n",
      "1               0.9         7         0.7   \n",
      "2               0.7         7         0.7   \n",
      "3               0.9         7         0.9   \n",
      "4               0.8         3         0.9   \n",
      "5               0.7         5         0.8   \n",
      "6               0.7         3         0.7   \n",
      "7               0.8         3         0.8   \n",
      "8               0.9         3         0.9   \n",
      "\n",
      "                                                           model_ids  \\\n",
      "0  Grid_GBM_py_242_sid_b199_model_python_1516480334597_16119_model_4   \n",
      "1  Grid_GBM_py_242_sid_b199_model_python_1516480334597_16119_model_6   \n",
      "2  Grid_GBM_py_242_sid_b199_model_python_1516480334597_16119_model_1   \n",
      "3  Grid_GBM_py_242_sid_b199_model_python_1516480334597_16119_model_5   \n",
      "4  Grid_GBM_py_242_sid_b199_model_python_1516480334597_16119_model_7   \n",
      "5  Grid_GBM_py_242_sid_b199_model_python_1516480334597_16119_model_0   \n",
      "6  Grid_GBM_py_242_sid_b199_model_python_1516480334597_16119_model_8   \n",
      "7  Grid_GBM_py_242_sid_b199_model_python_1516480334597_16119_model_3   \n",
      "8  Grid_GBM_py_242_sid_b199_model_python_1516480334597_16119_model_2   \n",
      "\n",
      "                  auc  \n",
      "0  0.8044087961127414  \n",
      "1  0.8052510773281406  \n",
      "2  0.8069889816669393  \n",
      "3  0.8138039152889112  \n",
      "4  0.8180674430108613  \n",
      "5  0.8180902569345907  \n",
      "6  0.8190292529164286  \n",
      "7   0.819557455550313  \n",
      "8  0.8213292418127486  \n",
      "\n"
     ]
    }
   ],
   "source": [
    "gbm_rand_grid_sorted = gbm_rand_grid.get_grid(sort_by='auc', decreasing=False)\n",
    "print(gbm_rand_grid_sorted)"
   ]
  },
  {
   "cell_type": "code",
   "execution_count": 132,
   "metadata": {},
   "outputs": [
    {
     "name": "stdout",
     "output_type": "stream",
     "text": [
      "Model Summary: \n"
     ]
    },
    {
     "data": {
      "text/html": [
       "<div style=\"overflow:auto\"><table style=\"width:50%\"><tr><td><b></b></td>\n",
       "<td><b>number_of_trees</b></td>\n",
       "<td><b>number_of_internal_trees</b></td>\n",
       "<td><b>model_size_in_bytes</b></td>\n",
       "<td><b>min_depth</b></td>\n",
       "<td><b>max_depth</b></td>\n",
       "<td><b>mean_depth</b></td>\n",
       "<td><b>min_leaves</b></td>\n",
       "<td><b>max_leaves</b></td>\n",
       "<td><b>mean_leaves</b></td></tr>\n",
       "<tr><td></td>\n",
       "<td>36.0</td>\n",
       "<td>36.0</td>\n",
       "<td>51973.0</td>\n",
       "<td>7.0</td>\n",
       "<td>7.0</td>\n",
       "<td>7.0</td>\n",
       "<td>55.0</td>\n",
       "<td>96.0</td>\n",
       "<td>74.44444</td></tr></table></div>"
      ],
      "text/plain": [
       "    number_of_trees    number_of_internal_trees    model_size_in_bytes    min_depth    max_depth    mean_depth    min_leaves    max_leaves    mean_leaves\n",
       "--  -----------------  --------------------------  ---------------------  -----------  -----------  ------------  ------------  ------------  -------------\n",
       "    36                 36                          51973                  7            7            7             55            96            74.4444"
      ]
     },
     "metadata": {},
     "output_type": "display_data"
    },
    {
     "data": {
      "text/plain": []
     },
     "execution_count": 132,
     "metadata": {},
     "output_type": "execute_result"
    }
   ],
   "source": [
    "best_model_id = gbm_rand_grid_sorted.model_ids[0]\n",
    "best_gbm_from_rand_grid = h2o.get_model(best_model_id)\n",
    "best_gbm_from_rand_grid.summary()"
   ]
  },
  {
   "cell_type": "code",
   "execution_count": 133,
   "metadata": {},
   "outputs": [
    {
     "name": "stdout",
     "output_type": "stream",
     "text": [
      "gbm prediction progress: |████████████████████████████████████████████████| 100%\n"
     ]
    }
   ],
   "source": [
    "preds = best_gbm_from_rand_grid.predict(test)"
   ]
  },
  {
   "cell_type": "code",
   "execution_count": 134,
   "metadata": {},
   "outputs": [],
   "source": [
    "preds=preds['p1']"
   ]
  },
  {
   "cell_type": "code",
   "execution_count": 135,
   "metadata": {},
   "outputs": [],
   "source": [
    "test_ids = pd.read_csv(\"test_ids.csv\", names = ['ID'])"
   ]
  },
  {
   "cell_type": "code",
   "execution_count": 136,
   "metadata": {},
   "outputs": [
    {
     "name": "stdout",
     "output_type": "stream",
     "text": [
      "Parse progress: |█████████████████████████████████████████████████████████| 100%\n"
     ]
    }
   ],
   "source": [
    "test_ids_hf = h2o.H2OFrame(test_ids)"
   ]
  },
  {
   "cell_type": "code",
   "execution_count": 137,
   "metadata": {},
   "outputs": [],
   "source": [
    "submission = pd.concat((h2o.as_list(test_ids_hf['ID']), h2o.as_list(preds)), axis=1, ignore_index=True)\n",
    "submission.columns = ['ID', 'Approved']\n",
    "submission = submission.set_index(['ID', 'Approved'])\n",
    "submission.to_csv('submission_h2o_gbm.csv')"
   ]
  },
  {
   "cell_type": "code",
   "execution_count": null,
   "metadata": {},
   "outputs": [],
   "source": []
  }
 ],
 "metadata": {
  "kernelspec": {
   "display_name": "Python 2",
   "language": "python",
   "name": "python2"
  },
  "language_info": {
   "codemirror_mode": {
    "name": "ipython",
    "version": 2
   },
   "file_extension": ".py",
   "mimetype": "text/x-python",
   "name": "python",
   "nbconvert_exporter": "python",
   "pygments_lexer": "ipython2",
   "version": "2.7.12"
  }
 },
 "nbformat": 4,
 "nbformat_minor": 2
}
